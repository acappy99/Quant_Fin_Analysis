{
 "cells": [
  {
   "cell_type": "code",
   "execution_count": 2,
   "metadata": {},
   "outputs": [
    {
     "data": {
      "text/html": [
       "<div>\n",
       "<style scoped>\n",
       "    .dataframe tbody tr th:only-of-type {\n",
       "        vertical-align: middle;\n",
       "    }\n",
       "\n",
       "    .dataframe tbody tr th {\n",
       "        vertical-align: top;\n",
       "    }\n",
       "\n",
       "    .dataframe thead th {\n",
       "        text-align: right;\n",
       "    }\n",
       "</style>\n",
       "<table border=\"1\" class=\"dataframe\">\n",
       "  <thead>\n",
       "    <tr style=\"text-align: right;\">\n",
       "      <th></th>\n",
       "      <th>Open</th>\n",
       "      <th>High</th>\n",
       "      <th>Low</th>\n",
       "      <th>Close</th>\n",
       "      <th>Volume</th>\n",
       "    </tr>\n",
       "    <tr>\n",
       "      <th>Date</th>\n",
       "      <th></th>\n",
       "      <th></th>\n",
       "      <th></th>\n",
       "      <th></th>\n",
       "      <th></th>\n",
       "    </tr>\n",
       "  </thead>\n",
       "  <tbody>\n",
       "    <tr>\n",
       "      <th>2000-01-03</th>\n",
       "      <td>1469.25</td>\n",
       "      <td>1478.00</td>\n",
       "      <td>1438.36</td>\n",
       "      <td>1455.17</td>\n",
       "      <td>1148860</td>\n",
       "    </tr>\n",
       "    <tr>\n",
       "      <th>2000-01-04</th>\n",
       "      <td>1455.22</td>\n",
       "      <td>1455.22</td>\n",
       "      <td>1397.43</td>\n",
       "      <td>1399.42</td>\n",
       "      <td>1212540</td>\n",
       "    </tr>\n",
       "    <tr>\n",
       "      <th>2000-01-05</th>\n",
       "      <td>1399.42</td>\n",
       "      <td>1413.27</td>\n",
       "      <td>1377.68</td>\n",
       "      <td>1402.11</td>\n",
       "      <td>1417700</td>\n",
       "    </tr>\n",
       "    <tr>\n",
       "      <th>2000-01-06</th>\n",
       "      <td>1402.11</td>\n",
       "      <td>1411.90</td>\n",
       "      <td>1392.02</td>\n",
       "      <td>1403.45</td>\n",
       "      <td>1316610</td>\n",
       "    </tr>\n",
       "    <tr>\n",
       "      <th>2000-01-07</th>\n",
       "      <td>1403.45</td>\n",
       "      <td>1441.47</td>\n",
       "      <td>1400.73</td>\n",
       "      <td>1441.47</td>\n",
       "      <td>1467850</td>\n",
       "    </tr>\n",
       "  </tbody>\n",
       "</table>\n",
       "</div>"
      ],
      "text/plain": [
       "               Open     High      Low    Close   Volume\n",
       "Date                                                   \n",
       "2000-01-03  1469.25  1478.00  1438.36  1455.17  1148860\n",
       "2000-01-04  1455.22  1455.22  1397.43  1399.42  1212540\n",
       "2000-01-05  1399.42  1413.27  1377.68  1402.11  1417700\n",
       "2000-01-06  1402.11  1411.90  1392.02  1403.45  1316610\n",
       "2000-01-07  1403.45  1441.47  1400.73  1441.47  1467850"
      ]
     },
     "execution_count": 2,
     "metadata": {},
     "output_type": "execute_result"
    }
   ],
   "source": [
    "import pandas as pd\n",
    "import numpy as np\n",
    "import matplotlib.pyplot as plt\n",
    "import statsmodels.formula.api as smf\n",
    "import statsmodels.stats.api as sms\n",
    "from statsmodels.compat import lzip\n",
    "from arch import arch_model\n",
    "from statsmodels.stats.diagnostic import het_arch\n",
    "\n",
    "abspath = '/Users/alexcappadona/Downloads/'\n",
    "data = pd.read_excel(abspath + 'SPXdaily.xlsx', index_col=0)\n",
    "data.head()"
   ]
  },
  {
   "cell_type": "code",
   "execution_count": 3,
   "metadata": {},
   "outputs": [
    {
     "data": {
      "text/html": [
       "<div>\n",
       "<style scoped>\n",
       "    .dataframe tbody tr th:only-of-type {\n",
       "        vertical-align: middle;\n",
       "    }\n",
       "\n",
       "    .dataframe tbody tr th {\n",
       "        vertical-align: top;\n",
       "    }\n",
       "\n",
       "    .dataframe thead th {\n",
       "        text-align: right;\n",
       "    }\n",
       "</style>\n",
       "<table border=\"1\" class=\"dataframe\">\n",
       "  <thead>\n",
       "    <tr style=\"text-align: right;\">\n",
       "      <th></th>\n",
       "      <th>Open</th>\n",
       "      <th>High</th>\n",
       "      <th>Low</th>\n",
       "      <th>Close</th>\n",
       "      <th>Volume</th>\n",
       "    </tr>\n",
       "    <tr>\n",
       "      <th>Date</th>\n",
       "      <th></th>\n",
       "      <th></th>\n",
       "      <th></th>\n",
       "      <th></th>\n",
       "      <th></th>\n",
       "    </tr>\n",
       "  </thead>\n",
       "  <tbody>\n",
       "    <tr>\n",
       "      <th>2021-11-22</th>\n",
       "      <td>4717.33</td>\n",
       "      <td>4743.83</td>\n",
       "      <td>4682.24</td>\n",
       "      <td>4682.94</td>\n",
       "      <td>2401188</td>\n",
       "    </tr>\n",
       "    <tr>\n",
       "      <th>2021-11-23</th>\n",
       "      <td>4678.30</td>\n",
       "      <td>4699.39</td>\n",
       "      <td>4652.66</td>\n",
       "      <td>4690.70</td>\n",
       "      <td>2182209</td>\n",
       "    </tr>\n",
       "    <tr>\n",
       "      <th>2021-11-24</th>\n",
       "      <td>4670.01</td>\n",
       "      <td>4702.87</td>\n",
       "      <td>4659.89</td>\n",
       "      <td>4701.46</td>\n",
       "      <td>1819169</td>\n",
       "    </tr>\n",
       "    <tr>\n",
       "      <th>2021-11-26</th>\n",
       "      <td>4643.06</td>\n",
       "      <td>4645.94</td>\n",
       "      <td>4585.43</td>\n",
       "      <td>4594.62</td>\n",
       "      <td>2120997</td>\n",
       "    </tr>\n",
       "    <tr>\n",
       "      <th>2021-11-29</th>\n",
       "      <td>4645.84</td>\n",
       "      <td>4672.95</td>\n",
       "      <td>4625.26</td>\n",
       "      <td>4655.27</td>\n",
       "      <td>2457202</td>\n",
       "    </tr>\n",
       "  </tbody>\n",
       "</table>\n",
       "</div>"
      ],
      "text/plain": [
       "               Open     High      Low    Close   Volume\n",
       "Date                                                   \n",
       "2021-11-22  4717.33  4743.83  4682.24  4682.94  2401188\n",
       "2021-11-23  4678.30  4699.39  4652.66  4690.70  2182209\n",
       "2021-11-24  4670.01  4702.87  4659.89  4701.46  1819169\n",
       "2021-11-26  4643.06  4645.94  4585.43  4594.62  2120997\n",
       "2021-11-29  4645.84  4672.95  4625.26  4655.27  2457202"
      ]
     },
     "execution_count": 3,
     "metadata": {},
     "output_type": "execute_result"
    }
   ],
   "source": [
    "data.tail()"
   ]
  },
  {
   "cell_type": "code",
   "execution_count": 4,
   "metadata": {},
   "outputs": [
    {
     "data": {
      "image/png": "[encoded data removed]",
      "text/plain": [
       "<Figure size 432x288 with 1 Axes>"
      ]
     },
     "metadata": {
      "needs_background": "light"
     },
     "output_type": "display_data"
    }
   ],
   "source": [
    "plt.figure(1)\n",
    "plt.plot(data['Close'], label='S&P 500 index')\n",
    "plt.xlabel('Date')\n",
    "plt.ylabel('S&P 500 index')\n",
    "plt.title('S&P 500 index')\n",
    "plt.grid(True)\n",
    "plt.legend()\n",
    "plt.show()"
   ]
  },
  {
   "cell_type": "code",
   "execution_count": 5,
   "metadata": {},
   "outputs": [
    {
     "data": {
      "text/html": [
       "<div>\n",
       "<style scoped>\n",
       "    .dataframe tbody tr th:only-of-type {\n",
       "        vertical-align: middle;\n",
       "    }\n",
       "\n",
       "    .dataframe tbody tr th {\n",
       "        vertical-align: top;\n",
       "    }\n",
       "\n",
       "    .dataframe thead th {\n",
       "        text-align: right;\n",
       "    }\n",
       "</style>\n",
       "<table border=\"1\" class=\"dataframe\">\n",
       "  <thead>\n",
       "    <tr style=\"text-align: right;\">\n",
       "      <th></th>\n",
       "      <th>Open</th>\n",
       "      <th>High</th>\n",
       "      <th>Low</th>\n",
       "      <th>Close</th>\n",
       "      <th>Volume</th>\n",
       "      <th>LogClose</th>\n",
       "      <th>ret</th>\n",
       "    </tr>\n",
       "    <tr>\n",
       "      <th>Date</th>\n",
       "      <th></th>\n",
       "      <th></th>\n",
       "      <th></th>\n",
       "      <th></th>\n",
       "      <th></th>\n",
       "      <th></th>\n",
       "      <th></th>\n",
       "    </tr>\n",
       "  </thead>\n",
       "  <tbody>\n",
       "    <tr>\n",
       "      <th>2000-01-04</th>\n",
       "      <td>1455.22</td>\n",
       "      <td>1455.22</td>\n",
       "      <td>1397.43</td>\n",
       "      <td>1399.42</td>\n",
       "      <td>1212540</td>\n",
       "      <td>7.243813</td>\n",
       "      <td>-3.906487</td>\n",
       "    </tr>\n",
       "    <tr>\n",
       "      <th>2000-01-05</th>\n",
       "      <td>1399.42</td>\n",
       "      <td>1413.27</td>\n",
       "      <td>1377.68</td>\n",
       "      <td>1402.11</td>\n",
       "      <td>1417700</td>\n",
       "      <td>7.245734</td>\n",
       "      <td>0.192038</td>\n",
       "    </tr>\n",
       "    <tr>\n",
       "      <th>2000-01-06</th>\n",
       "      <td>1402.11</td>\n",
       "      <td>1411.90</td>\n",
       "      <td>1392.02</td>\n",
       "      <td>1403.45</td>\n",
       "      <td>1316610</td>\n",
       "      <td>7.246689</td>\n",
       "      <td>0.095525</td>\n",
       "    </tr>\n",
       "    <tr>\n",
       "      <th>2000-01-07</th>\n",
       "      <td>1403.45</td>\n",
       "      <td>1441.47</td>\n",
       "      <td>1400.73</td>\n",
       "      <td>1441.47</td>\n",
       "      <td>1467850</td>\n",
       "      <td>7.273419</td>\n",
       "      <td>2.672994</td>\n",
       "    </tr>\n",
       "    <tr>\n",
       "      <th>2000-01-10</th>\n",
       "      <td>1441.47</td>\n",
       "      <td>1464.36</td>\n",
       "      <td>1441.47</td>\n",
       "      <td>1457.60</td>\n",
       "      <td>1244300</td>\n",
       "      <td>7.284547</td>\n",
       "      <td>1.112782</td>\n",
       "    </tr>\n",
       "  </tbody>\n",
       "</table>\n",
       "</div>"
      ],
      "text/plain": [
       "               Open     High      Low    Close   Volume  LogClose       ret\n",
       "Date                                                                       \n",
       "2000-01-04  1455.22  1455.22  1397.43  1399.42  1212540  7.243813 -3.906487\n",
       "2000-01-05  1399.42  1413.27  1377.68  1402.11  1417700  7.245734  0.192038\n",
       "2000-01-06  1402.11  1411.90  1392.02  1403.45  1316610  7.246689  0.095525\n",
       "2000-01-07  1403.45  1441.47  1400.73  1441.47  1467850  7.273419  2.672994\n",
       "2000-01-10  1441.47  1464.36  1441.47  1457.60  1244300  7.284547  1.112782"
      ]
     },
     "execution_count": 5,
     "metadata": {},
     "output_type": "execute_result"
    }
   ],
   "source": [
    "data['LogClose']=np.log(data['Close']) # compute log of price \n",
    "data['ret']=100*data['LogClose'].diff() # diff() computes the daily change in log price\n",
    "data=data.dropna()\n",
    "data.head()"
   ]
  },
  {
   "cell_type": "code",
   "execution_count": 6,
   "metadata": {},
   "outputs": [],
   "source": [
    "# if variance changes over time in a predictable way, we need a GARCH/ARCH model"
   ]
  },
  {
   "cell_type": "code",
   "execution_count": 7,
   "metadata": {},
   "outputs": [
    {
     "name": "stdout",
     "output_type": "stream",
     "text": [
      "                            OLS Regression Results                            \n",
      "==============================================================================\n",
      "Dep. Variable:                    ret   R-squared:                      -0.000\n",
      "Model:                            OLS   Adj. R-squared:                 -0.000\n",
      "Method:                 Least Squares   F-statistic:                       nan\n",
      "Date:                Tue, 07 Dec 2021   Prob (F-statistic):                nan\n",
      "Time:                        19:37:06   Log-Likelihood:                -9007.9\n",
      "No. Observations:                5512   AIC:                         1.802e+04\n",
      "Df Residuals:                    5511   BIC:                         1.802e+04\n",
      "Df Model:                           0                                         \n",
      "Covariance Type:            nonrobust                                         \n",
      "==============================================================================\n",
      "                 coef    std err          t      P>|t|      [0.025      0.975]\n",
      "------------------------------------------------------------------------------\n",
      "Intercept      0.0211      0.017      1.263      0.207      -0.012       0.054\n",
      "==============================================================================\n",
      "Omnibus:                     1165.304   Durbin-Watson:                   2.225\n",
      "Prob(Omnibus):                  0.000   Jarque-Bera (JB):            28297.710\n",
      "Skew:                          -0.406   Prob(JB):                         0.00\n",
      "Kurtosis:                      14.070   Cond. No.                         1.00\n",
      "==============================================================================\n",
      "\n",
      "Notes:\n",
      "[1] Standard Errors assume that the covariance matrix of the errors is correctly specified.\n"
     ]
    }
   ],
   "source": [
    "formula = 'ret ~ 1'\n",
    "results = smf.ols(formula, data).fit()\n",
    "print(results.summary())"
   ]
  },
  {
   "cell_type": "code",
   "execution_count": 8,
   "metadata": {},
   "outputs": [
    {
     "data": {
      "text/plain": [
       "[('lm', 1624.618349702691),\n",
       " ('lmpval', 0.0),\n",
       " ('fval', 230.07225397926584),\n",
       " ('fpval', 0.0)]"
      ]
     },
     "execution_count": 8,
     "metadata": {},
     "output_type": "execute_result"
    }
   ],
   "source": [
    "# ARCH test\n",
    "res = het_arch(results.resid,nlags=10) # resid is the variable we are analyzing\n",
    "name = ['lm','lmpval','fval','fpval'] \n",
    "lzip(name,res)"
   ]
  },
  {
   "cell_type": "code",
   "execution_count": 9,
   "metadata": {},
   "outputs": [
    {
     "name": "stderr",
     "output_type": "stream",
     "text": [
      "No handles with labels found to put in legend.\n"
     ]
    },
    {
     "data": {
      "image/png": "[encoded data removed]",
      "text/plain": [
       "<Figure size 432x288 with 1 Axes>"
      ]
     },
     "metadata": {
      "needs_background": "light"
     },
     "output_type": "display_data"
    }
   ],
   "source": [
    "plt.figure(1)\n",
    "plt.plot(results.resid) #data set, name of variable\n",
    "plt.xlabel('Date')\n",
    "plt.ylabel('Residual')\n",
    "plt.title('Residual')\n",
    "plt.grid(True)\n",
    "plt.legend()\n",
    "plt.show()"
   ]
  },
  {
   "cell_type": "code",
   "execution_count": 10,
   "metadata": {},
   "outputs": [],
   "source": [
    "# for the project: \n",
    "# trying to generate a forecast for tomorrow's volatility "
   ]
  },
  {
   "cell_type": "code",
   "execution_count": 11,
   "metadata": {},
   "outputs": [
    {
     "name": "stdout",
     "output_type": "stream",
     "text": [
      "Iteration:      1,   Func. Count:      6,   Neg. LLF: 7583.543041918723\n",
      "Iteration:      2,   Func. Count:     16,   Neg. LLF: 7578.078844014088\n",
      "Iteration:      3,   Func. Count:     24,   Neg. LLF: 7565.063890424915\n",
      "Iteration:      4,   Func. Count:     32,   Neg. LLF: 7559.185668504735\n",
      "Iteration:      5,   Func. Count:     39,   Neg. LLF: 7555.932350694919\n",
      "Iteration:      6,   Func. Count:     46,   Neg. LLF: 7554.463720469106\n",
      "Iteration:      7,   Func. Count:     53,   Neg. LLF: 7553.215528340851\n",
      "Iteration:      8,   Func. Count:     60,   Neg. LLF: 7552.440730945412\n",
      "Iteration:      9,   Func. Count:     66,   Neg. LLF: 7552.160265301816\n",
      "Iteration:     10,   Func. Count:     72,   Neg. LLF: 7551.830479584547\n",
      "Iteration:     11,   Func. Count:     78,   Neg. LLF: 7551.827120572438\n",
      "Iteration:     12,   Func. Count:     84,   Neg. LLF: 7551.827100595176\n",
      "Optimization terminated successfully.    (Exit mode 0)\n",
      "            Current function value: 7551.827100592509\n",
      "            Iterations: 12\n",
      "            Function evaluations: 84\n",
      "            Gradient evaluations: 12\n"
     ]
    },
    {
     "name": "stderr",
     "output_type": "stream",
     "text": [
      "/opt/anaconda3/lib/python3.7/site-packages/matplotlib/cbook/__init__.py:1402: FutureWarning: Support for multi-dimensional indexing (e.g. `obj[:, None]`) is deprecated and will be removed in a future version.  Convert to a numpy array before indexing instead.\n",
      "  x[:, None]\n",
      "/opt/anaconda3/lib/python3.7/site-packages/matplotlib/axes/_base.py:278: FutureWarning: Support for multi-dimensional indexing (e.g. `obj[:, None]`) is deprecated and will be removed in a future version.  Convert to a numpy array before indexing instead.\n",
      "  y = y[:, np.newaxis]\n"
     ]
    },
    {
     "data": {
      "image/png": "[encoded data removed]",
      "text/plain": [
       "<Figure size 432x288 with 2 Axes>"
      ]
     },
     "metadata": {
      "needs_background": "light"
     },
     "output_type": "display_data"
    }
   ],
   "source": [
    "# Use GARCH model\n",
    "\n",
    "model = arch_model(data['ret'], mean='constant', vol='GARCH', p=1, q=1)\n",
    "model_fit = model.fit()\n",
    "# Plot the results\n",
    "model_fit.plot()\n",
    "plt.show()"
   ]
  },
  {
   "cell_type": "code",
   "execution_count": 12,
   "metadata": {},
   "outputs": [
    {
     "name": "stdout",
     "output_type": "stream",
     "text": [
      "                     Constant Mean - GARCH Model Results                      \n",
      "==============================================================================\n",
      "Dep. Variable:                    ret   R-squared:                       0.000\n",
      "Mean Model:             Constant Mean   Adj. R-squared:                  0.000\n",
      "Vol Model:                      GARCH   Log-Likelihood:               -7551.83\n",
      "Distribution:                  Normal   AIC:                           15111.7\n",
      "Method:            Maximum Likelihood   BIC:                           15138.1\n",
      "                                        No. Observations:                 5512\n",
      "Date:                Tue, Dec 07 2021   Df Residuals:                     5511\n",
      "Time:                        19:37:10   Df Model:                            1\n",
      "                                 Mean Model                                 \n",
      "============================================================================\n",
      "                 coef    std err          t      P>|t|      95.0% Conf. Int.\n",
      "----------------------------------------------------------------------------\n",
      "mu             0.0608  1.084e-02      5.610  2.020e-08 [3.957e-02,8.207e-02]\n",
      "                              Volatility Model                              \n",
      "============================================================================\n",
      "                 coef    std err          t      P>|t|      95.0% Conf. Int.\n",
      "----------------------------------------------------------------------------\n",
      "omega          0.0241  5.068e-03      4.764  1.898e-06 [1.421e-02,3.408e-02]\n",
      "alpha[1]       0.1257  1.343e-02      9.361  7.871e-21   [9.938e-02,  0.152]\n",
      "beta[1]        0.8568  1.374e-02     62.373      0.000     [  0.830,  0.884]\n",
      "============================================================================\n",
      "\n",
      "Covariance estimator: robust\n"
     ]
    }
   ],
   "source": [
    "print(model_fit)"
   ]
  },
  {
   "cell_type": "code",
   "execution_count": 13,
   "metadata": {},
   "outputs": [
    {
     "name": "stdout",
     "output_type": "stream",
     "text": [
      "                 h.1\n",
      "Date                \n",
      "2021-11-29  1.021567\n"
     ]
    },
    {
     "name": "stderr",
     "output_type": "stream",
     "text": [
      "/opt/anaconda3/lib/python3.7/site-packages/arch/__future__/_utility.py:21: FutureWarning: \n",
      "The default for reindex is True. After September 2021 this will change to\n",
      "False. Set reindex to True or False to silence this message. Alternatively,\n",
      "you can use the import comment\n",
      "\n",
      "from arch.__future__ import reindexing\n",
      "\n",
      "to globally set reindex to True and silence this warning.\n",
      "\n",
      "  FutureWarning,\n"
     ]
    }
   ],
   "source": [
    "# want to make 1-period forecast for Nov 30\n",
    "cv_forecast = model_fit.forecast(horizon=1) # forecast for Nov 30, 2021\n",
    "print(cv_forecast.variance[-1:]**0.5) # print the forecast sigma"
   ]
  },
  {
   "cell_type": "code",
   "execution_count": 14,
   "metadata": {},
   "outputs": [
    {
     "data": {
      "image/png": "[encoded data removed]",
      "text/plain": [
       "<Figure size 432x288 with 1 Axes>"
      ]
     },
     "metadata": {
      "needs_background": "light"
     },
     "output_type": "display_data"
    }
   ],
   "source": [
    "resid = model_fit.resid\n",
    "cond_std = model_fit.conditional_volatility\n",
    "cond_std.plot()\n",
    "plt.show()"
   ]
  },
  {
   "cell_type": "code",
   "execution_count": 15,
   "metadata": {},
   "outputs": [
    {
     "data": {
      "text/html": [
       "<div>\n",
       "<style scoped>\n",
       "    .dataframe tbody tr th:only-of-type {\n",
       "        vertical-align: middle;\n",
       "    }\n",
       "\n",
       "    .dataframe tbody tr th {\n",
       "        vertical-align: top;\n",
       "    }\n",
       "\n",
       "    .dataframe thead th {\n",
       "        text-align: right;\n",
       "    }\n",
       "</style>\n",
       "<table border=\"1\" class=\"dataframe\">\n",
       "  <thead>\n",
       "    <tr style=\"text-align: right;\">\n",
       "      <th></th>\n",
       "      <th>resid</th>\n",
       "      <th>cond_vol</th>\n",
       "    </tr>\n",
       "    <tr>\n",
       "      <th>Date</th>\n",
       "      <th></th>\n",
       "      <th></th>\n",
       "    </tr>\n",
       "  </thead>\n",
       "  <tbody>\n",
       "    <tr>\n",
       "      <th>2000-01-04</th>\n",
       "      <td>-3.967310</td>\n",
       "      <td>1.620494</td>\n",
       "    </tr>\n",
       "    <tr>\n",
       "      <th>2000-01-05</th>\n",
       "      <td>0.131215</td>\n",
       "      <td>2.062179</td>\n",
       "    </tr>\n",
       "    <tr>\n",
       "      <th>2000-01-06</th>\n",
       "      <td>0.034701</td>\n",
       "      <td>1.915721</td>\n",
       "    </tr>\n",
       "    <tr>\n",
       "      <th>2000-01-07</th>\n",
       "      <td>2.612170</td>\n",
       "      <td>1.780111</td>\n",
       "    </tr>\n",
       "    <tr>\n",
       "      <th>2000-01-10</th>\n",
       "      <td>1.051959</td>\n",
       "      <td>1.896553</td>\n",
       "    </tr>\n",
       "  </tbody>\n",
       "</table>\n",
       "</div>"
      ],
      "text/plain": [
       "               resid  cond_vol\n",
       "Date                          \n",
       "2000-01-04 -3.967310  1.620494\n",
       "2000-01-05  0.131215  2.062179\n",
       "2000-01-06  0.034701  1.915721\n",
       "2000-01-07  2.612170  1.780111\n",
       "2000-01-10  1.051959  1.896553"
      ]
     },
     "execution_count": 15,
     "metadata": {},
     "output_type": "execute_result"
    }
   ],
   "source": [
    "# f. perform an arch test on the standardized residuals\n",
    "\n",
    "st_residuals = pd.merge(resid, cond_std, how=\"inner\", on=\"Date\")\n",
    "st_residuals.head()"
   ]
  },
  {
   "cell_type": "code",
   "execution_count": 16,
   "metadata": {},
   "outputs": [],
   "source": [
    "st_residuals = st_residuals.resid/st_residuals.cond_vol"
   ]
  },
  {
   "cell_type": "code",
   "execution_count": 17,
   "metadata": {},
   "outputs": [
    {
     "data": {
      "text/plain": [
       "count    5512.000000\n",
       "mean       -0.048310\n",
       "std         0.999225\n",
       "min        -6.753283\n",
       "25%        -0.581435\n",
       "50%         0.003505\n",
       "75%         0.557465\n",
       "max         3.552174\n",
       "dtype: float64"
      ]
     },
     "execution_count": 17,
     "metadata": {},
     "output_type": "execute_result"
    }
   ],
   "source": [
    "st_residuals.describe()"
   ]
  },
  {
   "cell_type": "code",
   "execution_count": 18,
   "metadata": {},
   "outputs": [
    {
     "data": {
      "image/png": "[encoded data removed]",
      "text/plain": [
       "<Figure size 432x288 with 1 Axes>"
      ]
     },
     "metadata": {
      "needs_background": "light"
     },
     "output_type": "display_data"
    }
   ],
   "source": [
    "st_residuals.plot()\n",
    "plt.show()"
   ]
  },
  {
   "cell_type": "code",
   "execution_count": 19,
   "metadata": {},
   "outputs": [
    {
     "data": {
      "text/plain": [
       "[('lm', 14.768893829523142),\n",
       " ('lmpval', 0.1407174882640008),\n",
       " ('fval', 1.4779037815031764),\n",
       " ('fpval', 0.14067757656913857)]"
      ]
     },
     "execution_count": 19,
     "metadata": {},
     "output_type": "execute_result"
    }
   ],
   "source": [
    "# ARCH test on standardized residuals\n",
    "res = het_arch(st_residuals,nlags=10)\n",
    "name = ['lm','lmpval','fval','fpval'] \n",
    "lzip(name,res)"
   ]
  },
  {
   "cell_type": "code",
   "execution_count": 20,
   "metadata": {},
   "outputs": [
    {
     "data": {
      "text/plain": [
       "-2.8159663521890224"
      ]
     },
     "execution_count": 20,
     "metadata": {},
     "output_type": "execute_result"
    }
   ],
   "source": [
    "np.quantile(st_residuals, 0.01)"
   ]
  },
  {
   "cell_type": "code",
   "execution_count": 21,
   "metadata": {},
   "outputs": [
    {
     "data": {
      "text/plain": [
       "2.194025605327687"
      ]
     },
     "execution_count": 21,
     "metadata": {},
     "output_type": "execute_result"
    }
   ],
   "source": [
    "np.quantile(st_residuals, 0.99)"
   ]
  },
  {
   "cell_type": "code",
   "execution_count": 22,
   "metadata": {},
   "outputs": [],
   "source": [
    "# save to csv\n",
    "cond_std.to_csv('/Users/alexcappadona/Downloads/ConStdSP500.csv')"
   ]
  },
  {
   "cell_type": "code",
   "execution_count": null,
   "metadata": {},
   "outputs": [],
   "source": []
  }
 ],
 "metadata": {
  "kernelspec": {
   "display_name": "Python 3",
   "language": "python",
   "name": "python3"
  },
  "language_info": {
   "codemirror_mode": {
    "name": "ipython",
    "version": 3
   },
   "file_extension": ".py",
   "mimetype": "text/x-python",
   "name": "python",
   "nbconvert_exporter": "python",
   "pygments_lexer": "ipython3",
   "version": "3.7.4"
  }
 },
 "nbformat": 4,
 "nbformat_minor": 5
}
