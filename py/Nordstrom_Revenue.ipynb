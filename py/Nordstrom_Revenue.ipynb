{
 "cells": [
  {
   "cell_type": "code",
   "execution_count": 4,
   "metadata": {},
   "outputs": [
    {
     "name": "stdout",
     "output_type": "stream",
     "text": [
      "Requirement already satisfied: arch in /opt/anaconda3/lib/python3.7/site-packages (5.1.0)\n",
      "Requirement already satisfied: statsmodels>=0.11 in /opt/anaconda3/lib/python3.7/site-packages (from arch) (0.13.1)\n",
      "Requirement already satisfied: pandas>=1.0 in /opt/anaconda3/lib/python3.7/site-packages (from arch) (1.3.4)\n",
      "Requirement already satisfied: numpy>=1.17 in /opt/anaconda3/lib/python3.7/site-packages (from arch) (1.17.2)\n",
      "Requirement already satisfied: property-cached>=1.6.4 in /opt/anaconda3/lib/python3.7/site-packages (from arch) (1.6.4)\n",
      "Requirement already satisfied: scipy>=1.3 in /opt/anaconda3/lib/python3.7/site-packages (from arch) (1.3.1)\n",
      "Requirement already satisfied: patsy>=0.5.2 in /opt/anaconda3/lib/python3.7/site-packages (from statsmodels>=0.11->arch) (0.5.2)\n",
      "Requirement already satisfied: python-dateutil>=2.7.3 in /opt/anaconda3/lib/python3.7/site-packages (from pandas>=1.0->arch) (2.8.0)\n",
      "Requirement already satisfied: pytz>=2017.3 in /opt/anaconda3/lib/python3.7/site-packages (from pandas>=1.0->arch) (2019.3)\n",
      "Requirement already satisfied: six in /opt/anaconda3/lib/python3.7/site-packages (from patsy>=0.5.2->statsmodels>=0.11->arch) (1.12.0)\n",
      "Note: you may need to restart the kernel to use updated packages.\n"
     ]
    }
   ],
   "source": [
    "pip install arch"
   ]
  },
  {
   "cell_type": "code",
   "execution_count": 2,
   "metadata": {},
   "outputs": [
    {
     "data": {
      "text/html": [
       "<div>\n",
       "<style scoped>\n",
       "    .dataframe tbody tr th:only-of-type {\n",
       "        vertical-align: middle;\n",
       "    }\n",
       "\n",
       "    .dataframe tbody tr th {\n",
       "        vertical-align: top;\n",
       "    }\n",
       "\n",
       "    .dataframe thead th {\n",
       "        text-align: right;\n",
       "    }\n",
       "</style>\n",
       "<table border=\"1\" class=\"dataframe\">\n",
       "  <thead>\n",
       "    <tr style=\"text-align: right;\">\n",
       "      <th></th>\n",
       "      <th>fyearq</th>\n",
       "      <th>fqtr</th>\n",
       "      <th>tic</th>\n",
       "      <th>conm</th>\n",
       "      <th>datacqtr</th>\n",
       "      <th>niq</th>\n",
       "      <th>revtq</th>\n",
       "    </tr>\n",
       "    <tr>\n",
       "      <th>datadate</th>\n",
       "      <th></th>\n",
       "      <th></th>\n",
       "      <th></th>\n",
       "      <th></th>\n",
       "      <th></th>\n",
       "      <th></th>\n",
       "      <th></th>\n",
       "    </tr>\n",
       "  </thead>\n",
       "  <tbody>\n",
       "    <tr>\n",
       "      <th>1973-04-30</th>\n",
       "      <td>1973</td>\n",
       "      <td>1</td>\n",
       "      <td>JWN</td>\n",
       "      <td>NORDSTROM INC</td>\n",
       "      <td>1973Q1</td>\n",
       "      <td>0.985</td>\n",
       "      <td>20.490</td>\n",
       "    </tr>\n",
       "    <tr>\n",
       "      <th>1973-07-31</th>\n",
       "      <td>1973</td>\n",
       "      <td>2</td>\n",
       "      <td>JWN</td>\n",
       "      <td>NORDSTROM INC</td>\n",
       "      <td>1973Q2</td>\n",
       "      <td>0.793</td>\n",
       "      <td>24.250</td>\n",
       "    </tr>\n",
       "    <tr>\n",
       "      <th>1973-10-31</th>\n",
       "      <td>1973</td>\n",
       "      <td>3</td>\n",
       "      <td>JWN</td>\n",
       "      <td>NORDSTROM INC</td>\n",
       "      <td>1973Q3</td>\n",
       "      <td>1.516</td>\n",
       "      <td>26.424</td>\n",
       "    </tr>\n",
       "    <tr>\n",
       "      <th>1974-01-31</th>\n",
       "      <td>1973</td>\n",
       "      <td>4</td>\n",
       "      <td>JWN</td>\n",
       "      <td>NORDSTROM INC</td>\n",
       "      <td>1973Q4</td>\n",
       "      <td>1.078</td>\n",
       "      <td>30.270</td>\n",
       "    </tr>\n",
       "    <tr>\n",
       "      <th>1974-04-30</th>\n",
       "      <td>1974</td>\n",
       "      <td>1</td>\n",
       "      <td>JWN</td>\n",
       "      <td>NORDSTROM INC</td>\n",
       "      <td>1974Q1</td>\n",
       "      <td>1.035</td>\n",
       "      <td>23.650</td>\n",
       "    </tr>\n",
       "  </tbody>\n",
       "</table>\n",
       "</div>"
      ],
      "text/plain": [
       "            fyearq  fqtr  tic           conm datacqtr    niq   revtq\n",
       "datadate                                                            \n",
       "1973-04-30    1973     1  JWN  NORDSTROM INC   1973Q1  0.985  20.490\n",
       "1973-07-31    1973     2  JWN  NORDSTROM INC   1973Q2  0.793  24.250\n",
       "1973-10-31    1973     3  JWN  NORDSTROM INC   1973Q3  1.516  26.424\n",
       "1974-01-31    1973     4  JWN  NORDSTROM INC   1973Q4  1.078  30.270\n",
       "1974-04-30    1974     1  JWN  NORDSTROM INC   1974Q1  1.035  23.650"
      ]
     },
     "execution_count": 2,
     "metadata": {},
     "output_type": "execute_result"
    }
   ],
   "source": [
    "import numpy as np\n",
    "import pandas as pd\n",
    "from arch.unitroot import ADF\n",
    "import statsmodels.tsa.api as smt\n",
    "import statsmodels.stats.api as sms\n",
    "import matplotlib.pyplot as plt\n",
    "from statsmodels.compat import lzip\n",
    "data = pd.read_excel('/Users/alexcappadona/Downloads/Nordstrom2019.xlsx', index_col=0)\n",
    "data.head()"
   ]
  },
  {
   "cell_type": "code",
   "execution_count": 3,
   "metadata": {},
   "outputs": [
    {
     "data": {
      "text/html": [
       "<div>\n",
       "<style scoped>\n",
       "    .dataframe tbody tr th:only-of-type {\n",
       "        vertical-align: middle;\n",
       "    }\n",
       "\n",
       "    .dataframe tbody tr th {\n",
       "        vertical-align: top;\n",
       "    }\n",
       "\n",
       "    .dataframe thead th {\n",
       "        text-align: right;\n",
       "    }\n",
       "</style>\n",
       "<table border=\"1\" class=\"dataframe\">\n",
       "  <thead>\n",
       "    <tr style=\"text-align: right;\">\n",
       "      <th></th>\n",
       "      <th>fyearq</th>\n",
       "      <th>fqtr</th>\n",
       "      <th>tic</th>\n",
       "      <th>conm</th>\n",
       "      <th>datacqtr</th>\n",
       "      <th>niq</th>\n",
       "      <th>revtq</th>\n",
       "    </tr>\n",
       "    <tr>\n",
       "      <th>datadate</th>\n",
       "      <th></th>\n",
       "      <th></th>\n",
       "      <th></th>\n",
       "      <th></th>\n",
       "      <th></th>\n",
       "      <th></th>\n",
       "      <th></th>\n",
       "    </tr>\n",
       "  </thead>\n",
       "  <tbody>\n",
       "    <tr>\n",
       "      <th>2019-01-31</th>\n",
       "      <td>2018</td>\n",
       "      <td>4</td>\n",
       "      <td>JWN</td>\n",
       "      <td>NORDSTROM INC</td>\n",
       "      <td>2018Q4</td>\n",
       "      <td>248.0</td>\n",
       "      <td>4483.0</td>\n",
       "    </tr>\n",
       "    <tr>\n",
       "      <th>2019-04-30</th>\n",
       "      <td>2019</td>\n",
       "      <td>1</td>\n",
       "      <td>JWN</td>\n",
       "      <td>NORDSTROM INC</td>\n",
       "      <td>2019Q1</td>\n",
       "      <td>37.0</td>\n",
       "      <td>3443.0</td>\n",
       "    </tr>\n",
       "    <tr>\n",
       "      <th>2019-07-31</th>\n",
       "      <td>2019</td>\n",
       "      <td>2</td>\n",
       "      <td>JWN</td>\n",
       "      <td>NORDSTROM INC</td>\n",
       "      <td>2019Q2</td>\n",
       "      <td>140.0</td>\n",
       "      <td>3872.0</td>\n",
       "    </tr>\n",
       "    <tr>\n",
       "      <th>2019-10-31</th>\n",
       "      <td>2019</td>\n",
       "      <td>3</td>\n",
       "      <td>JWN</td>\n",
       "      <td>NORDSTROM INC</td>\n",
       "      <td>2019Q3</td>\n",
       "      <td>127.0</td>\n",
       "      <td>3672.0</td>\n",
       "    </tr>\n",
       "    <tr>\n",
       "      <th>2020-01-31</th>\n",
       "      <td>2019</td>\n",
       "      <td>4</td>\n",
       "      <td>JWN</td>\n",
       "      <td>NORDSTROM INC</td>\n",
       "      <td>2019Q4</td>\n",
       "      <td>192.0</td>\n",
       "      <td>4537.0</td>\n",
       "    </tr>\n",
       "  </tbody>\n",
       "</table>\n",
       "</div>"
      ],
      "text/plain": [
       "            fyearq  fqtr  tic           conm datacqtr    niq   revtq\n",
       "datadate                                                            \n",
       "2019-01-31    2018     4  JWN  NORDSTROM INC   2018Q4  248.0  4483.0\n",
       "2019-04-30    2019     1  JWN  NORDSTROM INC   2019Q1   37.0  3443.0\n",
       "2019-07-31    2019     2  JWN  NORDSTROM INC   2019Q2  140.0  3872.0\n",
       "2019-10-31    2019     3  JWN  NORDSTROM INC   2019Q3  127.0  3672.0\n",
       "2020-01-31    2019     4  JWN  NORDSTROM INC   2019Q4  192.0  4537.0"
      ]
     },
     "execution_count": 3,
     "metadata": {},
     "output_type": "execute_result"
    }
   ],
   "source": [
    "data.tail()"
   ]
  },
  {
   "cell_type": "code",
   "execution_count": 4,
   "metadata": {},
   "outputs": [
    {
     "data": {
      "image/png": "[encoded data removed]",
      "text/plain": [
       "<Figure size 432x288 with 1 Axes>"
      ]
     },
     "metadata": {
      "needs_background": "light"
     },
     "output_type": "display_data"
    }
   ],
   "source": [
    "plt.figure(1)\n",
    "plt.plot(data['revtq'], label='Revenue')\n",
    "plt.xlabel('Date')\n",
    "plt.ylabel('Revenue')\n",
    "plt.title('Nordstrom Revenue')\n",
    "plt.grid(True)\n",
    "plt.legend()\n",
    "plt.show()"
   ]
  },
  {
   "cell_type": "code",
   "execution_count": 16,
   "metadata": {},
   "outputs": [
    {
     "data": {
      "text/html": [
       "<div>\n",
       "<style scoped>\n",
       "    .dataframe tbody tr th:only-of-type {\n",
       "        vertical-align: middle;\n",
       "    }\n",
       "\n",
       "    .dataframe tbody tr th {\n",
       "        vertical-align: top;\n",
       "    }\n",
       "\n",
       "    .dataframe thead th {\n",
       "        text-align: right;\n",
       "    }\n",
       "</style>\n",
       "<table border=\"1\" class=\"dataframe\">\n",
       "  <thead>\n",
       "    <tr style=\"text-align: right;\">\n",
       "      <th></th>\n",
       "      <th>fyearq</th>\n",
       "      <th>fqtr</th>\n",
       "      <th>tic</th>\n",
       "      <th>conm</th>\n",
       "      <th>datacqtr</th>\n",
       "      <th>niq</th>\n",
       "      <th>revtq</th>\n",
       "      <th>LogRev</th>\n",
       "      <th>dLogRev</th>\n",
       "    </tr>\n",
       "    <tr>\n",
       "      <th>datadate</th>\n",
       "      <th></th>\n",
       "      <th></th>\n",
       "      <th></th>\n",
       "      <th></th>\n",
       "      <th></th>\n",
       "      <th></th>\n",
       "      <th></th>\n",
       "      <th></th>\n",
       "      <th></th>\n",
       "    </tr>\n",
       "  </thead>\n",
       "  <tbody>\n",
       "    <tr>\n",
       "      <th>1974-01-31</th>\n",
       "      <td>1973</td>\n",
       "      <td>4</td>\n",
       "      <td>JWN</td>\n",
       "      <td>NORDSTROM INC</td>\n",
       "      <td>1973Q4</td>\n",
       "      <td>1.078</td>\n",
       "      <td>30.270</td>\n",
       "      <td>3.410157</td>\n",
       "      <td>0.135884</td>\n",
       "    </tr>\n",
       "    <tr>\n",
       "      <th>1974-04-30</th>\n",
       "      <td>1974</td>\n",
       "      <td>1</td>\n",
       "      <td>JWN</td>\n",
       "      <td>NORDSTROM INC</td>\n",
       "      <td>1974Q1</td>\n",
       "      <td>1.035</td>\n",
       "      <td>23.650</td>\n",
       "      <td>3.163363</td>\n",
       "      <td>-0.246794</td>\n",
       "    </tr>\n",
       "    <tr>\n",
       "      <th>1974-07-31</th>\n",
       "      <td>1974</td>\n",
       "      <td>2</td>\n",
       "      <td>JWN</td>\n",
       "      <td>NORDSTROM INC</td>\n",
       "      <td>1974Q2</td>\n",
       "      <td>0.983</td>\n",
       "      <td>32.619</td>\n",
       "      <td>3.484895</td>\n",
       "      <td>0.321532</td>\n",
       "    </tr>\n",
       "    <tr>\n",
       "      <th>1974-10-31</th>\n",
       "      <td>1974</td>\n",
       "      <td>3</td>\n",
       "      <td>JWN</td>\n",
       "      <td>NORDSTROM INC</td>\n",
       "      <td>1974Q3</td>\n",
       "      <td>1.731</td>\n",
       "      <td>33.067</td>\n",
       "      <td>3.498536</td>\n",
       "      <td>0.013641</td>\n",
       "    </tr>\n",
       "    <tr>\n",
       "      <th>1975-01-31</th>\n",
       "      <td>1974</td>\n",
       "      <td>4</td>\n",
       "      <td>JWN</td>\n",
       "      <td>NORDSTROM INC</td>\n",
       "      <td>1974Q4</td>\n",
       "      <td>1.416</td>\n",
       "      <td>39.432</td>\n",
       "      <td>3.674578</td>\n",
       "      <td>0.176042</td>\n",
       "    </tr>\n",
       "  </tbody>\n",
       "</table>\n",
       "</div>"
      ],
      "text/plain": [
       "            fyearq  fqtr  tic           conm datacqtr    niq   revtq  \\\n",
       "datadate                                                               \n",
       "1974-01-31    1973     4  JWN  NORDSTROM INC   1973Q4  1.078  30.270   \n",
       "1974-04-30    1974     1  JWN  NORDSTROM INC   1974Q1  1.035  23.650   \n",
       "1974-07-31    1974     2  JWN  NORDSTROM INC   1974Q2  0.983  32.619   \n",
       "1974-10-31    1974     3  JWN  NORDSTROM INC   1974Q3  1.731  33.067   \n",
       "1975-01-31    1974     4  JWN  NORDSTROM INC   1974Q4  1.416  39.432   \n",
       "\n",
       "              LogRev   dLogRev  \n",
       "datadate                        \n",
       "1974-01-31  3.410157  0.135884  \n",
       "1974-04-30  3.163363 -0.246794  \n",
       "1974-07-31  3.484895  0.321532  \n",
       "1974-10-31  3.498536  0.013641  \n",
       "1975-01-31  3.674578  0.176042  "
      ]
     },
     "execution_count": 16,
     "metadata": {},
     "output_type": "execute_result"
    }
   ],
   "source": [
    "data['LogRev']=np.log(data['revtq']) #compute log return of revenue\n",
    "data['dLogRev']=(data['LogRev']).diff()\n",
    "data=data.dropna()\n",
    "data.head()"
   ]
  },
  {
   "cell_type": "code",
   "execution_count": 17,
   "metadata": {},
   "outputs": [
    {
     "data": {
      "image/png": "[encoded data removed]",
      "text/plain": [
       "<Figure size 432x288 with 1 Axes>"
      ]
     },
     "metadata": {
      "needs_background": "light"
     },
     "output_type": "display_data"
    }
   ],
   "source": [
    "plt.figure(2)\n",
    "plt.plot(data['LogRev'], label='Log of Revenue')\n",
    "plt.xlabel('Date')\n",
    "plt.ylabel('Log of Revenue')\n",
    "plt.title('Nordstrom Log Revenue')\n",
    "plt.grid(True)\n",
    "plt.legend()\n",
    "plt.show()"
   ]
  },
  {
   "cell_type": "code",
   "execution_count": 19,
   "metadata": {},
   "outputs": [
    {
     "data": {
      "image/png": "[encoded data removed]",
      "text/plain": [
       "<Figure size 432x288 with 1 Axes>"
      ]
     },
     "metadata": {
      "needs_background": "light"
     },
     "output_type": "display_data"
    }
   ],
   "source": [
    "plt.figure(2)\n",
    "plt.plot(data['dLogRev'], label='Log of Revenue')\n",
    "plt.xlabel('Date')\n",
    "plt.ylabel('Log of Revenue')\n",
    "plt.title('Nordstrom Log Revenue')\n",
    "plt.grid(True)\n",
    "plt.legend()\n",
    "plt.show()"
   ]
  },
  {
   "cell_type": "code",
   "execution_count": 24,
   "metadata": {},
   "outputs": [
    {
     "name": "stdout",
     "output_type": "stream",
     "text": [
      "   Augmented Dickey-Fuller Results   \n",
      "=====================================\n",
      "Test Statistic                 -1.788\n",
      "P-value                         0.711\n",
      "Lags                                4\n",
      "-------------------------------------\n",
      "\n",
      "Trend: Constant and Linear Time Trend\n",
      "Critical Values: -4.01 (1%), -3.44 (5%), -3.14 (10%)\n",
      "Null Hypothesis: The process contains a unit root.\n",
      "Alternative Hypothesis: The process is weakly stationary.\n"
     ]
    }
   ],
   "source": [
    "res = ADF(data['LogRev'], trend=\"ct\", lags=4) # trend=\"ct\" --> means include constant and linear trend\n",
    "print(res.summary())"
   ]
  },
  {
   "cell_type": "code",
   "execution_count": 25,
   "metadata": {},
   "outputs": [
    {
     "name": "stdout",
     "output_type": "stream",
     "text": [
      "   Augmented Dickey-Fuller Results   \n",
      "=====================================\n",
      "Test Statistic                 -4.150\n",
      "P-value                         0.005\n",
      "Lags                                4\n",
      "-------------------------------------\n",
      "\n",
      "Trend: Constant and Linear Time Trend\n",
      "Critical Values: -4.01 (1%), -3.44 (5%), -3.14 (10%)\n",
      "Null Hypothesis: The process contains a unit root.\n",
      "Alternative Hypothesis: The process is weakly stationary.\n"
     ]
    }
   ],
   "source": [
    "res = ADF(data['dLogRev'], trend=\"ct\", lags=4) # trend=\"ct\" --> means include constant and linear trend\n",
    "print(res.summary())"
   ]
  },
  {
   "cell_type": "code",
   "execution_count": 30,
   "metadata": {},
   "outputs": [
    {
     "name": "stderr",
     "output_type": "stream",
     "text": [
      "/opt/anaconda3/lib/python3.7/site-packages/statsmodels/tsa/base/tsa_model.py:539: ValueWarning: No frequency information was provided, so inferred frequency Q-OCT will be used.\n",
      "  % freq, ValueWarning)\n",
      "/opt/anaconda3/lib/python3.7/site-packages/statsmodels/tsa/base/tsa_model.py:539: ValueWarning: No frequency information was provided, so inferred frequency Q-OCT will be used.\n",
      "  % freq, ValueWarning)\n",
      "/opt/anaconda3/lib/python3.7/site-packages/statsmodels/tsa/base/tsa_model.py:539: ValueWarning: No frequency information was provided, so inferred frequency Q-OCT will be used.\n",
      "  % freq, ValueWarning)\n"
     ]
    },
    {
     "name": "stdout",
     "output_type": "stream",
     "text": [
      "                               SARIMAX Results                                \n",
      "==============================================================================\n",
      "Dep. Variable:                dLogRev   No. Observations:                  185\n",
      "Model:                 ARIMA(8, 0, 0)   Log Likelihood                 349.188\n",
      "Date:                Mon, 29 Nov 2021   AIC                           -676.375\n",
      "Time:                        14:32:37   BIC                           -640.952\n",
      "Sample:                    01-31-1974   HQIC                          -662.019\n",
      "                         - 01-31-2020                                         \n",
      "Covariance Type:                  opg                                         \n",
      "==============================================================================\n",
      "                 coef    std err          z      P>|z|      [0.025      0.975]\n",
      "------------------------------------------------------------------------------\n",
      "const          0.0530      0.006      9.635      0.000       0.042       0.064\n",
      "x1            -0.0003    5.7e-05     -4.962      0.000      -0.000      -0.000\n",
      "ar.L1         -0.2268      0.066     -3.451      0.001      -0.356      -0.098\n",
      "ar.L2         -0.0351      0.085     -0.414      0.679      -0.201       0.131\n",
      "ar.L3         -0.0880      0.081     -1.084      0.278      -0.247       0.071\n",
      "ar.L4          0.5564      0.079      7.064      0.000       0.402       0.711\n",
      "ar.L5          0.0024      0.074      0.032      0.974      -0.142       0.147\n",
      "ar.L6         -0.1484      0.082     -1.814      0.070      -0.309       0.012\n",
      "ar.L7         -0.1237      0.074     -1.676      0.094      -0.268       0.021\n",
      "ar.L8          0.1890      0.080      2.376      0.017       0.033       0.345\n",
      "sigma2         0.0013      0.000      8.798      0.000       0.001       0.002\n",
      "===================================================================================\n",
      "Ljung-Box (L1) (Q):                   0.09   Jarque-Bera (JB):                 0.29\n",
      "Prob(Q):                              0.76   Prob(JB):                         0.87\n",
      "Heteroskedasticity (H):               0.57   Skew:                             0.09\n",
      "Prob(H) (two-sided):                  0.03   Kurtosis:                         3.05\n",
      "===================================================================================\n",
      "\n",
      "Warnings:\n",
      "[1] Covariance matrix calculated using the outer product of gradients (complex-step).\n"
     ]
    }
   ],
   "source": [
    "model = smt.arima.ARIMA(data['dLogRev'], trend=\"ct\", order=(8,0,0)) #part 1.c of project\n",
    "results = model.fit()\n",
    "print(results.summary())\n",
    "residuals = results.resid"
   ]
  },
  {
   "cell_type": "code",
   "execution_count": 31,
   "metadata": {},
   "outputs": [
    {
     "data": {
      "text/plain": [
       "datadate\n",
       "1974-01-31    0.083167\n",
       "1974-04-30   -0.220211\n",
       "1974-07-31    0.002112\n",
       "1974-10-31    0.063939\n",
       "1975-01-31    0.038542\n",
       "dtype: float64"
      ]
     },
     "execution_count": 31,
     "metadata": {},
     "output_type": "execute_result"
    }
   ],
   "source": [
    "residuals.head()"
   ]
  },
  {
   "cell_type": "code",
   "execution_count": 32,
   "metadata": {},
   "outputs": [
    {
     "data": {
      "text/plain": [
       "[('Ljung-Box statistic', 'lb_stat'), ('p-value', 'lb_pvalue')]"
      ]
     },
     "execution_count": 32,
     "metadata": {},
     "output_type": "execute_result"
    }
   ],
   "source": [
    "#Ljung-Box test\n",
    "name = ['Ljung-Box statistic', 'p-value']       #name\n",
    "test=sms.acorr_ljungbox(residuals, lags=4)      #test\n",
    "lzip(name, test)\n",
    "\n",
    "# this is not right:"
   ]
  },
  {
   "cell_type": "code",
   "execution_count": 33,
   "metadata": {},
   "outputs": [
    {
     "data": {
      "image/png": "[encoded data removed]",
      "text/plain": [
       "<Figure size 432x288 with 1 Axes>"
      ]
     },
     "metadata": {
      "needs_background": "light"
     },
     "output_type": "display_data"
    }
   ],
   "source": [
    "smt.graphics.plot_acf(residuals, lags=10)\n",
    "plt.show()"
   ]
  },
  {
   "cell_type": "code",
   "execution_count": 34,
   "metadata": {},
   "outputs": [
    {
     "data": {
      "text/html": [
       "<div>\n",
       "<style scoped>\n",
       "    .dataframe tbody tr th:only-of-type {\n",
       "        vertical-align: middle;\n",
       "    }\n",
       "\n",
       "    .dataframe tbody tr th {\n",
       "        vertical-align: top;\n",
       "    }\n",
       "\n",
       "    .dataframe thead th {\n",
       "        text-align: right;\n",
       "    }\n",
       "</style>\n",
       "<table border=\"1\" class=\"dataframe\">\n",
       "  <thead>\n",
       "    <tr style=\"text-align: right;\">\n",
       "      <th></th>\n",
       "      <th>fyearq</th>\n",
       "      <th>fqtr</th>\n",
       "      <th>tic</th>\n",
       "      <th>conm</th>\n",
       "      <th>datacqtr</th>\n",
       "      <th>niq</th>\n",
       "      <th>revtq</th>\n",
       "      <th>LogRev</th>\n",
       "      <th>dLogRev</th>\n",
       "    </tr>\n",
       "    <tr>\n",
       "      <th>datadate</th>\n",
       "      <th></th>\n",
       "      <th></th>\n",
       "      <th></th>\n",
       "      <th></th>\n",
       "      <th></th>\n",
       "      <th></th>\n",
       "      <th></th>\n",
       "      <th></th>\n",
       "      <th></th>\n",
       "    </tr>\n",
       "  </thead>\n",
       "  <tbody>\n",
       "    <tr>\n",
       "      <th>2019-01-31</th>\n",
       "      <td>2018</td>\n",
       "      <td>4</td>\n",
       "      <td>JWN</td>\n",
       "      <td>NORDSTROM INC</td>\n",
       "      <td>2018Q4</td>\n",
       "      <td>248.0</td>\n",
       "      <td>4483.0</td>\n",
       "      <td>8.408048</td>\n",
       "      <td>0.179070</td>\n",
       "    </tr>\n",
       "    <tr>\n",
       "      <th>2019-04-30</th>\n",
       "      <td>2019</td>\n",
       "      <td>1</td>\n",
       "      <td>JWN</td>\n",
       "      <td>NORDSTROM INC</td>\n",
       "      <td>2019Q1</td>\n",
       "      <td>37.0</td>\n",
       "      <td>3443.0</td>\n",
       "      <td>8.144098</td>\n",
       "      <td>-0.263949</td>\n",
       "    </tr>\n",
       "    <tr>\n",
       "      <th>2019-07-31</th>\n",
       "      <td>2019</td>\n",
       "      <td>2</td>\n",
       "      <td>JWN</td>\n",
       "      <td>NORDSTROM INC</td>\n",
       "      <td>2019Q2</td>\n",
       "      <td>140.0</td>\n",
       "      <td>3872.0</td>\n",
       "      <td>8.261526</td>\n",
       "      <td>0.117428</td>\n",
       "    </tr>\n",
       "    <tr>\n",
       "      <th>2019-10-31</th>\n",
       "      <td>2019</td>\n",
       "      <td>3</td>\n",
       "      <td>JWN</td>\n",
       "      <td>NORDSTROM INC</td>\n",
       "      <td>2019Q3</td>\n",
       "      <td>127.0</td>\n",
       "      <td>3672.0</td>\n",
       "      <td>8.208492</td>\n",
       "      <td>-0.053035</td>\n",
       "    </tr>\n",
       "    <tr>\n",
       "      <th>2020-01-31</th>\n",
       "      <td>2019</td>\n",
       "      <td>4</td>\n",
       "      <td>JWN</td>\n",
       "      <td>NORDSTROM INC</td>\n",
       "      <td>2019Q4</td>\n",
       "      <td>192.0</td>\n",
       "      <td>4537.0</td>\n",
       "      <td>8.420021</td>\n",
       "      <td>0.211530</td>\n",
       "    </tr>\n",
       "  </tbody>\n",
       "</table>\n",
       "</div>"
      ],
      "text/plain": [
       "            fyearq  fqtr  tic           conm datacqtr    niq   revtq  \\\n",
       "datadate                                                               \n",
       "2019-01-31    2018     4  JWN  NORDSTROM INC   2018Q4  248.0  4483.0   \n",
       "2019-04-30    2019     1  JWN  NORDSTROM INC   2019Q1   37.0  3443.0   \n",
       "2019-07-31    2019     2  JWN  NORDSTROM INC   2019Q2  140.0  3872.0   \n",
       "2019-10-31    2019     3  JWN  NORDSTROM INC   2019Q3  127.0  3672.0   \n",
       "2020-01-31    2019     4  JWN  NORDSTROM INC   2019Q4  192.0  4537.0   \n",
       "\n",
       "              LogRev   dLogRev  \n",
       "datadate                        \n",
       "2019-01-31  8.408048  0.179070  \n",
       "2019-04-30  8.144098 -0.263949  \n",
       "2019-07-31  8.261526  0.117428  \n",
       "2019-10-31  8.208492 -0.053035  \n",
       "2020-01-31  8.420021  0.211530  "
      ]
     },
     "execution_count": 34,
     "metadata": {},
     "output_type": "execute_result"
    }
   ],
   "source": [
    "data.tail()"
   ]
  },
  {
   "cell_type": "code",
   "execution_count": 35,
   "metadata": {},
   "outputs": [
    {
     "data": {
      "text/html": [
       "<div>\n",
       "<style scoped>\n",
       "    .dataframe tbody tr th:only-of-type {\n",
       "        vertical-align: middle;\n",
       "    }\n",
       "\n",
       "    .dataframe tbody tr th {\n",
       "        vertical-align: top;\n",
       "    }\n",
       "\n",
       "    .dataframe thead th {\n",
       "        text-align: right;\n",
       "    }\n",
       "</style>\n",
       "<table border=\"1\" class=\"dataframe\">\n",
       "  <thead>\n",
       "    <tr style=\"text-align: right;\">\n",
       "      <th></th>\n",
       "      <th>fyearq</th>\n",
       "      <th>fqtr</th>\n",
       "      <th>tic</th>\n",
       "      <th>conm</th>\n",
       "      <th>datacqtr</th>\n",
       "      <th>niq</th>\n",
       "      <th>revtq</th>\n",
       "      <th>LogRev</th>\n",
       "      <th>dLogRev</th>\n",
       "    </tr>\n",
       "    <tr>\n",
       "      <th>datadate</th>\n",
       "      <th></th>\n",
       "      <th></th>\n",
       "      <th></th>\n",
       "      <th></th>\n",
       "      <th></th>\n",
       "      <th></th>\n",
       "      <th></th>\n",
       "      <th></th>\n",
       "      <th></th>\n",
       "    </tr>\n",
       "  </thead>\n",
       "  <tbody>\n",
       "    <tr>\n",
       "      <th>2018-01-31</th>\n",
       "      <td>2017</td>\n",
       "      <td>4</td>\n",
       "      <td>JWN</td>\n",
       "      <td>NORDSTROM INC</td>\n",
       "      <td>2017Q4</td>\n",
       "      <td>151.0</td>\n",
       "      <td>4702.0</td>\n",
       "      <td>8.455743</td>\n",
       "      <td>0.259306</td>\n",
       "    </tr>\n",
       "    <tr>\n",
       "      <th>2018-04-30</th>\n",
       "      <td>2018</td>\n",
       "      <td>1</td>\n",
       "      <td>JWN</td>\n",
       "      <td>NORDSTROM INC</td>\n",
       "      <td>2018Q1</td>\n",
       "      <td>87.0</td>\n",
       "      <td>3561.0</td>\n",
       "      <td>8.177797</td>\n",
       "      <td>-0.277947</td>\n",
       "    </tr>\n",
       "    <tr>\n",
       "      <th>2018-07-31</th>\n",
       "      <td>2018</td>\n",
       "      <td>2</td>\n",
       "      <td>JWN</td>\n",
       "      <td>NORDSTROM INC</td>\n",
       "      <td>2018Q2</td>\n",
       "      <td>162.0</td>\n",
       "      <td>4068.0</td>\n",
       "      <td>8.310907</td>\n",
       "      <td>0.133110</td>\n",
       "    </tr>\n",
       "    <tr>\n",
       "      <th>2018-10-31</th>\n",
       "      <td>2018</td>\n",
       "      <td>3</td>\n",
       "      <td>JWN</td>\n",
       "      <td>NORDSTROM INC</td>\n",
       "      <td>2018Q3</td>\n",
       "      <td>67.0</td>\n",
       "      <td>3748.0</td>\n",
       "      <td>8.228978</td>\n",
       "      <td>-0.081929</td>\n",
       "    </tr>\n",
       "    <tr>\n",
       "      <th>2019-01-31</th>\n",
       "      <td>2018</td>\n",
       "      <td>4</td>\n",
       "      <td>JWN</td>\n",
       "      <td>NORDSTROM INC</td>\n",
       "      <td>2018Q4</td>\n",
       "      <td>248.0</td>\n",
       "      <td>4483.0</td>\n",
       "      <td>8.408048</td>\n",
       "      <td>0.179070</td>\n",
       "    </tr>\n",
       "  </tbody>\n",
       "</table>\n",
       "</div>"
      ],
      "text/plain": [
       "            fyearq  fqtr  tic           conm datacqtr    niq   revtq  \\\n",
       "datadate                                                               \n",
       "2018-01-31    2017     4  JWN  NORDSTROM INC   2017Q4  151.0  4702.0   \n",
       "2018-04-30    2018     1  JWN  NORDSTROM INC   2018Q1   87.0  3561.0   \n",
       "2018-07-31    2018     2  JWN  NORDSTROM INC   2018Q2  162.0  4068.0   \n",
       "2018-10-31    2018     3  JWN  NORDSTROM INC   2018Q3   67.0  3748.0   \n",
       "2019-01-31    2018     4  JWN  NORDSTROM INC   2018Q4  248.0  4483.0   \n",
       "\n",
       "              LogRev   dLogRev  \n",
       "datadate                        \n",
       "2018-01-31  8.455743  0.259306  \n",
       "2018-04-30  8.177797 -0.277947  \n",
       "2018-07-31  8.310907  0.133110  \n",
       "2018-10-31  8.228978 -0.081929  \n",
       "2019-01-31  8.408048  0.179070  "
      ]
     },
     "execution_count": 35,
     "metadata": {},
     "output_type": "execute_result"
    }
   ],
   "source": [
    "data_insample = data['1973-07-31':'2019-01-31']\n",
    "data_insample.tail()"
   ]
  },
  {
   "cell_type": "code",
   "execution_count": 38,
   "metadata": {},
   "outputs": [
    {
     "name": "stderr",
     "output_type": "stream",
     "text": [
      "/opt/anaconda3/lib/python3.7/site-packages/statsmodels/tsa/base/tsa_model.py:539: ValueWarning: No frequency information was provided, so inferred frequency Q-OCT will be used.\n",
      "  % freq, ValueWarning)\n",
      "/opt/anaconda3/lib/python3.7/site-packages/statsmodels/tsa/base/tsa_model.py:539: ValueWarning: No frequency information was provided, so inferred frequency Q-OCT will be used.\n",
      "  % freq, ValueWarning)\n",
      "/opt/anaconda3/lib/python3.7/site-packages/statsmodels/tsa/base/tsa_model.py:539: ValueWarning: No frequency information was provided, so inferred frequency Q-OCT will be used.\n",
      "  % freq, ValueWarning)\n"
     ]
    },
    {
     "name": "stdout",
     "output_type": "stream",
     "text": [
      "                               SARIMAX Results                                \n",
      "==============================================================================\n",
      "Dep. Variable:                dLogRev   No. Observations:                  185\n",
      "Model:                 ARIMA(8, 0, 0)   Log Likelihood                 349.188\n",
      "Date:                Mon, 29 Nov 2021   AIC                           -676.375\n",
      "Time:                        14:51:35   BIC                           -640.952\n",
      "Sample:                    01-31-1974   HQIC                          -662.019\n",
      "                         - 01-31-2020                                         \n",
      "Covariance Type:                  opg                                         \n",
      "==============================================================================\n",
      "                 coef    std err          z      P>|z|      [0.025      0.975]\n",
      "------------------------------------------------------------------------------\n",
      "const          0.0530      0.006      9.635      0.000       0.042       0.064\n",
      "x1            -0.0003    5.7e-05     -4.962      0.000      -0.000      -0.000\n",
      "ar.L1         -0.2268      0.066     -3.451      0.001      -0.356      -0.098\n",
      "ar.L2         -0.0351      0.085     -0.414      0.679      -0.201       0.131\n",
      "ar.L3         -0.0880      0.081     -1.084      0.278      -0.247       0.071\n",
      "ar.L4          0.5564      0.079      7.064      0.000       0.402       0.711\n",
      "ar.L5          0.0024      0.074      0.032      0.974      -0.142       0.147\n",
      "ar.L6         -0.1484      0.082     -1.814      0.070      -0.309       0.012\n",
      "ar.L7         -0.1237      0.074     -1.676      0.094      -0.268       0.021\n",
      "ar.L8          0.1890      0.080      2.376      0.017       0.033       0.345\n",
      "sigma2         0.0013      0.000      8.798      0.000       0.001       0.002\n",
      "===================================================================================\n",
      "Ljung-Box (L1) (Q):                   0.09   Jarque-Bera (JB):                 0.29\n",
      "Prob(Q):                              0.76   Prob(JB):                         0.87\n",
      "Heteroskedasticity (H):               0.57   Skew:                             0.09\n",
      "Prob(H) (two-sided):                  0.03   Kurtosis:                         3.05\n",
      "===================================================================================\n",
      "\n",
      "Warnings:\n",
      "[1] Covariance matrix calculated using the outer product of gradients (complex-step).\n"
     ]
    },
    {
     "ename": "ValueError",
     "evalue": "could not convert string to Timestamp",
     "output_type": "error",
     "traceback": [
      "\u001b[0;31m---------------------------------------------------------------------------\u001b[0m",
      "\u001b[0;31mValueError\u001b[0m                                Traceback (most recent call last)",
      "\u001b[0;32m/opt/anaconda3/lib/python3.7/site-packages/pandas/_libs/tslibs/conversion.pyx\u001b[0m in \u001b[0;36mpandas._libs.tslibs.conversion._convert_str_to_tsobject\u001b[0;34m()\u001b[0m\n",
      "\u001b[0;32m/opt/anaconda3/lib/python3.7/site-packages/pandas/_libs/tslibs/parsing.pyx\u001b[0m in \u001b[0;36mpandas._libs.tslibs.parsing.parse_datetime_string\u001b[0;34m()\u001b[0m\n",
      "\u001b[0;32m/opt/anaconda3/lib/python3.7/site-packages/dateutil/parser/_parser.py\u001b[0m in \u001b[0;36mparse\u001b[0;34m(timestr, parserinfo, **kwargs)\u001b[0m\n\u001b[1;32m   1357\u001b[0m     \u001b[0;32melse\u001b[0m\u001b[0;34m:\u001b[0m\u001b[0;34m\u001b[0m\u001b[0;34m\u001b[0m\u001b[0m\n\u001b[0;32m-> 1358\u001b[0;31m         \u001b[0;32mreturn\u001b[0m \u001b[0mDEFAULTPARSER\u001b[0m\u001b[0;34m.\u001b[0m\u001b[0mparse\u001b[0m\u001b[0;34m(\u001b[0m\u001b[0mtimestr\u001b[0m\u001b[0;34m,\u001b[0m \u001b[0;34m**\u001b[0m\u001b[0mkwargs\u001b[0m\u001b[0;34m)\u001b[0m\u001b[0;34m\u001b[0m\u001b[0;34m\u001b[0m\u001b[0m\n\u001b[0m\u001b[1;32m   1359\u001b[0m \u001b[0;34m\u001b[0m\u001b[0m\n",
      "\u001b[0;32m/opt/anaconda3/lib/python3.7/site-packages/dateutil/parser/_parser.py\u001b[0m in \u001b[0;36mparse\u001b[0;34m(self, timestr, default, ignoretz, tzinfos, **kwargs)\u001b[0m\n\u001b[1;32m    653\u001b[0m \u001b[0;34m\u001b[0m\u001b[0m\n\u001b[0;32m--> 654\u001b[0;31m         \u001b[0mret\u001b[0m \u001b[0;34m=\u001b[0m \u001b[0mself\u001b[0m\u001b[0;34m.\u001b[0m\u001b[0m_build_naive\u001b[0m\u001b[0;34m(\u001b[0m\u001b[0mres\u001b[0m\u001b[0;34m,\u001b[0m \u001b[0mdefault\u001b[0m\u001b[0;34m)\u001b[0m\u001b[0;34m\u001b[0m\u001b[0;34m\u001b[0m\u001b[0m\n\u001b[0m\u001b[1;32m    655\u001b[0m \u001b[0;34m\u001b[0m\u001b[0m\n",
      "\u001b[0;32m/opt/anaconda3/lib/python3.7/site-packages/dateutil/parser/_parser.py\u001b[0m in \u001b[0;36m_build_naive\u001b[0;34m(self, res, default)\u001b[0m\n\u001b[1;32m   1228\u001b[0m \u001b[0;34m\u001b[0m\u001b[0m\n\u001b[0;32m-> 1229\u001b[0;31m         \u001b[0mnaive\u001b[0m \u001b[0;34m=\u001b[0m \u001b[0mdefault\u001b[0m\u001b[0;34m.\u001b[0m\u001b[0mreplace\u001b[0m\u001b[0;34m(\u001b[0m\u001b[0;34m**\u001b[0m\u001b[0mrepl\u001b[0m\u001b[0;34m)\u001b[0m\u001b[0;34m\u001b[0m\u001b[0;34m\u001b[0m\u001b[0m\n\u001b[0m\u001b[1;32m   1230\u001b[0m \u001b[0;34m\u001b[0m\u001b[0m\n",
      "\u001b[0;31mValueError\u001b[0m: day is out of range for month",
      "\nDuring handling of the above exception, another exception occurred:\n",
      "\u001b[0;31mValueError\u001b[0m                                Traceback (most recent call last)",
      "\u001b[0;32m<ipython-input-38-12e81da463ab>\u001b[0m in \u001b[0;36m<module>\u001b[0;34m\u001b[0m\n\u001b[1;32m      3\u001b[0m \u001b[0mprint\u001b[0m\u001b[0;34m(\u001b[0m\u001b[0mresults\u001b[0m\u001b[0;34m.\u001b[0m\u001b[0msummary\u001b[0m\u001b[0;34m(\u001b[0m\u001b[0;34m)\u001b[0m\u001b[0;34m)\u001b[0m\u001b[0;34m\u001b[0m\u001b[0;34m\u001b[0m\u001b[0m\n\u001b[1;32m      4\u001b[0m \u001b[0;31m# Make forecast:\u001b[0m\u001b[0;34m\u001b[0m\u001b[0;34m\u001b[0m\u001b[0;34m\u001b[0m\u001b[0m\n\u001b[0;32m----> 5\u001b[0;31m \u001b[0mresults\u001b[0m\u001b[0;34m.\u001b[0m\u001b[0mpredict\u001b[0m\u001b[0;34m(\u001b[0m\u001b[0;34m'2019-04-31'\u001b[0m\u001b[0;34m,\u001b[0m\u001b[0;34m'2020-01-31'\u001b[0m\u001b[0;34m,\u001b[0m \u001b[0mdynamic\u001b[0m\u001b[0;34m=\u001b[0m\u001b[0;32mFalse\u001b[0m\u001b[0;34m)\u001b[0m\u001b[0;34m\u001b[0m\u001b[0;34m\u001b[0m\u001b[0m\n\u001b[0m\u001b[1;32m      6\u001b[0m \u001b[0;34m\u001b[0m\u001b[0m\n\u001b[1;32m      7\u001b[0m \u001b[0;31m#this is also not right\u001b[0m\u001b[0;34m\u001b[0m\u001b[0;34m\u001b[0m\u001b[0;34m\u001b[0m\u001b[0m\n",
      "\u001b[0;32m/opt/anaconda3/lib/python3.7/site-packages/statsmodels/base/wrapper.py\u001b[0m in \u001b[0;36mwrapper\u001b[0;34m(self, *args, **kwargs)\u001b[0m\n\u001b[1;32m    111\u001b[0m             \u001b[0mobj\u001b[0m \u001b[0;34m=\u001b[0m \u001b[0mdata\u001b[0m\u001b[0;34m.\u001b[0m\u001b[0mwrap_output\u001b[0m\u001b[0;34m(\u001b[0m\u001b[0mfunc\u001b[0m\u001b[0;34m(\u001b[0m\u001b[0mresults\u001b[0m\u001b[0;34m,\u001b[0m \u001b[0;34m*\u001b[0m\u001b[0margs\u001b[0m\u001b[0;34m,\u001b[0m \u001b[0;34m**\u001b[0m\u001b[0mkwargs\u001b[0m\u001b[0;34m)\u001b[0m\u001b[0;34m,\u001b[0m \u001b[0mhow\u001b[0m\u001b[0;34m[\u001b[0m\u001b[0;36m0\u001b[0m\u001b[0;34m]\u001b[0m\u001b[0;34m,\u001b[0m \u001b[0mhow\u001b[0m\u001b[0;34m[\u001b[0m\u001b[0;36m1\u001b[0m\u001b[0;34m:\u001b[0m\u001b[0;34m]\u001b[0m\u001b[0;34m)\u001b[0m\u001b[0;34m\u001b[0m\u001b[0;34m\u001b[0m\u001b[0m\n\u001b[1;32m    112\u001b[0m         \u001b[0;32melif\u001b[0m \u001b[0mhow\u001b[0m\u001b[0;34m:\u001b[0m\u001b[0;34m\u001b[0m\u001b[0;34m\u001b[0m\u001b[0m\n\u001b[0;32m--> 113\u001b[0;31m             \u001b[0mobj\u001b[0m \u001b[0;34m=\u001b[0m \u001b[0mdata\u001b[0m\u001b[0;34m.\u001b[0m\u001b[0mwrap_output\u001b[0m\u001b[0;34m(\u001b[0m\u001b[0mfunc\u001b[0m\u001b[0;34m(\u001b[0m\u001b[0mresults\u001b[0m\u001b[0;34m,\u001b[0m \u001b[0;34m*\u001b[0m\u001b[0margs\u001b[0m\u001b[0;34m,\u001b[0m \u001b[0;34m**\u001b[0m\u001b[0mkwargs\u001b[0m\u001b[0;34m)\u001b[0m\u001b[0;34m,\u001b[0m \u001b[0mhow\u001b[0m\u001b[0;34m)\u001b[0m\u001b[0;34m\u001b[0m\u001b[0;34m\u001b[0m\u001b[0m\n\u001b[0m\u001b[1;32m    114\u001b[0m         \u001b[0;32mreturn\u001b[0m \u001b[0mobj\u001b[0m\u001b[0;34m\u001b[0m\u001b[0;34m\u001b[0m\u001b[0m\n\u001b[1;32m    115\u001b[0m \u001b[0;34m\u001b[0m\u001b[0m\n",
      "\u001b[0;32m/opt/anaconda3/lib/python3.7/site-packages/statsmodels/tsa/statespace/mlemodel.py\u001b[0m in \u001b[0;36mpredict\u001b[0;34m(self, start, end, dynamic, **kwargs)\u001b[0m\n\u001b[1;32m   3367\u001b[0m         \"\"\"\n\u001b[1;32m   3368\u001b[0m         \u001b[0;31m# Perform the prediction\u001b[0m\u001b[0;34m\u001b[0m\u001b[0;34m\u001b[0m\u001b[0;34m\u001b[0m\u001b[0m\n\u001b[0;32m-> 3369\u001b[0;31m         \u001b[0mprediction_results\u001b[0m \u001b[0;34m=\u001b[0m \u001b[0mself\u001b[0m\u001b[0;34m.\u001b[0m\u001b[0mget_prediction\u001b[0m\u001b[0;34m(\u001b[0m\u001b[0mstart\u001b[0m\u001b[0;34m,\u001b[0m \u001b[0mend\u001b[0m\u001b[0;34m,\u001b[0m \u001b[0mdynamic\u001b[0m\u001b[0;34m,\u001b[0m \u001b[0;34m**\u001b[0m\u001b[0mkwargs\u001b[0m\u001b[0;34m)\u001b[0m\u001b[0;34m\u001b[0m\u001b[0;34m\u001b[0m\u001b[0m\n\u001b[0m\u001b[1;32m   3370\u001b[0m         \u001b[0;32mreturn\u001b[0m \u001b[0mprediction_results\u001b[0m\u001b[0;34m.\u001b[0m\u001b[0mpredicted_mean\u001b[0m\u001b[0;34m\u001b[0m\u001b[0;34m\u001b[0m\u001b[0m\n\u001b[1;32m   3371\u001b[0m \u001b[0;34m\u001b[0m\u001b[0m\n",
      "\u001b[0;32m/opt/anaconda3/lib/python3.7/site-packages/statsmodels/tsa/statespace/mlemodel.py\u001b[0m in \u001b[0;36mget_prediction\u001b[0;34m(self, start, end, dynamic, index, exog, extend_model, extend_kwargs, **kwargs)\u001b[0m\n\u001b[1;32m   3265\u001b[0m         \u001b[0;31m# Handle start, end, dynamic\u001b[0m\u001b[0;34m\u001b[0m\u001b[0;34m\u001b[0m\u001b[0;34m\u001b[0m\u001b[0m\n\u001b[1;32m   3266\u001b[0m         start, end, out_of_sample, prediction_index = (\n\u001b[0;32m-> 3267\u001b[0;31m             self.model._get_prediction_index(start, end, index))\n\u001b[0m\u001b[1;32m   3268\u001b[0m \u001b[0;34m\u001b[0m\u001b[0m\n\u001b[1;32m   3269\u001b[0m         \u001b[0;31m# Handle `dynamic`\u001b[0m\u001b[0;34m\u001b[0m\u001b[0;34m\u001b[0m\u001b[0;34m\u001b[0m\u001b[0m\n",
      "\u001b[0;32m/opt/anaconda3/lib/python3.7/site-packages/statsmodels/tsa/base/tsa_model.py\u001b[0m in \u001b[0;36m_get_prediction_index\u001b[0;34m(self, start, end, index, silent)\u001b[0m\n\u001b[1;32m    756\u001b[0m                                     \u001b[0mindex_none\u001b[0m\u001b[0;34m=\u001b[0m\u001b[0mself\u001b[0m\u001b[0;34m.\u001b[0m\u001b[0m_index_none\u001b[0m\u001b[0;34m,\u001b[0m\u001b[0;34m\u001b[0m\u001b[0;34m\u001b[0m\u001b[0m\n\u001b[1;32m    757\u001b[0m                                     \u001b[0mindex_generated\u001b[0m\u001b[0;34m=\u001b[0m\u001b[0mself\u001b[0m\u001b[0;34m.\u001b[0m\u001b[0m_index_generated\u001b[0m\u001b[0;34m,\u001b[0m\u001b[0;34m\u001b[0m\u001b[0;34m\u001b[0m\u001b[0m\n\u001b[0;32m--> 758\u001b[0;31m                                     data=self.data)\n\u001b[0m\u001b[1;32m    759\u001b[0m \u001b[0;34m\u001b[0m\u001b[0m\n\u001b[1;32m    760\u001b[0m     \u001b[0;32mdef\u001b[0m \u001b[0m_get_exog_names\u001b[0m\u001b[0;34m(\u001b[0m\u001b[0mself\u001b[0m\u001b[0;34m)\u001b[0m\u001b[0;34m:\u001b[0m\u001b[0;34m\u001b[0m\u001b[0;34m\u001b[0m\u001b[0m\n",
      "\u001b[0;32m/opt/anaconda3/lib/python3.7/site-packages/statsmodels/tsa/base/tsa_model.py\u001b[0m in \u001b[0;36mget_prediction_index\u001b[0;34m(start, end, nobs, base_index, index, silent, index_none, index_generated, data)\u001b[0m\n\u001b[1;32m    336\u001b[0m     \u001b[0;31m# indexes.\u001b[0m\u001b[0;34m\u001b[0m\u001b[0;34m\u001b[0m\u001b[0;34m\u001b[0m\u001b[0m\n\u001b[1;32m    337\u001b[0m     \u001b[0;32mtry\u001b[0m\u001b[0;34m:\u001b[0m\u001b[0;34m\u001b[0m\u001b[0;34m\u001b[0m\u001b[0m\n\u001b[0;32m--> 338\u001b[0;31m         \u001b[0mstart\u001b[0m\u001b[0;34m,\u001b[0m \u001b[0m_\u001b[0m\u001b[0;34m,\u001b[0m \u001b[0mstart_oos\u001b[0m \u001b[0;34m=\u001b[0m \u001b[0mget_index_label_loc\u001b[0m\u001b[0;34m(\u001b[0m\u001b[0mstart\u001b[0m\u001b[0;34m,\u001b[0m \u001b[0mbase_index\u001b[0m\u001b[0;34m,\u001b[0m \u001b[0mdata\u001b[0m\u001b[0;34m.\u001b[0m\u001b[0mrow_labels\u001b[0m\u001b[0;34m)\u001b[0m\u001b[0;34m\u001b[0m\u001b[0;34m\u001b[0m\u001b[0m\n\u001b[0m\u001b[1;32m    339\u001b[0m     \u001b[0;32mexcept\u001b[0m \u001b[0mKeyError\u001b[0m\u001b[0;34m:\u001b[0m\u001b[0;34m\u001b[0m\u001b[0;34m\u001b[0m\u001b[0m\n\u001b[1;32m    340\u001b[0m         raise KeyError('The `start` argument could not be matched to a'\n",
      "\u001b[0;32m/opt/anaconda3/lib/python3.7/site-packages/statsmodels/tsa/base/tsa_model.py\u001b[0m in \u001b[0;36mget_index_label_loc\u001b[0;34m(key, index, row_labels)\u001b[0m\n\u001b[1;32m    232\u001b[0m     \"\"\"\n\u001b[1;32m    233\u001b[0m     \u001b[0;32mtry\u001b[0m\u001b[0;34m:\u001b[0m\u001b[0;34m\u001b[0m\u001b[0;34m\u001b[0m\u001b[0m\n\u001b[0;32m--> 234\u001b[0;31m         \u001b[0mloc\u001b[0m\u001b[0;34m,\u001b[0m \u001b[0mindex\u001b[0m\u001b[0;34m,\u001b[0m \u001b[0mindex_was_expanded\u001b[0m \u001b[0;34m=\u001b[0m \u001b[0mget_index_loc\u001b[0m\u001b[0;34m(\u001b[0m\u001b[0mkey\u001b[0m\u001b[0;34m,\u001b[0m \u001b[0mindex\u001b[0m\u001b[0;34m)\u001b[0m\u001b[0;34m\u001b[0m\u001b[0;34m\u001b[0m\u001b[0m\n\u001b[0m\u001b[1;32m    235\u001b[0m     \u001b[0;32mexcept\u001b[0m \u001b[0mKeyError\u001b[0m \u001b[0;32mas\u001b[0m \u001b[0me\u001b[0m\u001b[0;34m:\u001b[0m\u001b[0;34m\u001b[0m\u001b[0;34m\u001b[0m\u001b[0m\n\u001b[1;32m    236\u001b[0m         \u001b[0;32mtry\u001b[0m\u001b[0;34m:\u001b[0m\u001b[0;34m\u001b[0m\u001b[0;34m\u001b[0m\u001b[0m\n",
      "\u001b[0;32m/opt/anaconda3/lib/python3.7/site-packages/statsmodels/tsa/base/tsa_model.py\u001b[0m in \u001b[0;36mget_index_loc\u001b[0;34m(key, index)\u001b[0m\n\u001b[1;32m    144\u001b[0m                 \u001b[0mdate_key\u001b[0m \u001b[0;34m=\u001b[0m \u001b[0mPeriod\u001b[0m\u001b[0;34m(\u001b[0m\u001b[0mkey\u001b[0m\u001b[0;34m,\u001b[0m \u001b[0mfreq\u001b[0m\u001b[0;34m=\u001b[0m\u001b[0mbase_index\u001b[0m\u001b[0;34m.\u001b[0m\u001b[0mfreq\u001b[0m\u001b[0;34m)\u001b[0m\u001b[0;34m\u001b[0m\u001b[0;34m\u001b[0m\u001b[0m\n\u001b[1;32m    145\u001b[0m             \u001b[0;32melse\u001b[0m\u001b[0;34m:\u001b[0m\u001b[0;34m\u001b[0m\u001b[0;34m\u001b[0m\u001b[0m\n\u001b[0;32m--> 146\u001b[0;31m                 \u001b[0mdate_key\u001b[0m \u001b[0;34m=\u001b[0m \u001b[0mTimestamp\u001b[0m\u001b[0;34m(\u001b[0m\u001b[0mkey\u001b[0m\u001b[0;34m)\u001b[0m\u001b[0;34m\u001b[0m\u001b[0;34m\u001b[0m\u001b[0m\n\u001b[0m\u001b[1;32m    147\u001b[0m \u001b[0;34m\u001b[0m\u001b[0m\n\u001b[1;32m    148\u001b[0m             \u001b[0;31m# Out-of-sample\u001b[0m\u001b[0;34m\u001b[0m\u001b[0;34m\u001b[0m\u001b[0;34m\u001b[0m\u001b[0m\n",
      "\u001b[0;32m/opt/anaconda3/lib/python3.7/site-packages/pandas/_libs/tslibs/timestamps.pyx\u001b[0m in \u001b[0;36mpandas._libs.tslibs.timestamps.Timestamp.__new__\u001b[0;34m()\u001b[0m\n",
      "\u001b[0;32m/opt/anaconda3/lib/python3.7/site-packages/pandas/_libs/tslibs/conversion.pyx\u001b[0m in \u001b[0;36mpandas._libs.tslibs.conversion.convert_to_tsobject\u001b[0;34m()\u001b[0m\n",
      "\u001b[0;32m/opt/anaconda3/lib/python3.7/site-packages/pandas/_libs/tslibs/conversion.pyx\u001b[0m in \u001b[0;36mpandas._libs.tslibs.conversion._convert_str_to_tsobject\u001b[0;34m()\u001b[0m\n",
      "\u001b[0;31mValueError\u001b[0m: could not convert string to Timestamp"
     ]
    }
   ],
   "source": [
    "model = smt.arima.ARIMA(data['dLogRev'], trend=\"ct\", order=(8,0,0)) #part 1.c of project\n",
    "results = model.fit()\n",
    "print(results.summary())\n",
    "# Make forecast:\n",
    "results.predict('2019-04-31','2020-01-31', dynamic=False)\n",
    "\n",
    "#this is also not right; no predictions provided\n",
    "# predictions are what are put into excel to do forecasting"
   ]
  },
  {
   "cell_type": "code",
   "execution_count": null,
   "metadata": {},
   "outputs": [],
   "source": []
  }
 ],
 "metadata": {
  "kernelspec": {
   "display_name": "Python 3",
   "language": "python",
   "name": "python3"
  },
  "language_info": {
   "codemirror_mode": {
    "name": "ipython",
    "version": 3
   },
   "file_extension": ".py",
   "mimetype": "text/x-python",
   "name": "python",
   "nbconvert_exporter": "python",
   "pygments_lexer": "ipython3",
   "version": "3.7.4"
  }
 },
 "nbformat": 4,
 "nbformat_minor": 5
}
