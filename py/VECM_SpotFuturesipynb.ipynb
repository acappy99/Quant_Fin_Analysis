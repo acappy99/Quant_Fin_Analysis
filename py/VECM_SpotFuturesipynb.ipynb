{
 "cells": [
  {
   "cell_type": "code",
   "execution_count": 3,
   "metadata": {},
   "outputs": [
    {
     "data": {
      "text/html": [
       "<div>\n",
       "<style scoped>\n",
       "    .dataframe tbody tr th:only-of-type {\n",
       "        vertical-align: middle;\n",
       "    }\n",
       "\n",
       "    .dataframe tbody tr th {\n",
       "        vertical-align: top;\n",
       "    }\n",
       "\n",
       "    .dataframe thead th {\n",
       "        text-align: right;\n",
       "    }\n",
       "</style>\n",
       "<table border=\"1\" class=\"dataframe\">\n",
       "  <thead>\n",
       "    <tr style=\"text-align: right;\">\n",
       "      <th></th>\n",
       "      <th>futures</th>\n",
       "      <th>spot</th>\n",
       "    </tr>\n",
       "    <tr>\n",
       "      <th>date</th>\n",
       "      <th></th>\n",
       "      <th></th>\n",
       "    </tr>\n",
       "  </thead>\n",
       "  <tbody>\n",
       "    <tr>\n",
       "      <th>2010-01-04</th>\n",
       "      <td>2.104</td>\n",
       "      <td>2.096</td>\n",
       "    </tr>\n",
       "    <tr>\n",
       "      <th>2010-01-05</th>\n",
       "      <td>2.125</td>\n",
       "      <td>2.114</td>\n",
       "    </tr>\n",
       "    <tr>\n",
       "      <th>2010-01-06</th>\n",
       "      <td>2.137</td>\n",
       "      <td>2.130</td>\n",
       "    </tr>\n",
       "    <tr>\n",
       "      <th>2010-01-07</th>\n",
       "      <td>2.135</td>\n",
       "      <td>2.126</td>\n",
       "    </tr>\n",
       "    <tr>\n",
       "      <th>2010-01-08</th>\n",
       "      <td>2.155</td>\n",
       "      <td>2.155</td>\n",
       "    </tr>\n",
       "  </tbody>\n",
       "</table>\n",
       "</div>"
      ],
      "text/plain": [
       "            futures   spot\n",
       "date                      \n",
       "2010-01-04    2.104  2.096\n",
       "2010-01-05    2.125  2.114\n",
       "2010-01-06    2.137  2.130\n",
       "2010-01-07    2.135  2.126\n",
       "2010-01-08    2.155  2.155"
      ]
     },
     "execution_count": 3,
     "metadata": {},
     "output_type": "execute_result"
    }
   ],
   "source": [
    "import numpy as np\n",
    "import pandas as pd\n",
    "from arch.unitroot import ADF\n",
    "import statsmodels.tsa.api as smt\n",
    "import statsmodels.stats.api as sms\n",
    "import statsmodels.formula.api as smf\n",
    "import matplotlib.pyplot as plt\n",
    "from statsmodels.compat import lzip\n",
    "abspath = '/Users/alexcappadona/Downloads/'\n",
    "data = pd.read_excel(abspath + 'GasolineSpotFutures2020.xlsx', index_col=0)\n",
    "data.head()"
   ]
  },
  {
   "cell_type": "code",
   "execution_count": 4,
   "metadata": {},
   "outputs": [
    {
     "data": {
      "text/html": [
       "<div>\n",
       "<style scoped>\n",
       "    .dataframe tbody tr th:only-of-type {\n",
       "        vertical-align: middle;\n",
       "    }\n",
       "\n",
       "    .dataframe tbody tr th {\n",
       "        vertical-align: top;\n",
       "    }\n",
       "\n",
       "    .dataframe thead th {\n",
       "        text-align: right;\n",
       "    }\n",
       "</style>\n",
       "<table border=\"1\" class=\"dataframe\">\n",
       "  <thead>\n",
       "    <tr style=\"text-align: right;\">\n",
       "      <th></th>\n",
       "      <th>futures</th>\n",
       "      <th>spot</th>\n",
       "    </tr>\n",
       "    <tr>\n",
       "      <th>date</th>\n",
       "      <th></th>\n",
       "      <th></th>\n",
       "    </tr>\n",
       "  </thead>\n",
       "  <tbody>\n",
       "    <tr>\n",
       "      <th>2020-12-24</th>\n",
       "      <td>1.379</td>\n",
       "      <td>1.413</td>\n",
       "    </tr>\n",
       "    <tr>\n",
       "      <th>2020-12-28</th>\n",
       "      <td>1.368</td>\n",
       "      <td>1.396</td>\n",
       "    </tr>\n",
       "    <tr>\n",
       "      <th>2020-12-29</th>\n",
       "      <td>1.388</td>\n",
       "      <td>1.417</td>\n",
       "    </tr>\n",
       "    <tr>\n",
       "      <th>2020-12-30</th>\n",
       "      <td>1.412</td>\n",
       "      <td>1.438</td>\n",
       "    </tr>\n",
       "    <tr>\n",
       "      <th>2020-12-31</th>\n",
       "      <td>1.408</td>\n",
       "      <td>1.438</td>\n",
       "    </tr>\n",
       "  </tbody>\n",
       "</table>\n",
       "</div>"
      ],
      "text/plain": [
       "            futures   spot\n",
       "date                      \n",
       "2020-12-24    1.379  1.413\n",
       "2020-12-28    1.368  1.396\n",
       "2020-12-29    1.388  1.417\n",
       "2020-12-30    1.412  1.438\n",
       "2020-12-31    1.408  1.438"
      ]
     },
     "execution_count": 4,
     "metadata": {},
     "output_type": "execute_result"
    }
   ],
   "source": [
    "data.tail()"
   ]
  },
  {
   "cell_type": "code",
   "execution_count": 5,
   "metadata": {},
   "outputs": [
    {
     "data": {
      "text/html": [
       "<div>\n",
       "<style scoped>\n",
       "    .dataframe tbody tr th:only-of-type {\n",
       "        vertical-align: middle;\n",
       "    }\n",
       "\n",
       "    .dataframe tbody tr th {\n",
       "        vertical-align: top;\n",
       "    }\n",
       "\n",
       "    .dataframe thead th {\n",
       "        text-align: right;\n",
       "    }\n",
       "</style>\n",
       "<table border=\"1\" class=\"dataframe\">\n",
       "  <thead>\n",
       "    <tr style=\"text-align: right;\">\n",
       "      <th></th>\n",
       "      <th>futures</th>\n",
       "      <th>spot</th>\n",
       "    </tr>\n",
       "  </thead>\n",
       "  <tbody>\n",
       "    <tr>\n",
       "      <th>count</th>\n",
       "      <td>2752.000000</td>\n",
       "      <td>2752.000000</td>\n",
       "    </tr>\n",
       "    <tr>\n",
       "      <th>mean</th>\n",
       "      <td>2.078844</td>\n",
       "      <td>2.070923</td>\n",
       "    </tr>\n",
       "    <tr>\n",
       "      <th>std</th>\n",
       "      <td>0.648519</td>\n",
       "      <td>0.636765</td>\n",
       "    </tr>\n",
       "    <tr>\n",
       "      <th>min</th>\n",
       "      <td>0.412000</td>\n",
       "      <td>0.434000</td>\n",
       "    </tr>\n",
       "    <tr>\n",
       "      <th>25%</th>\n",
       "      <td>1.557000</td>\n",
       "      <td>1.561000</td>\n",
       "    </tr>\n",
       "    <tr>\n",
       "      <th>50%</th>\n",
       "      <td>1.995000</td>\n",
       "      <td>1.967000</td>\n",
       "    </tr>\n",
       "    <tr>\n",
       "      <th>75%</th>\n",
       "      <td>2.702000</td>\n",
       "      <td>2.711000</td>\n",
       "    </tr>\n",
       "    <tr>\n",
       "      <th>max</th>\n",
       "      <td>3.465000</td>\n",
       "      <td>3.665000</td>\n",
       "    </tr>\n",
       "  </tbody>\n",
       "</table>\n",
       "</div>"
      ],
      "text/plain": [
       "           futures         spot\n",
       "count  2752.000000  2752.000000\n",
       "mean      2.078844     2.070923\n",
       "std       0.648519     0.636765\n",
       "min       0.412000     0.434000\n",
       "25%       1.557000     1.561000\n",
       "50%       1.995000     1.967000\n",
       "75%       2.702000     2.711000\n",
       "max       3.465000     3.665000"
      ]
     },
     "execution_count": 5,
     "metadata": {},
     "output_type": "execute_result"
    }
   ],
   "source": [
    "data.describe()"
   ]
  },
  {
   "cell_type": "code",
   "execution_count": 6,
   "metadata": {},
   "outputs": [
    {
     "data": {
      "image/png": "[encoded data removed]",
      "text/plain": [
       "<Figure size 432x288 with 1 Axes>"
      ]
     },
     "metadata": {
      "needs_background": "light"
     },
     "output_type": "display_data"
    }
   ],
   "source": [
    "plt.figure(1)\n",
    "plt.plot(data['spot'], label='spot')\n",
    "plt.plot(data['futures'], label='futures')\n",
    "plt.xlabel('Date')\n",
    "plt.ylabel('Spot/Futures')\n",
    "plt.title('Gasoline spot and futures')\n",
    "plt.grid(True)\n",
    "plt.legend()\n",
    "plt.show()"
   ]
  },
  {
   "cell_type": "code",
   "execution_count": 7,
   "metadata": {},
   "outputs": [
    {
     "data": {
      "text/html": [
       "<div>\n",
       "<style scoped>\n",
       "    .dataframe tbody tr th:only-of-type {\n",
       "        vertical-align: middle;\n",
       "    }\n",
       "\n",
       "    .dataframe tbody tr th {\n",
       "        vertical-align: top;\n",
       "    }\n",
       "\n",
       "    .dataframe thead th {\n",
       "        text-align: right;\n",
       "    }\n",
       "</style>\n",
       "<table border=\"1\" class=\"dataframe\">\n",
       "  <thead>\n",
       "    <tr style=\"text-align: right;\">\n",
       "      <th></th>\n",
       "      <th>futures</th>\n",
       "      <th>spot</th>\n",
       "      <th>p1</th>\n",
       "      <th>p2</th>\n",
       "      <th>dp1</th>\n",
       "      <th>dp2</th>\n",
       "    </tr>\n",
       "    <tr>\n",
       "      <th>date</th>\n",
       "      <th></th>\n",
       "      <th></th>\n",
       "      <th></th>\n",
       "      <th></th>\n",
       "      <th></th>\n",
       "      <th></th>\n",
       "    </tr>\n",
       "  </thead>\n",
       "  <tbody>\n",
       "    <tr>\n",
       "      <th>2010-01-05</th>\n",
       "      <td>2.125</td>\n",
       "      <td>2.114</td>\n",
       "      <td>0.753772</td>\n",
       "      <td>0.748582</td>\n",
       "      <td>0.009932</td>\n",
       "      <td>0.008551</td>\n",
       "    </tr>\n",
       "    <tr>\n",
       "      <th>2010-01-06</th>\n",
       "      <td>2.137</td>\n",
       "      <td>2.130</td>\n",
       "      <td>0.759403</td>\n",
       "      <td>0.756122</td>\n",
       "      <td>0.005631</td>\n",
       "      <td>0.007540</td>\n",
       "    </tr>\n",
       "    <tr>\n",
       "      <th>2010-01-07</th>\n",
       "      <td>2.135</td>\n",
       "      <td>2.126</td>\n",
       "      <td>0.758467</td>\n",
       "      <td>0.754242</td>\n",
       "      <td>-0.000936</td>\n",
       "      <td>-0.001880</td>\n",
       "    </tr>\n",
       "    <tr>\n",
       "      <th>2010-01-08</th>\n",
       "      <td>2.155</td>\n",
       "      <td>2.155</td>\n",
       "      <td>0.767791</td>\n",
       "      <td>0.767791</td>\n",
       "      <td>0.009324</td>\n",
       "      <td>0.013548</td>\n",
       "    </tr>\n",
       "    <tr>\n",
       "      <th>2010-01-11</th>\n",
       "      <td>2.143</td>\n",
       "      <td>2.134</td>\n",
       "      <td>0.762207</td>\n",
       "      <td>0.757998</td>\n",
       "      <td>-0.005584</td>\n",
       "      <td>-0.009793</td>\n",
       "    </tr>\n",
       "  </tbody>\n",
       "</table>\n",
       "</div>"
      ],
      "text/plain": [
       "            futures   spot        p1        p2       dp1       dp2\n",
       "date                                                              \n",
       "2010-01-05    2.125  2.114  0.753772  0.748582  0.009932  0.008551\n",
       "2010-01-06    2.137  2.130  0.759403  0.756122  0.005631  0.007540\n",
       "2010-01-07    2.135  2.126  0.758467  0.754242 -0.000936 -0.001880\n",
       "2010-01-08    2.155  2.155  0.767791  0.767791  0.009324  0.013548\n",
       "2010-01-11    2.143  2.134  0.762207  0.757998 -0.005584 -0.009793"
      ]
     },
     "execution_count": 7,
     "metadata": {},
     "output_type": "execute_result"
    }
   ],
   "source": [
    "# compute log returns\n",
    "data['p1']=np.log(data['futures'])\n",
    "data['p2']=np.log(data['spot'])\n",
    "data['dp1']=data['p1'].diff()\n",
    "data['dp2']=data['p2'].diff()\n",
    "data=data.dropna()\n",
    "data.head()"
   ]
  },
  {
   "cell_type": "code",
   "execution_count": 8,
   "metadata": {},
   "outputs": [
    {
     "name": "stdout",
     "output_type": "stream",
     "text": [
      "   Augmented Dickey-Fuller Results   \n",
      "=====================================\n",
      "Test Statistic                 -2.204\n",
      "P-value                         0.205\n",
      "Lags                               10\n",
      "-------------------------------------\n",
      "\n",
      "Trend: Constant\n",
      "Critical Values: -3.43 (1%), -2.86 (5%), -2.57 (10%)\n",
      "Null Hypothesis: The process contains a unit root.\n",
      "Alternative Hypothesis: The process is weakly stationary.\n",
      "   Augmented Dickey-Fuller Results   \n",
      "=====================================\n",
      "Test Statistic                 -2.248\n",
      "P-value                         0.189\n",
      "Lags                               10\n",
      "-------------------------------------\n",
      "\n",
      "Trend: Constant\n",
      "Critical Values: -3.43 (1%), -2.86 (5%), -2.57 (10%)\n",
      "Null Hypothesis: The process contains a unit root.\n",
      "Alternative Hypothesis: The process is weakly stationary.\n"
     ]
    }
   ],
   "source": [
    "# Are the prices stationary?\n",
    "# DickyFuller test\n",
    "res1 = ADF(data['p1'],lags=10)\n",
    "print(res1.summary())\n",
    "res2 = ADF(data['p2'],lags=10)\n",
    "print(res2.summary())\n",
    "# unit root --> not stationary\n",
    "# cannot reject the null that either test has unit root and therefore is not stationary\n",
    "# which is what we'd expect since prices follow a random walk"
   ]
  },
  {
   "cell_type": "code",
   "execution_count": 9,
   "metadata": {},
   "outputs": [
    {
     "name": "stdout",
     "output_type": "stream",
     "text": [
      "                            OLS Regression Results                            \n",
      "==============================================================================\n",
      "Dep. Variable:                     p1   R-squared:                       0.982\n",
      "Model:                            OLS   Adj. R-squared:                  0.982\n",
      "Method:                 Least Squares   F-statistic:                 1.504e+05\n",
      "Date:                Fri, 10 Dec 2021   Prob (F-statistic):               0.00\n",
      "Time:                        14:34:59   Log-Likelihood:                 4637.0\n",
      "No. Observations:                2751   AIC:                            -9270.\n",
      "Df Residuals:                    2749   BIC:                            -9258.\n",
      "Df Model:                           1                                         \n",
      "Covariance Type:            nonrobust                                         \n",
      "==============================================================================\n",
      "                 coef    std err          t      P>|t|      [0.025      0.975]\n",
      "------------------------------------------------------------------------------\n",
      "Intercept      0.0085      0.002      4.396      0.000       0.005       0.012\n",
      "p2             0.9921      0.003    387.755      0.000       0.987       0.997\n",
      "==============================================================================\n",
      "Omnibus:                      315.311   Durbin-Watson:                   0.136\n",
      "Prob(Omnibus):                  0.000   Jarque-Bera (JB):             1944.068\n",
      "Skew:                           0.353   Prob(JB):                         0.00\n",
      "Kurtosis:                       7.057   Cond. No.                         4.47\n",
      "==============================================================================\n",
      "\n",
      "Notes:\n",
      "[1] Standard Errors assume that the covariance matrix of the errors is correctly specified.\n"
     ]
    }
   ],
   "source": [
    "# cointegration test:\n",
    "# to do so we must regress one price on the other and get residuals for cointergration test\n",
    "\n",
    "# regressing p1 on p2 (if switched, result would be the same)\n",
    "formula = 'p1 ~ p2'\n",
    "results = smf.ols(formula, data).fit()\n",
    "print(results.summary())\n",
    "residuals = results.resid"
   ]
  },
  {
   "cell_type": "code",
   "execution_count": 10,
   "metadata": {},
   "outputs": [
    {
     "name": "stdout",
     "output_type": "stream",
     "text": [
      "   Augmented Dickey-Fuller Results   \n",
      "=====================================\n",
      "Test Statistic                 -6.903\n",
      "P-value                         0.000\n",
      "Lags                               10\n",
      "-------------------------------------\n",
      "\n",
      "Trend: Constant\n",
      "Critical Values: -3.43 (1%), -2.86 (5%), -2.57 (10%)\n",
      "Null Hypothesis: The process contains a unit root.\n",
      "Alternative Hypothesis: The process is weakly stationary.\n"
     ]
    }
   ],
   "source": [
    "# see if the residuals are stationary (cointegration test)\n",
    "\n",
    "res = ADF(residuals,lags=10)\n",
    "print(res.summary())\n",
    "# reject the null, the residuals are stationary"
   ]
  },
  {
   "cell_type": "code",
   "execution_count": 11,
   "metadata": {},
   "outputs": [
    {
     "name": "stdout",
     "output_type": "stream",
     "text": [
      "   Augmented Dickey-Fuller Results   \n",
      "=====================================\n",
      "Test Statistic                -14.471\n",
      "P-value                         0.000\n",
      "Lags                               10\n",
      "-------------------------------------\n",
      "\n",
      "Trend: Constant\n",
      "Critical Values: -3.43 (1%), -2.86 (5%), -2.57 (10%)\n",
      "Null Hypothesis: The process contains a unit root.\n",
      "Alternative Hypothesis: The process is weakly stationary.\n",
      "   Augmented Dickey-Fuller Results   \n",
      "=====================================\n",
      "Test Statistic                -14.187\n",
      "P-value                         0.000\n",
      "Lags                               10\n",
      "-------------------------------------\n",
      "\n",
      "Trend: Constant\n",
      "Critical Values: -3.43 (1%), -2.86 (5%), -2.57 (10%)\n",
      "Null Hypothesis: The process contains a unit root.\n",
      "Alternative Hypothesis: The process is weakly stationary.\n"
     ]
    }
   ],
   "source": [
    "# check if the returns are stationary\n",
    "res1a = ADF(data['dp1'],lags=10)\n",
    "print(res1a.summary())\n",
    "res2a = ADF(data['dp2'],lags=10)\n",
    "print(res2a.summary())\n",
    "\n",
    "# both are clearly stationary"
   ]
  },
  {
   "cell_type": "code",
   "execution_count": 12,
   "metadata": {},
   "outputs": [
    {
     "data": {
      "image/png": "[encoded data removed]",
      "text/plain": [
       "<Figure size 432x288 with 1 Axes>"
      ]
     },
     "metadata": {
      "needs_background": "light"
     },
     "output_type": "display_data"
    }
   ],
   "source": [
    "# Correlogram for the price\n",
    "smt.graphics.plot_acf(data['p1'],lags=50)\n",
    "plt.title('ACF for log price') #autocorrelation function (ACF)\n",
    "plt.show()"
   ]
  },
  {
   "cell_type": "code",
   "execution_count": 13,
   "metadata": {},
   "outputs": [
    {
     "data": {
      "image/png": "[encoded data removed]",
      "text/plain": [
       "<Figure size 432x288 with 1 Axes>"
      ]
     },
     "metadata": {
      "needs_background": "light"
     },
     "output_type": "display_data"
    }
   ],
   "source": [
    "# Correlogram for the returns for the futures\n",
    "smt.graphics.plot_acf(data['dp1'],lags=50)\n",
    "plt.title('ACF for log return') #autocorrelation function (ACF)\n",
    "plt.show()"
   ]
  },
  {
   "cell_type": "code",
   "execution_count": 14,
   "metadata": {},
   "outputs": [
    {
     "data": {
      "image/png": "[encoded data removed]",
      "text/plain": [
       "<Figure size 432x288 with 1 Axes>"
      ]
     },
     "metadata": {
      "needs_background": "light"
     },
     "output_type": "display_data"
    }
   ],
   "source": [
    "# Correlogram for the returns for the spot\n",
    "smt.graphics.plot_acf(data['dp2'],lags=50)\n",
    "plt.title('ACF for log return') #autocorrelation function (ACF)\n",
    "plt.show()"
   ]
  },
  {
   "cell_type": "code",
   "execution_count": 15,
   "metadata": {},
   "outputs": [
    {
     "data": {
      "text/plain": [
       "[('Ljung-Box statistic', 'lb_stat'), ('p-value', 'lb_pvalue')]"
      ]
     },
     "execution_count": 15,
     "metadata": {},
     "output_type": "execute_result"
    }
   ],
   "source": [
    "# Ljung-Box autocorrelation test (futures return)\n",
    "name = ['Ljung-Box statistic','p-value']\n",
    "test = sms.acorr_ljungbox(data['dp1'], lags=10)\n",
    "lzip(name,test)\n",
    "# shows results for lags 1-10, jointly\n",
    "# if p-value small, we do have statistically sig autocorrelation"
   ]
  },
  {
   "cell_type": "code",
   "execution_count": 16,
   "metadata": {},
   "outputs": [
    {
     "data": {
      "text/plain": [
       "[('Ljung-Box statistic', 'lb_stat'), ('p-value', 'lb_pvalue')]"
      ]
     },
     "execution_count": 16,
     "metadata": {},
     "output_type": "execute_result"
    }
   ],
   "source": [
    "# Ljung-Box autocorrelation test (spot return)\n",
    "name = ['Ljung-Box statistic','p-value']\n",
    "test = sms.acorr_ljungbox(data['dp2'], lags=10)\n",
    "lzip(name,test)"
   ]
  },
  {
   "cell_type": "code",
   "execution_count": 17,
   "metadata": {},
   "outputs": [
    {
     "data": {
      "text/plain": [
       "0.8092572298167984"
      ]
     },
     "execution_count": 17,
     "metadata": {},
     "output_type": "execute_result"
    }
   ],
   "source": [
    "data['dp1'].corr(data['dp2']) #correlation across the two markets (spot aand future returns)\n",
    "# pretty high, statistically sig even w/o a p-value"
   ]
  },
  {
   "cell_type": "code",
   "execution_count": 18,
   "metadata": {},
   "outputs": [
    {
     "data": {
      "text/html": [
       "<div>\n",
       "<style scoped>\n",
       "    .dataframe tbody tr th:only-of-type {\n",
       "        vertical-align: middle;\n",
       "    }\n",
       "\n",
       "    .dataframe tbody tr th {\n",
       "        vertical-align: top;\n",
       "    }\n",
       "\n",
       "    .dataframe thead th {\n",
       "        text-align: right;\n",
       "    }\n",
       "</style>\n",
       "<table border=\"1\" class=\"dataframe\">\n",
       "  <thead>\n",
       "    <tr style=\"text-align: right;\">\n",
       "      <th></th>\n",
       "      <th>p1</th>\n",
       "      <th>p2</th>\n",
       "    </tr>\n",
       "    <tr>\n",
       "      <th>date</th>\n",
       "      <th></th>\n",
       "      <th></th>\n",
       "    </tr>\n",
       "  </thead>\n",
       "  <tbody>\n",
       "    <tr>\n",
       "      <th>2010-01-05</th>\n",
       "      <td>0.753772</td>\n",
       "      <td>0.748582</td>\n",
       "    </tr>\n",
       "    <tr>\n",
       "      <th>2010-01-06</th>\n",
       "      <td>0.759403</td>\n",
       "      <td>0.756122</td>\n",
       "    </tr>\n",
       "    <tr>\n",
       "      <th>2010-01-07</th>\n",
       "      <td>0.758467</td>\n",
       "      <td>0.754242</td>\n",
       "    </tr>\n",
       "    <tr>\n",
       "      <th>2010-01-08</th>\n",
       "      <td>0.767791</td>\n",
       "      <td>0.767791</td>\n",
       "    </tr>\n",
       "    <tr>\n",
       "      <th>2010-01-11</th>\n",
       "      <td>0.762207</td>\n",
       "      <td>0.757998</td>\n",
       "    </tr>\n",
       "  </tbody>\n",
       "</table>\n",
       "</div>"
      ],
      "text/plain": [
       "                  p1        p2\n",
       "date                          \n",
       "2010-01-05  0.753772  0.748582\n",
       "2010-01-06  0.759403  0.756122\n",
       "2010-01-07  0.758467  0.754242\n",
       "2010-01-08  0.767791  0.767791\n",
       "2010-01-11  0.762207  0.757998"
      ]
     },
     "execution_count": 18,
     "metadata": {},
     "output_type": "execute_result"
    }
   ],
   "source": [
    "data1 = data.drop(['spot','futures','dp1','dp2'], axis=1) # axis=1 meeaans columns (variable) that you want to drop\n",
    "data1.head()"
   ]
  },
  {
   "cell_type": "code",
   "execution_count": 19,
   "metadata": {},
   "outputs": [
    {
     "name": "stdout",
     "output_type": "stream",
     "text": [
      "Det. terms outside the coint. relation & lagged endog. parameters for equation p1\n",
      "==============================================================================\n",
      "                 coef    std err          z      P>|z|      [0.025      0.975]\n",
      "------------------------------------------------------------------------------\n",
      "const         -0.0001      0.001     -0.235      0.815      -0.001       0.001\n",
      "L1.p1         -0.0682      0.034     -2.018      0.044      -0.134      -0.002\n",
      "L1.p2          0.0399      0.034      1.166      0.244      -0.027       0.107\n",
      "L2.p1         -0.0787      0.034     -2.321      0.020      -0.145      -0.012\n",
      "L2.p2          0.0578      0.034      1.680      0.093      -0.010       0.125\n",
      "L3.p1          0.0107      0.034      0.315      0.753      -0.056       0.077\n",
      "L3.p2         -0.0059      0.034     -0.170      0.865      -0.073       0.062\n",
      "L4.p1          0.0019      0.034      0.056      0.955      -0.065       0.069\n",
      "L4.p2          0.0457      0.034      1.328      0.184      -0.022       0.113\n",
      "L5.p1          0.0160      0.034      0.473      0.636      -0.050       0.083\n",
      "L5.p2          0.0533      0.034      1.553      0.120      -0.014       0.121\n",
      "L6.p1          0.0356      0.034      1.054      0.292      -0.031       0.102\n",
      "L6.p2         -0.0290      0.034     -0.847      0.397      -0.096       0.038\n",
      "L7.p1          0.0437      0.034      1.301      0.193      -0.022       0.109\n",
      "L7.p2          0.0423      0.034      1.243      0.214      -0.024       0.109\n",
      "L8.p1         -0.1527      0.033     -4.609      0.000      -0.218      -0.088\n",
      "L8.p2          0.1227      0.034      3.660      0.000       0.057       0.188\n",
      "Det. terms outside the coint. relation & lagged endog. parameters for equation p2\n",
      "==============================================================================\n",
      "                 coef    std err          z      P>|z|      [0.025      0.975]\n",
      "------------------------------------------------------------------------------\n",
      "const         -0.0002      0.001     -0.310      0.757      -0.001       0.001\n",
      "L1.p1          0.0441      0.033      1.330      0.184      -0.021       0.109\n",
      "L1.p2         -0.0902      0.034     -2.692      0.007      -0.156      -0.025\n",
      "L2.p1         -0.0254      0.033     -0.765      0.445      -0.091       0.040\n",
      "L2.p2          0.0272      0.034      0.808      0.419      -0.039       0.093\n",
      "L3.p1          0.0711      0.033      2.136      0.033       0.006       0.136\n",
      "L3.p2         -0.0847      0.034     -2.512      0.012      -0.151      -0.019\n",
      "L4.p1          0.0210      0.033      0.630      0.529      -0.044       0.086\n",
      "L4.p2          0.0210      0.034      0.624      0.533      -0.045       0.087\n",
      "L5.p1         -0.0376      0.033     -1.130      0.259      -0.103       0.028\n",
      "L5.p2          0.1236      0.034      3.673      0.000       0.058       0.190\n",
      "L6.p1          0.0144      0.033      0.435      0.664      -0.050       0.079\n",
      "L6.p2         -0.0193      0.034     -0.577      0.564      -0.085       0.046\n",
      "L7.p1          0.0176      0.033      0.536      0.592      -0.047       0.082\n",
      "L7.p2          0.0192      0.033      0.574      0.566      -0.046       0.085\n",
      "L8.p1         -0.0673      0.032     -2.074      0.038      -0.131      -0.004\n",
      "L8.p2          0.1056      0.033      3.215      0.001       0.041       0.170\n",
      "                 Loading coefficients (alpha) for equation p1                 \n",
      "==============================================================================\n",
      "                 coef    std err          z      P>|z|      [0.025      0.975]\n",
      "------------------------------------------------------------------------------\n",
      "ec1            0.0050      0.013      0.394      0.694      -0.020       0.030\n",
      "                 Loading coefficients (alpha) for equation p2                 \n",
      "==============================================================================\n",
      "                 coef    std err          z      P>|z|      [0.025      0.975]\n",
      "------------------------------------------------------------------------------\n",
      "ec1            0.0582      0.012      4.709      0.000       0.034       0.082\n",
      "          Cointegration relations for loading-coefficients-column 1           \n",
      "==============================================================================\n",
      "                 coef    std err          z      P>|z|      [0.025      0.975]\n",
      "------------------------------------------------------------------------------\n",
      "beta.1         1.0000          0          0      0.000       1.000       1.000\n",
      "beta.2        -1.0034      0.016    -63.039      0.000      -1.035      -0.972\n",
      "==============================================================================\n"
     ]
    },
    {
     "name": "stderr",
     "output_type": "stream",
     "text": [
      "/opt/anaconda3/lib/python3.7/site-packages/statsmodels/tsa/base/tsa_model.py:595: ValueWarning: A date index has been provided, but it has no associated frequency information and so will be ignored when e.g. forecasting.\n",
      "  ' ignored when e.g. forecasting.', ValueWarning)\n"
     ]
    }
   ],
   "source": [
    "# Estimate VECM\n",
    "model = smt.VECM(data1, k_ar_diff=8, deterministic='co', coint_rank=1) # deterministic='co' adds an intercept to each equation\n",
    "vecm_results = model.fit()\n",
    "print(vecm_results.summary())\n",
    "vecm_residuals = vecm_results.resid"
   ]
  },
  {
   "cell_type": "code",
   "execution_count": 20,
   "metadata": {},
   "outputs": [],
   "source": [
    "# gamma F (from the instructions); spot market\n",
    "# ec1            0.0050      0.013      0.394      0.694      -0.020       0.030\n",
    "\n",
    "# results show that futures market moves first; does more price discovery\n",
    "\n",
    "# gamma S (from the instructions); futures market\n",
    "# ec1            0.0582      0.012      4.709      0.000       0.034       0.082\n",
    "# is statistically sig\n",
    "# says if the two prices move apart more than 1%, futures will move 0.058% towards equilibrium (and it is significant)"
   ]
  },
  {
   "cell_type": "code",
   "execution_count": 21,
   "metadata": {},
   "outputs": [
    {
     "data": {
      "text/plain": [
       "array([[ 0.00838173,  0.00984555],\n",
       "       [-0.00479872, -0.0119784 ],\n",
       "       [-0.02993236, -0.02611036],\n",
       "       ...,\n",
       "       [ 0.01506224,  0.01741636],\n",
       "       [ 0.0174755 ,  0.01506833],\n",
       "       [-0.00106666, -0.00044268]])"
      ]
     },
     "execution_count": 21,
     "metadata": {},
     "output_type": "execute_result"
    }
   ],
   "source": [
    "vecm_residuals\n",
    "# first column is futures, second is spot"
   ]
  },
  {
   "cell_type": "code",
   "execution_count": 22,
   "metadata": {},
   "outputs": [],
   "source": [
    "dp1r = [column[0] for column in vecm_residuals] # first value of indx is 0\n",
    "dp2r = [column[1] for column in vecm_residuals]"
   ]
  },
  {
   "cell_type": "code",
   "execution_count": 23,
   "metadata": {},
   "outputs": [
    {
     "data": {
      "image/png": "[encoded data removed]",
      "text/plain": [
       "<Figure size 432x288 with 1 Axes>"
      ]
     },
     "metadata": {
      "needs_background": "light"
     },
     "output_type": "display_data"
    }
   ],
   "source": [
    "# Correlogram for VECM residuals\n",
    "smt.graphics.plot_acf(dp1r,lags=10)\n",
    "plt.title('ACF for Residuals') #autocorrelation function (ACF)\n",
    "plt.show()"
   ]
  },
  {
   "cell_type": "code",
   "execution_count": 27,
   "metadata": {},
   "outputs": [
    {
     "data": {
      "text/plain": [
       "[('Ljung-Box statistic', 'lb_stat'), ('p-value', 'lb_pvalue')]"
      ]
     },
     "execution_count": 27,
     "metadata": {},
     "output_type": "execute_result"
    }
   ],
   "source": [
    "# Ljung-Box autocorrel test for residuals\n",
    "name = ['Ljung-Box statistic','p-value']\n",
    "test = sms.acorr_ljungbox(dp1r, lags=10)\n",
    "lzip(name,test)"
   ]
  },
  {
   "cell_type": "code",
   "execution_count": 28,
   "metadata": {},
   "outputs": [
    {
     "data": {
      "text/html": [
       "<div>\n",
       "<style scoped>\n",
       "    .dataframe tbody tr th:only-of-type {\n",
       "        vertical-align: middle;\n",
       "    }\n",
       "\n",
       "    .dataframe tbody tr th {\n",
       "        vertical-align: top;\n",
       "    }\n",
       "\n",
       "    .dataframe thead th {\n",
       "        text-align: right;\n",
       "    }\n",
       "</style>\n",
       "<table border=\"1\" class=\"dataframe\">\n",
       "  <thead>\n",
       "    <tr style=\"text-align: right;\">\n",
       "      <th></th>\n",
       "      <th>lb_stat</th>\n",
       "      <th>lb_pvalue</th>\n",
       "    </tr>\n",
       "  </thead>\n",
       "  <tbody>\n",
       "    <tr>\n",
       "      <th>1</th>\n",
       "      <td>0.000819</td>\n",
       "      <td>0.977167</td>\n",
       "    </tr>\n",
       "    <tr>\n",
       "      <th>2</th>\n",
       "      <td>0.024217</td>\n",
       "      <td>0.987964</td>\n",
       "    </tr>\n",
       "    <tr>\n",
       "      <th>3</th>\n",
       "      <td>0.028890</td>\n",
       "      <td>0.998705</td>\n",
       "    </tr>\n",
       "    <tr>\n",
       "      <th>4</th>\n",
       "      <td>0.161214</td>\n",
       "      <td>0.996921</td>\n",
       "    </tr>\n",
       "    <tr>\n",
       "      <th>5</th>\n",
       "      <td>0.262931</td>\n",
       "      <td>0.998283</td>\n",
       "    </tr>\n",
       "    <tr>\n",
       "      <th>6</th>\n",
       "      <td>0.263809</td>\n",
       "      <td>0.999653</td>\n",
       "    </tr>\n",
       "    <tr>\n",
       "      <th>7</th>\n",
       "      <td>0.404502</td>\n",
       "      <td>0.999727</td>\n",
       "    </tr>\n",
       "    <tr>\n",
       "      <th>8</th>\n",
       "      <td>0.494607</td>\n",
       "      <td>0.999872</td>\n",
       "    </tr>\n",
       "    <tr>\n",
       "      <th>9</th>\n",
       "      <td>1.711059</td>\n",
       "      <td>0.995257</td>\n",
       "    </tr>\n",
       "    <tr>\n",
       "      <th>10</th>\n",
       "      <td>1.711990</td>\n",
       "      <td>0.998109</td>\n",
       "    </tr>\n",
       "  </tbody>\n",
       "</table>\n",
       "</div>"
      ],
      "text/plain": [
       "     lb_stat  lb_pvalue\n",
       "1   0.000819   0.977167\n",
       "2   0.024217   0.987964\n",
       "3   0.028890   0.998705\n",
       "4   0.161214   0.996921\n",
       "5   0.262931   0.998283\n",
       "6   0.263809   0.999653\n",
       "7   0.404502   0.999727\n",
       "8   0.494607   0.999872\n",
       "9   1.711059   0.995257\n",
       "10  1.711990   0.998109"
      ]
     },
     "execution_count": 28,
     "metadata": {},
     "output_type": "execute_result"
    }
   ],
   "source": [
    "test"
   ]
  },
  {
   "cell_type": "code",
   "execution_count": 25,
   "metadata": {},
   "outputs": [
    {
     "data": {
      "text/plain": [
       "[('Ljung-Box statistic', 'lb_stat'), ('p-value', 'lb_pvalue')]"
      ]
     },
     "execution_count": 25,
     "metadata": {},
     "output_type": "execute_result"
    }
   ],
   "source": [
    "name = ['Ljung-Box statistic','p-value']\n",
    "test = sms.acorr_ljungbox(dp2r, lags=10)\n",
    "lzip(name,test)"
   ]
  },
  {
   "cell_type": "code",
   "execution_count": null,
   "metadata": {},
   "outputs": [],
   "source": []
  }
 ],
 "metadata": {
  "kernelspec": {
   "display_name": "Python 3",
   "language": "python",
   "name": "python3"
  },
  "language_info": {
   "codemirror_mode": {
    "name": "ipython",
    "version": 3
   },
   "file_extension": ".py",
   "mimetype": "text/x-python",
   "name": "python",
   "nbconvert_exporter": "python",
   "pygments_lexer": "ipython3",
   "version": "3.7.4"
  }
 },
 "nbformat": 4,
 "nbformat_minor": 5
}
