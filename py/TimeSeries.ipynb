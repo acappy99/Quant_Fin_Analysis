{
 "cells": [
  {
   "cell_type": "code",
   "execution_count": 2,
   "metadata": {},
   "outputs": [
    {
     "data": {
      "text/html": [
       "<div>\n",
       "<style scoped>\n",
       "    .dataframe tbody tr th:only-of-type {\n",
       "        vertical-align: middle;\n",
       "    }\n",
       "\n",
       "    .dataframe tbody tr th {\n",
       "        vertical-align: top;\n",
       "    }\n",
       "\n",
       "    .dataframe thead th {\n",
       "        text-align: right;\n",
       "    }\n",
       "</style>\n",
       "<table border=\"1\" class=\"dataframe\">\n",
       "  <thead>\n",
       "    <tr style=\"text-align: right;\">\n",
       "      <th></th>\n",
       "      <th>DJIA</th>\n",
       "      <th>QQQ</th>\n",
       "    </tr>\n",
       "    <tr>\n",
       "      <th>Date</th>\n",
       "      <th></th>\n",
       "      <th></th>\n",
       "    </tr>\n",
       "  </thead>\n",
       "  <tbody>\n",
       "    <tr>\n",
       "      <th>2020-03-11</th>\n",
       "      <td>23553.22</td>\n",
       "      <td>193.430893</td>\n",
       "    </tr>\n",
       "    <tr>\n",
       "      <th>2020-03-12</th>\n",
       "      <td>21200.62</td>\n",
       "      <td>175.694931</td>\n",
       "    </tr>\n",
       "    <tr>\n",
       "      <th>2020-03-13</th>\n",
       "      <td>23185.62</td>\n",
       "      <td>190.577286</td>\n",
       "    </tr>\n",
       "    <tr>\n",
       "      <th>2020-03-16</th>\n",
       "      <td>20188.52</td>\n",
       "      <td>167.748444</td>\n",
       "    </tr>\n",
       "    <tr>\n",
       "      <th>2020-03-17</th>\n",
       "      <td>21237.38</td>\n",
       "      <td>180.470000</td>\n",
       "    </tr>\n",
       "  </tbody>\n",
       "</table>\n",
       "</div>"
      ],
      "text/plain": [
       "                DJIA         QQQ\n",
       "Date                            \n",
       "2020-03-11  23553.22  193.430893\n",
       "2020-03-12  21200.62  175.694931\n",
       "2020-03-13  23185.62  190.577286\n",
       "2020-03-16  20188.52  167.748444\n",
       "2020-03-17  21237.38  180.470000"
      ]
     },
     "execution_count": 2,
     "metadata": {},
     "output_type": "execute_result"
    }
   ],
   "source": [
    "import numpy as np\n",
    "import pandas as pd\n",
    "from arch.unitroot import ADF\n",
    "import statsmodels.tsa.api as smt\n",
    "import statsmodels.formula.api as smf\n",
    "import statsmodels.stats.api as sms\n",
    "from arch import arch_model\n",
    "import matplotlib.pyplot as plt\n",
    "from statsmodels.compat import lzip\n",
    "from statsmodels.stats.diagnostic import het_arch\n",
    "data = pd.read_excel('/Users/alexcappadona/Downloads/PorftolioIndexData.xlsx', index_col=0)\n",
    "data.tail()"
   ]
  },
  {
   "cell_type": "code",
   "execution_count": 3,
   "metadata": {},
   "outputs": [
    {
     "data": {
      "text/html": [
       "<div>\n",
       "<style scoped>\n",
       "    .dataframe tbody tr th:only-of-type {\n",
       "        vertical-align: middle;\n",
       "    }\n",
       "\n",
       "    .dataframe tbody tr th {\n",
       "        vertical-align: top;\n",
       "    }\n",
       "\n",
       "    .dataframe thead th {\n",
       "        text-align: right;\n",
       "    }\n",
       "</style>\n",
       "<table border=\"1\" class=\"dataframe\">\n",
       "  <thead>\n",
       "    <tr style=\"text-align: right;\">\n",
       "      <th></th>\n",
       "      <th>DJIA</th>\n",
       "      <th>QQQ</th>\n",
       "      <th>DJIA_Return</th>\n",
       "      <th>QQQ_Return</th>\n",
       "    </tr>\n",
       "    <tr>\n",
       "      <th>Date</th>\n",
       "      <th></th>\n",
       "      <th></th>\n",
       "      <th></th>\n",
       "      <th></th>\n",
       "    </tr>\n",
       "  </thead>\n",
       "  <tbody>\n",
       "    <tr>\n",
       "      <th>2000-01-04</th>\n",
       "      <td>10997.93</td>\n",
       "      <td>76.538902</td>\n",
       "      <td>-0.031660</td>\n",
       "      <td>-0.068602</td>\n",
       "    </tr>\n",
       "    <tr>\n",
       "      <th>2000-01-05</th>\n",
       "      <td>11122.65</td>\n",
       "      <td>74.587456</td>\n",
       "      <td>0.011340</td>\n",
       "      <td>-0.025496</td>\n",
       "    </tr>\n",
       "    <tr>\n",
       "      <th>2000-01-06</th>\n",
       "      <td>11253.26</td>\n",
       "      <td>69.465050</td>\n",
       "      <td>0.011743</td>\n",
       "      <td>-0.068677</td>\n",
       "    </tr>\n",
       "    <tr>\n",
       "      <th>2000-01-07</th>\n",
       "      <td>11522.56</td>\n",
       "      <td>78.056686</td>\n",
       "      <td>0.023931</td>\n",
       "      <td>0.123683</td>\n",
       "    </tr>\n",
       "    <tr>\n",
       "      <th>2000-01-10</th>\n",
       "      <td>11572.20</td>\n",
       "      <td>80.224899</td>\n",
       "      <td>0.004308</td>\n",
       "      <td>0.027777</td>\n",
       "    </tr>\n",
       "  </tbody>\n",
       "</table>\n",
       "</div>"
      ],
      "text/plain": [
       "                DJIA        QQQ  DJIA_Return  QQQ_Return\n",
       "Date                                                    \n",
       "2000-01-04  10997.93  76.538902    -0.031660   -0.068602\n",
       "2000-01-05  11122.65  74.587456     0.011340   -0.025496\n",
       "2000-01-06  11253.26  69.465050     0.011743   -0.068677\n",
       "2000-01-07  11522.56  78.056686     0.023931    0.123683\n",
       "2000-01-10  11572.20  80.224899     0.004308    0.027777"
      ]
     },
     "execution_count": 3,
     "metadata": {},
     "output_type": "execute_result"
    }
   ],
   "source": [
    "# 2b: computing arithmetic returns for the indicies\n",
    "data['DJIA_Return'] = (data['DJIA']-data['DJIA'].shift(1))/data['DJIA'].shift(1)\n",
    "data['QQQ_Return'] = (data['QQQ']-data['QQQ'].shift(1))/data['QQQ'].shift(1)\n",
    "data=data.dropna()\n",
    "data.head()"
   ]
  },
  {
   "cell_type": "code",
   "execution_count": 4,
   "metadata": {},
   "outputs": [
    {
     "data": {
      "text/html": [
       "<div>\n",
       "<style scoped>\n",
       "    .dataframe tbody tr th:only-of-type {\n",
       "        vertical-align: middle;\n",
       "    }\n",
       "\n",
       "    .dataframe tbody tr th {\n",
       "        vertical-align: top;\n",
       "    }\n",
       "\n",
       "    .dataframe thead th {\n",
       "        text-align: right;\n",
       "    }\n",
       "</style>\n",
       "<table border=\"1\" class=\"dataframe\">\n",
       "  <thead>\n",
       "    <tr style=\"text-align: right;\">\n",
       "      <th></th>\n",
       "      <th>DJIA</th>\n",
       "      <th>QQQ</th>\n",
       "      <th>DJIA_Return</th>\n",
       "      <th>QQQ_Return</th>\n",
       "      <th>PortReturn</th>\n",
       "    </tr>\n",
       "    <tr>\n",
       "      <th>Date</th>\n",
       "      <th></th>\n",
       "      <th></th>\n",
       "      <th></th>\n",
       "      <th></th>\n",
       "      <th></th>\n",
       "    </tr>\n",
       "  </thead>\n",
       "  <tbody>\n",
       "    <tr>\n",
       "      <th>2000-01-04</th>\n",
       "      <td>10997.93</td>\n",
       "      <td>76.538902</td>\n",
       "      <td>-0.031660</td>\n",
       "      <td>-0.068602</td>\n",
       "      <td>-0.050131</td>\n",
       "    </tr>\n",
       "    <tr>\n",
       "      <th>2000-01-05</th>\n",
       "      <td>11122.65</td>\n",
       "      <td>74.587456</td>\n",
       "      <td>0.011340</td>\n",
       "      <td>-0.025496</td>\n",
       "      <td>-0.007078</td>\n",
       "    </tr>\n",
       "    <tr>\n",
       "      <th>2000-01-06</th>\n",
       "      <td>11253.26</td>\n",
       "      <td>69.465050</td>\n",
       "      <td>0.011743</td>\n",
       "      <td>-0.068677</td>\n",
       "      <td>-0.028467</td>\n",
       "    </tr>\n",
       "    <tr>\n",
       "      <th>2000-01-07</th>\n",
       "      <td>11522.56</td>\n",
       "      <td>78.056686</td>\n",
       "      <td>0.023931</td>\n",
       "      <td>0.123683</td>\n",
       "      <td>0.073807</td>\n",
       "    </tr>\n",
       "    <tr>\n",
       "      <th>2000-01-10</th>\n",
       "      <td>11572.20</td>\n",
       "      <td>80.224899</td>\n",
       "      <td>0.004308</td>\n",
       "      <td>0.027777</td>\n",
       "      <td>0.016043</td>\n",
       "    </tr>\n",
       "  </tbody>\n",
       "</table>\n",
       "</div>"
      ],
      "text/plain": [
       "                DJIA        QQQ  DJIA_Return  QQQ_Return  PortReturn\n",
       "Date                                                                \n",
       "2000-01-04  10997.93  76.538902    -0.031660   -0.068602   -0.050131\n",
       "2000-01-05  11122.65  74.587456     0.011340   -0.025496   -0.007078\n",
       "2000-01-06  11253.26  69.465050     0.011743   -0.068677   -0.028467\n",
       "2000-01-07  11522.56  78.056686     0.023931    0.123683    0.073807\n",
       "2000-01-10  11572.20  80.224899     0.004308    0.027777    0.016043"
      ]
     },
     "execution_count": 4,
     "metadata": {},
     "output_type": "execute_result"
    }
   ],
   "source": [
    "# 2b: client's portfolio return\n",
    "data['PortReturn'] = (.5*data['DJIA_Return'])+(.5*data['QQQ_Return'])\n",
    "data.head()"
   ]
  },
  {
   "cell_type": "code",
   "execution_count": 5,
   "metadata": {},
   "outputs": [
    {
     "data": {
      "text/html": [
       "<div>\n",
       "<style scoped>\n",
       "    .dataframe tbody tr th:only-of-type {\n",
       "        vertical-align: middle;\n",
       "    }\n",
       "\n",
       "    .dataframe tbody tr th {\n",
       "        vertical-align: top;\n",
       "    }\n",
       "\n",
       "    .dataframe thead th {\n",
       "        text-align: right;\n",
       "    }\n",
       "</style>\n",
       "<table border=\"1\" class=\"dataframe\">\n",
       "  <thead>\n",
       "    <tr style=\"text-align: right;\">\n",
       "      <th></th>\n",
       "      <th>DJIA</th>\n",
       "      <th>QQQ</th>\n",
       "      <th>DJIA_Return</th>\n",
       "      <th>QQQ_Return</th>\n",
       "      <th>PortReturn</th>\n",
       "      <th>lnPortReturn</th>\n",
       "    </tr>\n",
       "    <tr>\n",
       "      <th>Date</th>\n",
       "      <th></th>\n",
       "      <th></th>\n",
       "      <th></th>\n",
       "      <th></th>\n",
       "      <th></th>\n",
       "      <th></th>\n",
       "    </tr>\n",
       "  </thead>\n",
       "  <tbody>\n",
       "    <tr>\n",
       "      <th>2000-01-04</th>\n",
       "      <td>10997.93</td>\n",
       "      <td>76.538902</td>\n",
       "      <td>-0.031660</td>\n",
       "      <td>-0.068602</td>\n",
       "      <td>-0.050131</td>\n",
       "      <td>-5.143118</td>\n",
       "    </tr>\n",
       "    <tr>\n",
       "      <th>2000-01-05</th>\n",
       "      <td>11122.65</td>\n",
       "      <td>74.587456</td>\n",
       "      <td>0.011340</td>\n",
       "      <td>-0.025496</td>\n",
       "      <td>-0.007078</td>\n",
       "      <td>-0.710308</td>\n",
       "    </tr>\n",
       "    <tr>\n",
       "      <th>2000-01-06</th>\n",
       "      <td>11253.26</td>\n",
       "      <td>69.465050</td>\n",
       "      <td>0.011743</td>\n",
       "      <td>-0.068677</td>\n",
       "      <td>-0.028467</td>\n",
       "      <td>-2.887994</td>\n",
       "    </tr>\n",
       "    <tr>\n",
       "      <th>2000-01-07</th>\n",
       "      <td>11522.56</td>\n",
       "      <td>78.056686</td>\n",
       "      <td>0.023931</td>\n",
       "      <td>0.123683</td>\n",
       "      <td>0.073807</td>\n",
       "      <td>7.121014</td>\n",
       "    </tr>\n",
       "    <tr>\n",
       "      <th>2000-01-10</th>\n",
       "      <td>11572.20</td>\n",
       "      <td>80.224899</td>\n",
       "      <td>0.004308</td>\n",
       "      <td>0.027777</td>\n",
       "      <td>0.016043</td>\n",
       "      <td>1.591542</td>\n",
       "    </tr>\n",
       "  </tbody>\n",
       "</table>\n",
       "</div>"
      ],
      "text/plain": [
       "                DJIA        QQQ  DJIA_Return  QQQ_Return  PortReturn  \\\n",
       "Date                                                                   \n",
       "2000-01-04  10997.93  76.538902    -0.031660   -0.068602   -0.050131   \n",
       "2000-01-05  11122.65  74.587456     0.011340   -0.025496   -0.007078   \n",
       "2000-01-06  11253.26  69.465050     0.011743   -0.068677   -0.028467   \n",
       "2000-01-07  11522.56  78.056686     0.023931    0.123683    0.073807   \n",
       "2000-01-10  11572.20  80.224899     0.004308    0.027777    0.016043   \n",
       "\n",
       "            lnPortReturn  \n",
       "Date                      \n",
       "2000-01-04     -5.143118  \n",
       "2000-01-05     -0.710308  \n",
       "2000-01-06     -2.887994  \n",
       "2000-01-07      7.121014  \n",
       "2000-01-10      1.591542  "
      ]
     },
     "execution_count": 5,
     "metadata": {},
     "output_type": "execute_result"
    }
   ],
   "source": [
    "# og return of the portfolio\n",
    "data['lnPortReturn'] = np.log(1+data['PortReturn'])*100\n",
    "data.head()\n",
    "# lnPortReturn is computed as a % (decimal return * 100)"
   ]
  },
  {
   "cell_type": "code",
   "execution_count": 6,
   "metadata": {},
   "outputs": [
    {
     "data": {
      "text/html": [
       "<div>\n",
       "<style scoped>\n",
       "    .dataframe tbody tr th:only-of-type {\n",
       "        vertical-align: middle;\n",
       "    }\n",
       "\n",
       "    .dataframe tbody tr th {\n",
       "        vertical-align: top;\n",
       "    }\n",
       "\n",
       "    .dataframe thead th {\n",
       "        text-align: right;\n",
       "    }\n",
       "</style>\n",
       "<table border=\"1\" class=\"dataframe\">\n",
       "  <thead>\n",
       "    <tr style=\"text-align: right;\">\n",
       "      <th></th>\n",
       "      <th>DJIA</th>\n",
       "      <th>QQQ</th>\n",
       "      <th>DJIA_Return</th>\n",
       "      <th>QQQ_Return</th>\n",
       "      <th>PortReturn</th>\n",
       "      <th>lnPortReturn</th>\n",
       "    </tr>\n",
       "  </thead>\n",
       "  <tbody>\n",
       "    <tr>\n",
       "      <th>count</th>\n",
       "      <td>5082.000000</td>\n",
       "      <td>5082.000000</td>\n",
       "      <td>5082.000000</td>\n",
       "      <td>5082.000000</td>\n",
       "      <td>5082.000000</td>\n",
       "      <td>5082.000000</td>\n",
       "    </tr>\n",
       "    <tr>\n",
       "      <th>mean</th>\n",
       "      <td>14180.579213</td>\n",
       "      <td>70.802288</td>\n",
       "      <td>0.000192</td>\n",
       "      <td>0.000307</td>\n",
       "      <td>0.000250</td>\n",
       "      <td>0.015561</td>\n",
       "    </tr>\n",
       "    <tr>\n",
       "      <th>std</th>\n",
       "      <td>5355.655584</td>\n",
       "      <td>48.715541</td>\n",
       "      <td>0.011711</td>\n",
       "      <td>0.017477</td>\n",
       "      <td>0.013707</td>\n",
       "      <td>1.371331</td>\n",
       "    </tr>\n",
       "    <tr>\n",
       "      <th>min</th>\n",
       "      <td>6547.050000</td>\n",
       "      <td>17.397966</td>\n",
       "      <td>-0.129265</td>\n",
       "      <td>-0.119788</td>\n",
       "      <td>-0.124527</td>\n",
       "      <td>-13.299057</td>\n",
       "    </tr>\n",
       "    <tr>\n",
       "      <th>25%</th>\n",
       "      <td>10425.082500</td>\n",
       "      <td>34.424785</td>\n",
       "      <td>-0.004559</td>\n",
       "      <td>-0.006438</td>\n",
       "      <td>-0.005338</td>\n",
       "      <td>-0.535232</td>\n",
       "    </tr>\n",
       "    <tr>\n",
       "      <th>50%</th>\n",
       "      <td>12156.790000</td>\n",
       "      <td>49.471565</td>\n",
       "      <td>0.000481</td>\n",
       "      <td>0.000962</td>\n",
       "      <td>0.000761</td>\n",
       "      <td>0.076069</td>\n",
       "    </tr>\n",
       "    <tr>\n",
       "      <th>75%</th>\n",
       "      <td>17141.372500</td>\n",
       "      <td>98.551839</td>\n",
       "      <td>0.005465</td>\n",
       "      <td>0.007725</td>\n",
       "      <td>0.006393</td>\n",
       "      <td>0.637285</td>\n",
       "    </tr>\n",
       "    <tr>\n",
       "      <th>max</th>\n",
       "      <td>29551.420000</td>\n",
       "      <td>234.808182</td>\n",
       "      <td>0.110803</td>\n",
       "      <td>0.168421</td>\n",
       "      <td>0.116226</td>\n",
       "      <td>10.995296</td>\n",
       "    </tr>\n",
       "  </tbody>\n",
       "</table>\n",
       "</div>"
      ],
      "text/plain": [
       "               DJIA          QQQ  DJIA_Return   QQQ_Return   PortReturn  \\\n",
       "count   5082.000000  5082.000000  5082.000000  5082.000000  5082.000000   \n",
       "mean   14180.579213    70.802288     0.000192     0.000307     0.000250   \n",
       "std     5355.655584    48.715541     0.011711     0.017477     0.013707   \n",
       "min     6547.050000    17.397966    -0.129265    -0.119788    -0.124527   \n",
       "25%    10425.082500    34.424785    -0.004559    -0.006438    -0.005338   \n",
       "50%    12156.790000    49.471565     0.000481     0.000962     0.000761   \n",
       "75%    17141.372500    98.551839     0.005465     0.007725     0.006393   \n",
       "max    29551.420000   234.808182     0.110803     0.168421     0.116226   \n",
       "\n",
       "       lnPortReturn  \n",
       "count   5082.000000  \n",
       "mean       0.015561  \n",
       "std        1.371331  \n",
       "min      -13.299057  \n",
       "25%       -0.535232  \n",
       "50%        0.076069  \n",
       "75%        0.637285  \n",
       "max       10.995296  "
      ]
     },
     "execution_count": 6,
     "metadata": {},
     "output_type": "execute_result"
    }
   ],
   "source": [
    "# 2b\n",
    "data.describe()"
   ]
  },
  {
   "cell_type": "code",
   "execution_count": 27,
   "metadata": {
    "scrolled": true
   },
   "outputs": [
    {
     "data": {
      "text/plain": [
       "-38937.60682947424"
      ]
     },
     "execution_count": 27,
     "metadata": {},
     "output_type": "execute_result"
    }
   ],
   "source": [
    "# 2c VaR\n",
    "# W0 portfolio value\n",
    "W0 = 1000000\n",
    "np.quantile(data['lnPortReturn'], 0.01)/100*W0\n",
    "# divided by 100 to account for the whole number percentage (lnPortReturn)"
   ]
  },
  {
   "cell_type": "code",
   "execution_count": 8,
   "metadata": {},
   "outputs": [
    {
     "name": "stdout",
     "output_type": "stream",
     "text": [
      "                            OLS Regression Results                            \n",
      "==============================================================================\n",
      "Dep. Variable:           lnPortReturn   R-squared:                      -0.000\n",
      "Model:                            OLS   Adj. R-squared:                 -0.000\n",
      "Method:                 Least Squares   F-statistic:                       nan\n",
      "Date:                Thu, 09 Dec 2021   Prob (F-statistic):                nan\n",
      "Time:                        17:52:30   Log-Likelihood:                -8815.3\n",
      "No. Observations:                5082   AIC:                         1.763e+04\n",
      "Df Residuals:                    5081   BIC:                         1.764e+04\n",
      "Df Model:                           0                                         \n",
      "Covariance Type:            nonrobust                                         \n",
      "==============================================================================\n",
      "                 coef    std err          t      P>|t|      [0.025      0.975]\n",
      "------------------------------------------------------------------------------\n",
      "Intercept      0.0156      0.019      0.809      0.419      -0.022       0.053\n",
      "==============================================================================\n",
      "Omnibus:                      810.006   Durbin-Watson:                   2.157\n",
      "Prob(Omnibus):                  0.000   Jarque-Bera (JB):            13723.373\n",
      "Skew:                          -0.171   Prob(JB):                         0.00\n",
      "Kurtosis:                      11.043   Cond. No.                         1.00\n",
      "==============================================================================\n",
      "\n",
      "Notes:\n",
      "[1] Standard Errors assume that the covariance matrix of the errors is correctly specified.\n"
     ]
    }
   ],
   "source": [
    "# 2d regression\n",
    "\n",
    "formula = 'lnPortReturn ~ 1'\n",
    "results = smf.ols(formula, data).fit()\n",
    "print(results.summary())"
   ]
  },
  {
   "cell_type": "code",
   "execution_count": 9,
   "metadata": {},
   "outputs": [
    {
     "data": {
      "text/plain": [
       "[('lm', 1302.7124670070498),\n",
       " ('lmpval', 9.93839368540674e-274),\n",
       " ('fval', 174.91442979112753),\n",
       " ('fpval', 4.3953463e-317)]"
      ]
     },
     "execution_count": 9,
     "metadata": {},
     "output_type": "execute_result"
    }
   ],
   "source": [
    "# 2d continued\n",
    "# ARCH test\n",
    "\n",
    "res = het_arch(results.resid,nlags=10) # resid is the variable we are analyzing\n",
    "name = ['lm','lmpval','fval','fpval'] \n",
    "lzip(name,res)"
   ]
  },
  {
   "cell_type": "code",
   "execution_count": 10,
   "metadata": {},
   "outputs": [
    {
     "name": "stdout",
     "output_type": "stream",
     "text": [
      "Iteration:      1,   Func. Count:      6,   Neg. LLF: 7527.203488214137\n",
      "Iteration:      2,   Func. Count:     16,   Neg. LLF: 7517.45226645908\n",
      "Iteration:      3,   Func. Count:     24,   Neg. LLF: 7505.695775769686\n",
      "Iteration:      4,   Func. Count:     32,   Neg. LLF: 7501.063555520256\n",
      "Iteration:      5,   Func. Count:     39,   Neg. LLF: 7496.667926393996\n",
      "Iteration:      6,   Func. Count:     46,   Neg. LLF: 7490.597909692933\n",
      "Iteration:      7,   Func. Count:     53,   Neg. LLF: 7486.958584394339\n",
      "Iteration:      8,   Func. Count:     60,   Neg. LLF: 7485.28136019553\n",
      "Iteration:      9,   Func. Count:     67,   Neg. LLF: 7483.5502436412535\n",
      "Iteration:     10,   Func. Count:     73,   Neg. LLF: 7483.263043404587\n",
      "Iteration:     11,   Func. Count:     79,   Neg. LLF: 7483.207191687005\n",
      "Iteration:     12,   Func. Count:     85,   Neg. LLF: 7483.206063064132\n",
      "Iteration:     13,   Func. Count:     91,   Neg. LLF: 7483.206050628339\n",
      "Optimization terminated successfully.    (Exit mode 0)\n",
      "            Current function value: 7483.206050632183\n",
      "            Iterations: 13\n",
      "            Function evaluations: 91\n",
      "            Gradient evaluations: 13\n"
     ]
    },
    {
     "name": "stderr",
     "output_type": "stream",
     "text": [
      "/opt/anaconda3/lib/python3.7/site-packages/matplotlib/cbook/__init__.py:1402: FutureWarning: Support for multi-dimensional indexing (e.g. `obj[:, None]`) is deprecated and will be removed in a future version.  Convert to a numpy array before indexing instead.\n",
      "  x[:, None]\n",
      "/opt/anaconda3/lib/python3.7/site-packages/matplotlib/axes/_base.py:278: FutureWarning: Support for multi-dimensional indexing (e.g. `obj[:, None]`) is deprecated and will be removed in a future version.  Convert to a numpy array before indexing instead.\n",
      "  y = y[:, np.newaxis]\n"
     ]
    },
    {
     "data": {
      "image/png": "[encoded data removed]",
      "text/plain": [
       "<Figure size 432x288 with 2 Axes>"
      ]
     },
     "metadata": {
      "needs_background": "light"
     },
     "output_type": "display_data"
    }
   ],
   "source": [
    "# 2e \n",
    "# GARCH (1,1) model\n",
    "\n",
    "\n",
    "model = arch_model(data['lnPortReturn'], mean='constant', vol='GARCH', p=1, q=1)\n",
    "model_fit = model.fit()\n",
    "# Plot the results\n",
    "model_fit.plot()\n",
    "plt.show()"
   ]
  },
  {
   "cell_type": "code",
   "execution_count": 11,
   "metadata": {},
   "outputs": [
    {
     "name": "stdout",
     "output_type": "stream",
     "text": [
      "                     Constant Mean - GARCH Model Results                      \n",
      "==============================================================================\n",
      "Dep. Variable:           lnPortReturn   R-squared:                       0.000\n",
      "Mean Model:             Constant Mean   Adj. R-squared:                  0.000\n",
      "Vol Model:                      GARCH   Log-Likelihood:               -7483.21\n",
      "Distribution:                  Normal   AIC:                           14974.4\n",
      "Method:            Maximum Likelihood   BIC:                           15000.5\n",
      "                                        No. Observations:                 5082\n",
      "Date:                Thu, Dec 09 2021   Df Residuals:                     5081\n",
      "Time:                        17:52:31   Df Model:                            1\n",
      "                                 Mean Model                                 \n",
      "============================================================================\n",
      "                 coef    std err          t      P>|t|      95.0% Conf. Int.\n",
      "----------------------------------------------------------------------------\n",
      "mu             0.0754  1.243e-02      6.071  1.268e-09 [5.109e-02,9.980e-02]\n",
      "                              Volatility Model                              \n",
      "============================================================================\n",
      "                 coef    std err          t      P>|t|      95.0% Conf. Int.\n",
      "----------------------------------------------------------------------------\n",
      "omega          0.0222  4.510e-03      4.929  8.273e-07 [1.339e-02,3.107e-02]\n",
      "alpha[1]       0.1194  1.255e-02      9.512  1.877e-21   [9.479e-02,  0.144]\n",
      "beta[1]        0.8691  1.195e-02     72.746      0.000     [  0.846,  0.892]\n",
      "============================================================================\n",
      "\n",
      "Covariance estimator: robust\n"
     ]
    }
   ],
   "source": [
    "# the model parameters to be presented\n",
    "print(model_fit)"
   ]
  },
  {
   "cell_type": "code",
   "execution_count": 12,
   "metadata": {},
   "outputs": [
    {
     "name": "stdout",
     "output_type": "stream",
     "text": [
      "                 h.1\n",
      "Date                \n",
      "2020-03-17  6.863169\n"
     ]
    },
    {
     "name": "stderr",
     "output_type": "stream",
     "text": [
      "/opt/anaconda3/lib/python3.7/site-packages/arch/__future__/_utility.py:21: FutureWarning: \n",
      "The default for reindex is True. After September 2021 this will change to\n",
      "False. Set reindex to True or False to silence this message. Alternatively,\n",
      "you can use the import comment\n",
      "\n",
      "from arch.__future__ import reindexing\n",
      "\n",
      "to globally set reindex to True and silence this warning.\n",
      "\n",
      "  FutureWarning,\n"
     ]
    }
   ],
   "source": [
    "cv_forecast = model_fit.forecast(horizon=1) # 1 period forecast for March 18, 2020\n",
    "print(cv_forecast.variance[-1:]**0.5) # print the forecast sigma\n",
    "\n",
    "# ??how do I get forecast for time 0 (March 17, 2020)??"
   ]
  },
  {
   "cell_type": "code",
   "execution_count": 13,
   "metadata": {},
   "outputs": [
    {
     "data": {
      "image/png": "[encoded data removed]",
      "text/plain": [
       "<Figure size 432x288 with 1 Axes>"
      ]
     },
     "metadata": {
      "needs_background": "light"
     },
     "output_type": "display_data"
    }
   ],
   "source": [
    "\n",
    "resid = model_fit.resid\n",
    "cond_std = model_fit.conditional_volatility\n",
    "cond_std.plot()\n",
    "plt.show()\n",
    "# estimated volatility over the period from Jan 1, 2000 to March 17, 2020:"
   ]
  },
  {
   "cell_type": "code",
   "execution_count": 23,
   "metadata": {},
   "outputs": [
    {
     "data": {
      "text/html": [
       "<div>\n",
       "<style scoped>\n",
       "    .dataframe tbody tr th:only-of-type {\n",
       "        vertical-align: middle;\n",
       "    }\n",
       "\n",
       "    .dataframe tbody tr th {\n",
       "        vertical-align: top;\n",
       "    }\n",
       "\n",
       "    .dataframe thead th {\n",
       "        text-align: right;\n",
       "    }\n",
       "</style>\n",
       "<table border=\"1\" class=\"dataframe\">\n",
       "  <thead>\n",
       "    <tr style=\"text-align: right;\">\n",
       "      <th></th>\n",
       "      <th>resid</th>\n",
       "      <th>cond_vol</th>\n",
       "    </tr>\n",
       "    <tr>\n",
       "      <th>Date</th>\n",
       "      <th></th>\n",
       "      <th></th>\n",
       "    </tr>\n",
       "  </thead>\n",
       "  <tbody>\n",
       "    <tr>\n",
       "      <th>2020-03-11</th>\n",
       "      <td>-5.315888</td>\n",
       "      <td>3.898407</td>\n",
       "    </tr>\n",
       "    <tr>\n",
       "      <th>2020-03-12</th>\n",
       "      <td>-10.144580</td>\n",
       "      <td>4.074791</td>\n",
       "    </tr>\n",
       "    <tr>\n",
       "      <th>2020-03-13</th>\n",
       "      <td>8.465922</td>\n",
       "      <td>5.171017</td>\n",
       "    </tr>\n",
       "    <tr>\n",
       "      <th>2020-03-16</th>\n",
       "      <td>-13.374500</td>\n",
       "      <td>5.640736</td>\n",
       "    </tr>\n",
       "    <tr>\n",
       "      <th>2020-03-17</th>\n",
       "      <td>6.118246</td>\n",
       "      <td>7.002230</td>\n",
       "    </tr>\n",
       "  </tbody>\n",
       "</table>\n",
       "</div>"
      ],
      "text/plain": [
       "                resid  cond_vol\n",
       "Date                           \n",
       "2020-03-11  -5.315888  3.898407\n",
       "2020-03-12 -10.144580  4.074791\n",
       "2020-03-13   8.465922  5.171017\n",
       "2020-03-16 -13.374500  5.640736\n",
       "2020-03-17   6.118246  7.002230"
      ]
     },
     "execution_count": 23,
     "metadata": {},
     "output_type": "execute_result"
    }
   ],
   "source": [
    "st_residuals = pd.merge(resid, cond_std, how=\"inner\", on=\"Date\")\n",
    "st_residuals.tail()"
   ]
  },
  {
   "cell_type": "code",
   "execution_count": 15,
   "metadata": {},
   "outputs": [],
   "source": [
    "st_residuals = st_residuals.resid/st_residuals.cond_vol"
   ]
  },
  {
   "cell_type": "code",
   "execution_count": 16,
   "metadata": {},
   "outputs": [
    {
     "data": {
      "text/plain": [
       "count    5082.000000\n",
       "mean       -0.054359\n",
       "std         0.998902\n",
       "min        -6.421333\n",
       "25%        -0.598757\n",
       "50%         0.000658\n",
       "75%         0.541517\n",
       "max         4.358124\n",
       "dtype: float64"
      ]
     },
     "execution_count": 16,
     "metadata": {},
     "output_type": "execute_result"
    }
   ],
   "source": [
    "st_residuals.describe()"
   ]
  },
  {
   "cell_type": "code",
   "execution_count": 17,
   "metadata": {},
   "outputs": [
    {
     "data": {
      "image/png": "[encoded data removed]",
      "text/plain": [
       "<Figure size 432x288 with 1 Axes>"
      ]
     },
     "metadata": {
      "needs_background": "light"
     },
     "output_type": "display_data"
    }
   ],
   "source": [
    "st_residuals.plot()\n",
    "plt.show()"
   ]
  },
  {
   "cell_type": "code",
   "execution_count": 18,
   "metadata": {},
   "outputs": [
    {
     "data": {
      "text/plain": [
       "[('lm', 12.90365182755481),\n",
       " ('lmpval', 0.2291087641357376),\n",
       " ('fval', 1.2908507252060044),\n",
       " ('fpval', 0.2291881396856176)]"
      ]
     },
     "execution_count": 18,
     "metadata": {},
     "output_type": "execute_result"
    }
   ],
   "source": [
    "# 2f\n",
    "# ARCH test on standardized residuals\n",
    "# Null: no ARCH\n",
    "res = het_arch(st_residuals,nlags=10)\n",
    "name = ['lm','lmpval','fval','fpval'] \n",
    "lzip(name,res)"
   ]
  },
  {
   "cell_type": "code",
   "execution_count": 53,
   "metadata": {},
   "outputs": [],
   "source": [
    "# 2g\n",
    "# 99% VAR for March 18, 2020\n",
    "za = np.quantile(st_residuals, 0.01)\n",
    "ohat = 6.964844/100"
   ]
  },
  {
   "cell_type": "code",
   "execution_count": 56,
   "metadata": {
    "scrolled": false
   },
   "outputs": [
    {
     "data": {
      "text/plain": [
       "-222509.323199075"
      ]
     },
     "execution_count": 56,
     "metadata": {},
     "output_type": "execute_result"
    }
   ],
   "source": [
    "# 2g answer\n",
    "za*ohat*W0"
   ]
  },
  {
   "cell_type": "code",
   "execution_count": null,
   "metadata": {},
   "outputs": [],
   "source": []
  },
  {
   "cell_type": "code",
   "execution_count": null,
   "metadata": {},
   "outputs": [],
   "source": []
  }
 ],
 "metadata": {
  "kernelspec": {
   "display_name": "Python 3",
   "language": "python",
   "name": "python3"
  },
  "language_info": {
   "codemirror_mode": {
    "name": "ipython",
    "version": 3
   },
   "file_extension": ".py",
   "mimetype": "text/x-python",
   "name": "python",
   "nbconvert_exporter": "python",
   "pygments_lexer": "ipython3",
   "version": "3.7.4"
  }
 },
 "nbformat": 4,
 "nbformat_minor": 2
}
