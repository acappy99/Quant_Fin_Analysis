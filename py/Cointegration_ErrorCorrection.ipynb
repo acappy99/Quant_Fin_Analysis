{
 "cells": [
  {
   "cell_type": "code",
   "execution_count": 29,
   "metadata": {},
   "outputs": [
    {
     "data": {
      "text/html": [
       "<div>\n",
       "<style scoped>\n",
       "    .dataframe tbody tr th:only-of-type {\n",
       "        vertical-align: middle;\n",
       "    }\n",
       "\n",
       "    .dataframe tbody tr th {\n",
       "        vertical-align: top;\n",
       "    }\n",
       "\n",
       "    .dataframe thead th {\n",
       "        text-align: right;\n",
       "    }\n",
       "</style>\n",
       "<table border=\"1\" class=\"dataframe\">\n",
       "  <thead>\n",
       "    <tr style=\"text-align: right;\">\n",
       "      <th></th>\n",
       "      <th>futures</th>\n",
       "      <th>spot</th>\n",
       "    </tr>\n",
       "    <tr>\n",
       "      <th>Date</th>\n",
       "      <th></th>\n",
       "      <th></th>\n",
       "    </tr>\n",
       "  </thead>\n",
       "  <tbody>\n",
       "    <tr>\n",
       "      <th>2000-01-04</th>\n",
       "      <td>25.55</td>\n",
       "      <td>25.56</td>\n",
       "    </tr>\n",
       "    <tr>\n",
       "      <th>2000-01-05</th>\n",
       "      <td>24.91</td>\n",
       "      <td>24.65</td>\n",
       "    </tr>\n",
       "    <tr>\n",
       "      <th>2000-01-06</th>\n",
       "      <td>24.78</td>\n",
       "      <td>24.79</td>\n",
       "    </tr>\n",
       "    <tr>\n",
       "      <th>2000-01-07</th>\n",
       "      <td>24.22</td>\n",
       "      <td>24.79</td>\n",
       "    </tr>\n",
       "    <tr>\n",
       "      <th>2000-01-10</th>\n",
       "      <td>24.67</td>\n",
       "      <td>24.71</td>\n",
       "    </tr>\n",
       "  </tbody>\n",
       "</table>\n",
       "</div>"
      ],
      "text/plain": [
       "            futures   spot\n",
       "Date                      \n",
       "2000-01-04    25.55  25.56\n",
       "2000-01-05    24.91  24.65\n",
       "2000-01-06    24.78  24.79\n",
       "2000-01-07    24.22  24.79\n",
       "2000-01-10    24.67  24.71"
      ]
     },
     "execution_count": 29,
     "metadata": {},
     "output_type": "execute_result"
    }
   ],
   "source": [
    "import numpy as np\n",
    "import pandas as pd\n",
    "from arch.unitroot import ADF\n",
    "import statsmodels.tsa.api as smt\n",
    "import statsmodels.stats.api as sms\n",
    "import statsmodels.formula.api as smf\n",
    "import matplotlib.pyplot as plt\n",
    "from statsmodels.compat import lzip\n",
    "abspath = '/Users/alexcappadona/Downloads/'\n",
    "data = pd.read_excel(abspath + 'CrudeSpotFutures.xlsx', index_col=0)\n",
    "data.head()"
   ]
  },
  {
   "cell_type": "code",
   "execution_count": 30,
   "metadata": {},
   "outputs": [
    {
     "data": {
      "text/html": [
       "<div>\n",
       "<style scoped>\n",
       "    .dataframe tbody tr th:only-of-type {\n",
       "        vertical-align: middle;\n",
       "    }\n",
       "\n",
       "    .dataframe tbody tr th {\n",
       "        vertical-align: top;\n",
       "    }\n",
       "\n",
       "    .dataframe thead th {\n",
       "        text-align: right;\n",
       "    }\n",
       "</style>\n",
       "<table border=\"1\" class=\"dataframe\">\n",
       "  <thead>\n",
       "    <tr style=\"text-align: right;\">\n",
       "      <th></th>\n",
       "      <th>futures</th>\n",
       "      <th>spot</th>\n",
       "    </tr>\n",
       "    <tr>\n",
       "      <th>Date</th>\n",
       "      <th></th>\n",
       "      <th></th>\n",
       "    </tr>\n",
       "  </thead>\n",
       "  <tbody>\n",
       "    <tr>\n",
       "      <th>2020-12-24</th>\n",
       "      <td>48.23</td>\n",
       "      <td>48.18</td>\n",
       "    </tr>\n",
       "    <tr>\n",
       "      <th>2020-12-28</th>\n",
       "      <td>47.62</td>\n",
       "      <td>47.50</td>\n",
       "    </tr>\n",
       "    <tr>\n",
       "      <th>2020-12-29</th>\n",
       "      <td>48.00</td>\n",
       "      <td>47.85</td>\n",
       "    </tr>\n",
       "    <tr>\n",
       "      <th>2020-12-30</th>\n",
       "      <td>48.40</td>\n",
       "      <td>48.24</td>\n",
       "    </tr>\n",
       "    <tr>\n",
       "      <th>2020-12-31</th>\n",
       "      <td>48.52</td>\n",
       "      <td>48.35</td>\n",
       "    </tr>\n",
       "  </tbody>\n",
       "</table>\n",
       "</div>"
      ],
      "text/plain": [
       "            futures   spot\n",
       "Date                      \n",
       "2020-12-24    48.23  48.18\n",
       "2020-12-28    47.62  47.50\n",
       "2020-12-29    48.00  47.85\n",
       "2020-12-30    48.40  48.24\n",
       "2020-12-31    48.52  48.35"
      ]
     },
     "execution_count": 30,
     "metadata": {},
     "output_type": "execute_result"
    }
   ],
   "source": [
    "data.tail()"
   ]
  },
  {
   "cell_type": "code",
   "execution_count": 31,
   "metadata": {},
   "outputs": [
    {
     "data": {
      "text/html": [
       "<div>\n",
       "<style scoped>\n",
       "    .dataframe tbody tr th:only-of-type {\n",
       "        vertical-align: middle;\n",
       "    }\n",
       "\n",
       "    .dataframe tbody tr th {\n",
       "        vertical-align: top;\n",
       "    }\n",
       "\n",
       "    .dataframe thead th {\n",
       "        text-align: right;\n",
       "    }\n",
       "</style>\n",
       "<table border=\"1\" class=\"dataframe\">\n",
       "  <thead>\n",
       "    <tr style=\"text-align: right;\">\n",
       "      <th></th>\n",
       "      <th>futures</th>\n",
       "      <th>spot</th>\n",
       "    </tr>\n",
       "  </thead>\n",
       "  <tbody>\n",
       "    <tr>\n",
       "      <th>count</th>\n",
       "      <td>5256.000000</td>\n",
       "      <td>5256.000000</td>\n",
       "    </tr>\n",
       "    <tr>\n",
       "      <th>mean</th>\n",
       "      <td>60.912597</td>\n",
       "      <td>60.866292</td>\n",
       "    </tr>\n",
       "    <tr>\n",
       "      <th>std</th>\n",
       "      <td>26.136736</td>\n",
       "      <td>26.147000</td>\n",
       "    </tr>\n",
       "    <tr>\n",
       "      <th>min</th>\n",
       "      <td>10.010000</td>\n",
       "      <td>8.910000</td>\n",
       "    </tr>\n",
       "    <tr>\n",
       "      <th>25%</th>\n",
       "      <td>39.687500</td>\n",
       "      <td>39.557500</td>\n",
       "    </tr>\n",
       "    <tr>\n",
       "      <th>50%</th>\n",
       "      <td>57.355000</td>\n",
       "      <td>57.305000</td>\n",
       "    </tr>\n",
       "    <tr>\n",
       "      <th>75%</th>\n",
       "      <td>81.250000</td>\n",
       "      <td>81.242500</td>\n",
       "    </tr>\n",
       "    <tr>\n",
       "      <th>max</th>\n",
       "      <td>145.290000</td>\n",
       "      <td>145.310000</td>\n",
       "    </tr>\n",
       "  </tbody>\n",
       "</table>\n",
       "</div>"
      ],
      "text/plain": [
       "           futures         spot\n",
       "count  5256.000000  5256.000000\n",
       "mean     60.912597    60.866292\n",
       "std      26.136736    26.147000\n",
       "min      10.010000     8.910000\n",
       "25%      39.687500    39.557500\n",
       "50%      57.355000    57.305000\n",
       "75%      81.250000    81.242500\n",
       "max     145.290000   145.310000"
      ]
     },
     "execution_count": 31,
     "metadata": {},
     "output_type": "execute_result"
    }
   ],
   "source": [
    "data.describe()"
   ]
  },
  {
   "cell_type": "code",
   "execution_count": 32,
   "metadata": {},
   "outputs": [
    {
     "data": {
      "image/png": "[encoded data removed]",
      "text/plain": [
       "<Figure size 432x288 with 1 Axes>"
      ]
     },
     "metadata": {
      "needs_background": "light"
     },
     "output_type": "display_data"
    }
   ],
   "source": [
    "plt.figure(1)\n",
    "plt.plot(data['spot'], label='spot')\n",
    "plt.plot(data['futures'], label='futures')\n",
    "plt.xlabel('Date')\n",
    "plt.ylabel('Spot/Futures')\n",
    "plt.title('Crude Spot and Futures')\n",
    "plt.grid(True)\n",
    "plt.legend()\n",
    "plt.show()"
   ]
  },
  {
   "cell_type": "code",
   "execution_count": 33,
   "metadata": {},
   "outputs": [
    {
     "data": {
      "text/html": [
       "<div>\n",
       "<style scoped>\n",
       "    .dataframe tbody tr th:only-of-type {\n",
       "        vertical-align: middle;\n",
       "    }\n",
       "\n",
       "    .dataframe tbody tr th {\n",
       "        vertical-align: top;\n",
       "    }\n",
       "\n",
       "    .dataframe thead th {\n",
       "        text-align: right;\n",
       "    }\n",
       "</style>\n",
       "<table border=\"1\" class=\"dataframe\">\n",
       "  <thead>\n",
       "    <tr style=\"text-align: right;\">\n",
       "      <th></th>\n",
       "      <th>futures</th>\n",
       "      <th>spot</th>\n",
       "      <th>p1</th>\n",
       "      <th>p2</th>\n",
       "      <th>dp1</th>\n",
       "      <th>dp2</th>\n",
       "    </tr>\n",
       "    <tr>\n",
       "      <th>Date</th>\n",
       "      <th></th>\n",
       "      <th></th>\n",
       "      <th></th>\n",
       "      <th></th>\n",
       "      <th></th>\n",
       "      <th></th>\n",
       "    </tr>\n",
       "  </thead>\n",
       "  <tbody>\n",
       "    <tr>\n",
       "      <th>2000-01-05</th>\n",
       "      <td>24.91</td>\n",
       "      <td>24.65</td>\n",
       "      <td>3.215269</td>\n",
       "      <td>3.204777</td>\n",
       "      <td>-0.025368</td>\n",
       "      <td>-0.036252</td>\n",
       "    </tr>\n",
       "    <tr>\n",
       "      <th>2000-01-06</th>\n",
       "      <td>24.78</td>\n",
       "      <td>24.79</td>\n",
       "      <td>3.210037</td>\n",
       "      <td>3.210440</td>\n",
       "      <td>-0.005232</td>\n",
       "      <td>0.005663</td>\n",
       "    </tr>\n",
       "    <tr>\n",
       "      <th>2000-01-07</th>\n",
       "      <td>24.22</td>\n",
       "      <td>24.79</td>\n",
       "      <td>3.187179</td>\n",
       "      <td>3.210440</td>\n",
       "      <td>-0.022858</td>\n",
       "      <td>0.000000</td>\n",
       "    </tr>\n",
       "    <tr>\n",
       "      <th>2000-01-10</th>\n",
       "      <td>24.67</td>\n",
       "      <td>24.71</td>\n",
       "      <td>3.205588</td>\n",
       "      <td>3.207208</td>\n",
       "      <td>0.018409</td>\n",
       "      <td>-0.003232</td>\n",
       "    </tr>\n",
       "    <tr>\n",
       "      <th>2000-01-11</th>\n",
       "      <td>25.77</td>\n",
       "      <td>25.69</td>\n",
       "      <td>3.249211</td>\n",
       "      <td>3.246102</td>\n",
       "      <td>0.043623</td>\n",
       "      <td>0.038894</td>\n",
       "    </tr>\n",
       "  </tbody>\n",
       "</table>\n",
       "</div>"
      ],
      "text/plain": [
       "            futures   spot        p1        p2       dp1       dp2\n",
       "Date                                                              \n",
       "2000-01-05    24.91  24.65  3.215269  3.204777 -0.025368 -0.036252\n",
       "2000-01-06    24.78  24.79  3.210037  3.210440 -0.005232  0.005663\n",
       "2000-01-07    24.22  24.79  3.187179  3.210440 -0.022858  0.000000\n",
       "2000-01-10    24.67  24.71  3.205588  3.207208  0.018409 -0.003232\n",
       "2000-01-11    25.77  25.69  3.249211  3.246102  0.043623  0.038894"
      ]
     },
     "execution_count": 33,
     "metadata": {},
     "output_type": "execute_result"
    }
   ],
   "source": [
    "# compute log returs\n",
    "# p1: futures\n",
    "# p2: spot\n",
    "data['p1']=np.log(data['futures'])\n",
    "data['p2']=np.log(data['spot'])\n",
    "data['dp1']=data['p1'].diff()\n",
    "data['dp2']=data['p2'].diff()\n",
    "data=data.dropna()\n",
    "data.head()"
   ]
  },
  {
   "cell_type": "code",
   "execution_count": 34,
   "metadata": {},
   "outputs": [
    {
     "name": "stdout",
     "output_type": "stream",
     "text": [
      "   Augmented Dickey-Fuller Results   \n",
      "=====================================\n",
      "Test Statistic                 -2.245\n",
      "P-value                         0.190\n",
      "Lags                               10\n",
      "-------------------------------------\n",
      "\n",
      "Trend: Constant\n",
      "Critical Values: -3.43 (1%), -2.86 (5%), -2.57 (10%)\n",
      "Null Hypothesis: The process contains a unit root.\n",
      "Alternative Hypothesis: The process is weakly stationary.\n",
      "   Augmented Dickey-Fuller Results   \n",
      "=====================================\n",
      "Test Statistic                 -2.255\n",
      "P-value                         0.187\n",
      "Lags                               10\n",
      "-------------------------------------\n",
      "\n",
      "Trend: Constant\n",
      "Critical Values: -3.43 (1%), -2.86 (5%), -2.57 (10%)\n",
      "Null Hypothesis: The process contains a unit root.\n",
      "Alternative Hypothesis: The process is weakly stationary.\n"
     ]
    }
   ],
   "source": [
    "# Are the prices stationary?\n",
    "res1=ADF(data['p1'], lags=10)\n",
    "print(res1.summary())\n",
    "res2=ADF(data['p2'], lags=10)\n",
    "print(res2.summary())"
   ]
  },
  {
   "cell_type": "code",
   "execution_count": 35,
   "metadata": {},
   "outputs": [
    {
     "name": "stdout",
     "output_type": "stream",
     "text": [
      "                            OLS Regression Results                            \n",
      "==============================================================================\n",
      "Dep. Variable:                     p1   R-squared:                       0.999\n",
      "Model:                            OLS   Adj. R-squared:                  0.999\n",
      "Method:                 Least Squares   F-statistic:                 6.388e+06\n",
      "Date:                Fri, 10 Dec 2021   Prob (F-statistic):               0.00\n",
      "Time:                        14:01:23   Log-Likelihood:                 15313.\n",
      "No. Observations:                5255   AIC:                        -3.062e+04\n",
      "Df Residuals:                    5253   BIC:                        -3.061e+04\n",
      "Df Model:                           1                                         \n",
      "Covariance Type:            nonrobust                                         \n",
      "==============================================================================\n",
      "                 coef    std err          t      P>|t|      [0.025      0.975]\n",
      "------------------------------------------------------------------------------\n",
      "Intercept      0.0083      0.002      5.210      0.000       0.005       0.011\n",
      "p2             0.9982      0.000   2527.409      0.000       0.997       0.999\n",
      "==============================================================================\n",
      "Omnibus:                     9140.505   Durbin-Watson:                   0.753\n",
      "Prob(Omnibus):                  0.000   Jarque-Bera (JB):         18874639.472\n",
      "Skew:                          11.841   Prob(JB):                         0.00\n",
      "Kurtosis:                     295.645   Cond. No.                         37.7\n",
      "==============================================================================\n",
      "\n",
      "Notes:\n",
      "[1] Standard Errors assume that the covariance matrix of the errors is correctly specified.\n"
     ]
    }
   ],
   "source": [
    "formula = 'p1 ~ p2'\n",
    "results = smf.ols(formula, data).fit()\n",
    "print(results.summary())\n",
    "residuals = results.resid"
   ]
  },
  {
   "cell_type": "code",
   "execution_count": 36,
   "metadata": {},
   "outputs": [
    {
     "name": "stdout",
     "output_type": "stream",
     "text": [
      "   Augmented Dickey-Fuller Results   \n",
      "=====================================\n",
      "Test Statistic                -19.295\n",
      "P-value                         0.000\n",
      "Lags                               10\n",
      "-------------------------------------\n",
      "\n",
      "Trend: Constant\n",
      "Critical Values: -3.43 (1%), -2.86 (5%), -2.57 (10%)\n",
      "Null Hypothesis: The process contains a unit root.\n",
      "Alternative Hypothesis: The process is weakly stationary.\n"
     ]
    }
   ],
   "source": [
    "res=ADF(residuals, lags=10)\n",
    "print(res.summary())"
   ]
  },
  {
   "cell_type": "code",
   "execution_count": 37,
   "metadata": {},
   "outputs": [
    {
     "name": "stdout",
     "output_type": "stream",
     "text": [
      "   Augmented Dickey-Fuller Results   \n",
      "=====================================\n",
      "Test Statistic                -23.060\n",
      "P-value                         0.000\n",
      "Lags                               10\n",
      "-------------------------------------\n",
      "\n",
      "Trend: Constant\n",
      "Critical Values: -3.43 (1%), -2.86 (5%), -2.57 (10%)\n",
      "Null Hypothesis: The process contains a unit root.\n",
      "Alternative Hypothesis: The process is weakly stationary.\n",
      "   Augmented Dickey-Fuller Results   \n",
      "=====================================\n",
      "Test Statistic                -24.011\n",
      "P-value                         0.000\n",
      "Lags                               10\n",
      "-------------------------------------\n",
      "\n",
      "Trend: Constant\n",
      "Critical Values: -3.43 (1%), -2.86 (5%), -2.57 (10%)\n",
      "Null Hypothesis: The process contains a unit root.\n",
      "Alternative Hypothesis: The process is weakly stationary.\n"
     ]
    }
   ],
   "source": [
    "# are the returns stationary?\n",
    "res1a=ADF(data['dp1'], lags=10)\n",
    "print(res1a.summary())\n",
    "res2a=ADF(data['dp2'], lags=10)\n",
    "print(res2a.summary())"
   ]
  },
  {
   "cell_type": "code",
   "execution_count": 38,
   "metadata": {},
   "outputs": [
    {
     "data": {
      "image/png": "[encoded data removed]",
      "text/plain": [
       "<Figure size 432x288 with 1 Axes>"
      ]
     },
     "metadata": {
      "needs_background": "light"
     },
     "output_type": "display_data"
    }
   ],
   "source": [
    "# Correlogram for price\n",
    "smt.graphics.plot_acf(data['p1'], lags=50)\n",
    "plt.title('ACF for log price')\n",
    "plt.show()"
   ]
  },
  {
   "cell_type": "code",
   "execution_count": 39,
   "metadata": {},
   "outputs": [
    {
     "data": {
      "image/png": "[encoded data removed]",
      "text/plain": [
       "<Figure size 432x288 with 1 Axes>"
      ]
     },
     "metadata": {
      "needs_background": "light"
     },
     "output_type": "display_data"
    }
   ],
   "source": [
    "# Correlogram for returns\n",
    "smt.graphics.plot_acf(data['dp1'], lags=50)\n",
    "plt.title('ACF for log return')\n",
    "plt.show()"
   ]
  },
  {
   "cell_type": "code",
   "execution_count": 40,
   "metadata": {},
   "outputs": [
    {
     "data": {
      "image/png": "[encoded data removed]",
      "text/plain": [
       "<Figure size 432x288 with 1 Axes>"
      ]
     },
     "metadata": {
      "needs_background": "light"
     },
     "output_type": "display_data"
    }
   ],
   "source": [
    "# Correlogram for returns\n",
    "smt.graphics.plot_acf(data['dp2'], lags=50)\n",
    "plt.title('ACF for log return')\n",
    "plt.show()"
   ]
  },
  {
   "cell_type": "code",
   "execution_count": 41,
   "metadata": {},
   "outputs": [
    {
     "data": {
      "text/plain": [
       "[('Ljung-Box statistic', 'lb_stat'), ('p-value', 'lb_pvalue')]"
      ]
     },
     "execution_count": 41,
     "metadata": {},
     "output_type": "execute_result"
    }
   ],
   "source": [
    "# Ljung-Box autocorrelation test\n",
    "name=['Ljung-Box statistic', 'p-value']\n",
    "test=sms.acorr_ljungbox(data['dp1'], lags=10)\n",
    "lzip(name,test)"
   ]
  },
  {
   "cell_type": "code",
   "execution_count": 42,
   "metadata": {},
   "outputs": [
    {
     "data": {
      "text/html": [
       "<div>\n",
       "<style scoped>\n",
       "    .dataframe tbody tr th:only-of-type {\n",
       "        vertical-align: middle;\n",
       "    }\n",
       "\n",
       "    .dataframe tbody tr th {\n",
       "        vertical-align: top;\n",
       "    }\n",
       "\n",
       "    .dataframe thead th {\n",
       "        text-align: right;\n",
       "    }\n",
       "</style>\n",
       "<table border=\"1\" class=\"dataframe\">\n",
       "  <thead>\n",
       "    <tr style=\"text-align: right;\">\n",
       "      <th></th>\n",
       "      <th>lb_stat</th>\n",
       "      <th>lb_pvalue</th>\n",
       "    </tr>\n",
       "  </thead>\n",
       "  <tbody>\n",
       "    <tr>\n",
       "      <th>1</th>\n",
       "      <td>10.328884</td>\n",
       "      <td>1.309644e-03</td>\n",
       "    </tr>\n",
       "    <tr>\n",
       "      <th>2</th>\n",
       "      <td>25.766173</td>\n",
       "      <td>2.540661e-06</td>\n",
       "    </tr>\n",
       "    <tr>\n",
       "      <th>3</th>\n",
       "      <td>27.668653</td>\n",
       "      <td>4.262699e-06</td>\n",
       "    </tr>\n",
       "    <tr>\n",
       "      <th>4</th>\n",
       "      <td>56.566531</td>\n",
       "      <td>1.525293e-11</td>\n",
       "    </tr>\n",
       "    <tr>\n",
       "      <th>5</th>\n",
       "      <td>56.687189</td>\n",
       "      <td>5.866163e-11</td>\n",
       "    </tr>\n",
       "    <tr>\n",
       "      <th>6</th>\n",
       "      <td>58.612012</td>\n",
       "      <td>8.611194e-11</td>\n",
       "    </tr>\n",
       "    <tr>\n",
       "      <th>7</th>\n",
       "      <td>60.743605</td>\n",
       "      <td>1.072263e-10</td>\n",
       "    </tr>\n",
       "    <tr>\n",
       "      <th>8</th>\n",
       "      <td>64.316358</td>\n",
       "      <td>6.587313e-11</td>\n",
       "    </tr>\n",
       "    <tr>\n",
       "      <th>9</th>\n",
       "      <td>65.036814</td>\n",
       "      <td>1.419129e-10</td>\n",
       "    </tr>\n",
       "    <tr>\n",
       "      <th>10</th>\n",
       "      <td>72.031982</td>\n",
       "      <td>1.793775e-11</td>\n",
       "    </tr>\n",
       "  </tbody>\n",
       "</table>\n",
       "</div>"
      ],
      "text/plain": [
       "      lb_stat     lb_pvalue\n",
       "1   10.328884  1.309644e-03\n",
       "2   25.766173  2.540661e-06\n",
       "3   27.668653  4.262699e-06\n",
       "4   56.566531  1.525293e-11\n",
       "5   56.687189  5.866163e-11\n",
       "6   58.612012  8.611194e-11\n",
       "7   60.743605  1.072263e-10\n",
       "8   64.316358  6.587313e-11\n",
       "9   65.036814  1.419129e-10\n",
       "10  72.031982  1.793775e-11"
      ]
     },
     "execution_count": 42,
     "metadata": {},
     "output_type": "execute_result"
    }
   ],
   "source": [
    "test"
   ]
  },
  {
   "cell_type": "code",
   "execution_count": 43,
   "metadata": {},
   "outputs": [
    {
     "data": {
      "text/plain": [
       "[('Ljung-Box statistic', 'lb_stat'), ('p-value', 'lb_pvalue')]"
      ]
     },
     "execution_count": 43,
     "metadata": {},
     "output_type": "execute_result"
    }
   ],
   "source": [
    "# Ljung-Box autocorrelation test\n",
    "name=['Ljung-Box statistic', 'p-value']\n",
    "test=sms.acorr_ljungbox(data['dp2'], lags=10)\n",
    "lzip(name,test)"
   ]
  },
  {
   "cell_type": "code",
   "execution_count": 44,
   "metadata": {},
   "outputs": [
    {
     "data": {
      "text/html": [
       "<div>\n",
       "<style scoped>\n",
       "    .dataframe tbody tr th:only-of-type {\n",
       "        vertical-align: middle;\n",
       "    }\n",
       "\n",
       "    .dataframe tbody tr th {\n",
       "        vertical-align: top;\n",
       "    }\n",
       "\n",
       "    .dataframe thead th {\n",
       "        text-align: right;\n",
       "    }\n",
       "</style>\n",
       "<table border=\"1\" class=\"dataframe\">\n",
       "  <thead>\n",
       "    <tr style=\"text-align: right;\">\n",
       "      <th></th>\n",
       "      <th>lb_stat</th>\n",
       "      <th>lb_pvalue</th>\n",
       "    </tr>\n",
       "  </thead>\n",
       "  <tbody>\n",
       "    <tr>\n",
       "      <th>1</th>\n",
       "      <td>39.183861</td>\n",
       "      <td>3.857155e-10</td>\n",
       "    </tr>\n",
       "    <tr>\n",
       "      <th>2</th>\n",
       "      <td>39.733170</td>\n",
       "      <td>2.355330e-09</td>\n",
       "    </tr>\n",
       "    <tr>\n",
       "      <th>3</th>\n",
       "      <td>51.007274</td>\n",
       "      <td>4.874660e-11</td>\n",
       "    </tr>\n",
       "    <tr>\n",
       "      <th>4</th>\n",
       "      <td>88.760163</td>\n",
       "      <td>2.414576e-18</td>\n",
       "    </tr>\n",
       "    <tr>\n",
       "      <th>5</th>\n",
       "      <td>93.258763</td>\n",
       "      <td>1.387920e-18</td>\n",
       "    </tr>\n",
       "    <tr>\n",
       "      <th>6</th>\n",
       "      <td>93.907026</td>\n",
       "      <td>4.668184e-18</td>\n",
       "    </tr>\n",
       "    <tr>\n",
       "      <th>7</th>\n",
       "      <td>123.883814</td>\n",
       "      <td>1.188370e-23</td>\n",
       "    </tr>\n",
       "    <tr>\n",
       "      <th>8</th>\n",
       "      <td>132.362820</td>\n",
       "      <td>9.155170e-25</td>\n",
       "    </tr>\n",
       "    <tr>\n",
       "      <th>9</th>\n",
       "      <td>132.500033</td>\n",
       "      <td>3.628180e-24</td>\n",
       "    </tr>\n",
       "    <tr>\n",
       "      <th>10</th>\n",
       "      <td>145.854455</td>\n",
       "      <td>2.652157e-26</td>\n",
       "    </tr>\n",
       "  </tbody>\n",
       "</table>\n",
       "</div>"
      ],
      "text/plain": [
       "       lb_stat     lb_pvalue\n",
       "1    39.183861  3.857155e-10\n",
       "2    39.733170  2.355330e-09\n",
       "3    51.007274  4.874660e-11\n",
       "4    88.760163  2.414576e-18\n",
       "5    93.258763  1.387920e-18\n",
       "6    93.907026  4.668184e-18\n",
       "7   123.883814  1.188370e-23\n",
       "8   132.362820  9.155170e-25\n",
       "9   132.500033  3.628180e-24\n",
       "10  145.854455  2.652157e-26"
      ]
     },
     "execution_count": 44,
     "metadata": {},
     "output_type": "execute_result"
    }
   ],
   "source": [
    "test"
   ]
  },
  {
   "cell_type": "code",
   "execution_count": 15,
   "metadata": {},
   "outputs": [
    {
     "data": {
      "text/plain": [
       "0.923927040278879"
      ]
     },
     "execution_count": 15,
     "metadata": {},
     "output_type": "execute_result"
    }
   ],
   "source": [
    "data['dp1'].corr(data['dp2']) # correlation of spot and futures returns"
   ]
  },
  {
   "cell_type": "code",
   "execution_count": 16,
   "metadata": {},
   "outputs": [
    {
     "data": {
      "text/html": [
       "<div>\n",
       "<style scoped>\n",
       "    .dataframe tbody tr th:only-of-type {\n",
       "        vertical-align: middle;\n",
       "    }\n",
       "\n",
       "    .dataframe tbody tr th {\n",
       "        vertical-align: top;\n",
       "    }\n",
       "\n",
       "    .dataframe thead th {\n",
       "        text-align: right;\n",
       "    }\n",
       "</style>\n",
       "<table border=\"1\" class=\"dataframe\">\n",
       "  <thead>\n",
       "    <tr style=\"text-align: right;\">\n",
       "      <th></th>\n",
       "      <th>p1</th>\n",
       "      <th>p2</th>\n",
       "    </tr>\n",
       "    <tr>\n",
       "      <th>Date</th>\n",
       "      <th></th>\n",
       "      <th></th>\n",
       "    </tr>\n",
       "  </thead>\n",
       "  <tbody>\n",
       "    <tr>\n",
       "      <th>2000-01-05</th>\n",
       "      <td>3.215269</td>\n",
       "      <td>3.204777</td>\n",
       "    </tr>\n",
       "    <tr>\n",
       "      <th>2000-01-06</th>\n",
       "      <td>3.210037</td>\n",
       "      <td>3.210440</td>\n",
       "    </tr>\n",
       "    <tr>\n",
       "      <th>2000-01-07</th>\n",
       "      <td>3.187179</td>\n",
       "      <td>3.210440</td>\n",
       "    </tr>\n",
       "    <tr>\n",
       "      <th>2000-01-10</th>\n",
       "      <td>3.205588</td>\n",
       "      <td>3.207208</td>\n",
       "    </tr>\n",
       "    <tr>\n",
       "      <th>2000-01-11</th>\n",
       "      <td>3.249211</td>\n",
       "      <td>3.246102</td>\n",
       "    </tr>\n",
       "  </tbody>\n",
       "</table>\n",
       "</div>"
      ],
      "text/plain": [
       "                  p1        p2\n",
       "Date                          \n",
       "2000-01-05  3.215269  3.204777\n",
       "2000-01-06  3.210037  3.210440\n",
       "2000-01-07  3.187179  3.210440\n",
       "2000-01-10  3.205588  3.207208\n",
       "2000-01-11  3.249211  3.246102"
      ]
     },
     "execution_count": 16,
     "metadata": {},
     "output_type": "execute_result"
    }
   ],
   "source": [
    "data1=data.drop(['spot', 'futures', 'dp1', 'dp2'], axis=1) # axis=1 means columns (variables)\n",
    "data1.head()"
   ]
  },
  {
   "cell_type": "code",
   "execution_count": 17,
   "metadata": {},
   "outputs": [
    {
     "name": "stderr",
     "output_type": "stream",
     "text": [
      "/opt/anaconda3/lib/python3.7/site-packages/statsmodels/tsa/base/tsa_model.py:595: ValueWarning: A date index has been provided, but it has no associated frequency information and so will be ignored when e.g. forecasting.\n",
      "  ' ignored when e.g. forecasting.', ValueWarning)\n"
     ]
    },
    {
     "name": "stdout",
     "output_type": "stream",
     "text": [
      "Det. terms outside the coint. relation & lagged endog. parameters for equation p1\n",
      "==============================================================================\n",
      "                 coef    std err          z      P>|z|      [0.025      0.975]\n",
      "------------------------------------------------------------------------------\n",
      "const         -0.0001      0.000     -0.303      0.762      -0.001       0.001\n",
      "L1.p1         -0.1793      0.055     -3.252      0.001      -0.287      -0.071\n",
      "L1.p2          0.1237      0.053      2.330      0.020       0.020       0.228\n",
      "L2.p1         -0.3229      0.053     -6.067      0.000      -0.427      -0.219\n",
      "L2.p2          0.2698      0.051      5.314      0.000       0.170       0.369\n",
      "L3.p1         -0.0840      0.052     -1.616      0.106      -0.186       0.018\n",
      "L3.p2          0.0677      0.049      1.370      0.171      -0.029       0.165\n",
      "L4.p1         -0.0004      0.049     -0.008      0.993      -0.097       0.096\n",
      "L4.p2          0.0659      0.047      1.404      0.160      -0.026       0.158\n",
      "L5.p1         -0.0153      0.047     -0.323      0.747      -0.108       0.078\n",
      "L5.p2          0.0303      0.045      0.674      0.500      -0.058       0.118\n",
      "L6.p1          0.0939      0.044      2.137      0.033       0.008       0.180\n",
      "L6.p2         -0.1044      0.042     -2.513      0.012      -0.186      -0.023\n",
      "L7.p1          0.1511      0.042      3.615      0.000       0.069       0.233\n",
      "L7.p2         -0.1693      0.040     -4.257      0.000      -0.247      -0.091\n",
      "L8.p1          0.0796      0.039      2.017      0.044       0.002       0.157\n",
      "L8.p2         -0.0671      0.037     -1.793      0.073      -0.140       0.006\n",
      "Det. terms outside the coint. relation & lagged endog. parameters for equation p2\n",
      "==============================================================================\n",
      "                 coef    std err          z      P>|z|      [0.025      0.975]\n",
      "------------------------------------------------------------------------------\n",
      "const         -0.0014      0.000     -3.152      0.002      -0.002      -0.001\n",
      "L1.p1         -0.2347      0.059     -4.010      0.000      -0.349      -0.120\n",
      "L1.p2          0.1557      0.056      2.764      0.006       0.045       0.266\n",
      "L2.p1         -0.3461      0.056     -6.128      0.000      -0.457      -0.235\n",
      "L2.p2          0.3178      0.054      5.896      0.000       0.212       0.423\n",
      "L3.p1          0.0046      0.055      0.084      0.933      -0.104       0.113\n",
      "L3.p2         -0.0091      0.052     -0.174      0.862      -0.112       0.094\n",
      "L4.p1          0.0106      0.052      0.203      0.839      -0.092       0.113\n",
      "L4.p2          0.0739      0.050      1.484      0.138      -0.024       0.171\n",
      "L5.p1          0.0294      0.050      0.584      0.559      -0.069       0.128\n",
      "L5.p2         -0.0162      0.048     -0.339      0.735      -0.110       0.077\n",
      "L6.p1          0.0966      0.047      2.071      0.038       0.005       0.188\n",
      "L6.p2         -0.0702      0.044     -1.591      0.112      -0.157       0.016\n",
      "L7.p1          0.1774      0.044      3.999      0.000       0.090       0.264\n",
      "L7.p2         -0.2020      0.042     -4.787      0.000      -0.285      -0.119\n",
      "L8.p1          0.1455      0.042      3.473      0.001       0.063       0.228\n",
      "L8.p2         -0.1065      0.040     -2.682      0.007      -0.184      -0.029\n",
      "                 Loading coefficients (alpha) for equation p1                 \n",
      "==============================================================================\n",
      "                 coef    std err          z      P>|z|      [0.025      0.975]\n",
      "------------------------------------------------------------------------------\n",
      "ec1            0.0705      0.050      1.407      0.159      -0.028       0.169\n",
      "                 Loading coefficients (alpha) for equation p2                 \n",
      "==============================================================================\n",
      "                 coef    std err          z      P>|z|      [0.025      0.975]\n",
      "------------------------------------------------------------------------------\n",
      "ec1            0.4509      0.053      8.473      0.000       0.347       0.555\n",
      "          Cointegration relations for loading-coefficients-column 1           \n",
      "==============================================================================\n",
      "                 coef    std err          z      P>|z|      [0.025      0.975]\n",
      "------------------------------------------------------------------------------\n",
      "beta.1         1.0000          0          0      0.000       1.000       1.000\n",
      "beta.2        -0.9994      0.001  -1260.288      0.000      -1.001      -0.998\n",
      "==============================================================================\n"
     ]
    }
   ],
   "source": [
    "# Estimate VECM\n",
    "model = smt.VECM(data1, k_ar_diff=8, deterministic=\"co\", coint_rank=1) # deterministic=\"co\" adds an intercept\n",
    "vecm_res = model.fit()\n",
    "print(vecm_res.summary())\n",
    "vecm_residuals = vecm_res.resid"
   ]
  },
  {
   "cell_type": "code",
   "execution_count": 18,
   "metadata": {},
   "outputs": [
    {
     "data": {
      "text/plain": [
       "array([[ 0.02762676,  0.01020916],\n",
       "       [ 0.00482708,  0.01397123],\n",
       "       [-0.05005284, -0.00072606],\n",
       "       ...,\n",
       "       [ 0.00878065,  0.00644661],\n",
       "       [ 0.00699548,  0.00701397],\n",
       "       [ 0.00197485,  0.00086319]])"
      ]
     },
     "execution_count": 18,
     "metadata": {},
     "output_type": "execute_result"
    }
   ],
   "source": [
    "vecm_residuals"
   ]
  },
  {
   "cell_type": "code",
   "execution_count": 50,
   "metadata": {},
   "outputs": [],
   "source": [
    "dp1r=[column[0] for column in vecm_residuals] # first value of index is 0\n",
    "dp2r=[column[1] for column in vecm_residuals] "
   ]
  },
  {
   "cell_type": "code",
   "execution_count": 51,
   "metadata": {},
   "outputs": [
    {
     "data": {
      "image/png": "[encoded data removed]",
      "text/plain": [
       "<Figure size 432x288 with 1 Axes>"
      ]
     },
     "metadata": {
      "needs_background": "light"
     },
     "output_type": "display_data"
    }
   ],
   "source": [
    "# Correlogram for VECM resilduals\n",
    "smt.graphics.plot_acf(dp1r, lags=10)\n",
    "plt.title('ACF for Residual')\n",
    "plt.show()"
   ]
  },
  {
   "cell_type": "code",
   "execution_count": 52,
   "metadata": {},
   "outputs": [
    {
     "data": {
      "image/png": "[encoded data removed]",
      "text/plain": [
       "<Figure size 432x288 with 1 Axes>"
      ]
     },
     "metadata": {
      "needs_background": "light"
     },
     "output_type": "display_data"
    }
   ],
   "source": [
    "# Correlogram for VECM resilduals\n",
    "smt.graphics.plot_acf(dp2r, lags=10)\n",
    "plt.title('ACF for Residual')\n",
    "plt.show()"
   ]
  },
  {
   "cell_type": "code",
   "execution_count": 58,
   "metadata": {},
   "outputs": [
    {
     "data": {
      "text/plain": [
       "[('Ljung-Box statistic', 'lb_stat'), ('p-value', 'lb_pvalue')]"
      ]
     },
     "execution_count": 58,
     "metadata": {},
     "output_type": "execute_result"
    }
   ],
   "source": [
    "# Ljung-Box autocorrelation test for residuals\n",
    "name=['Ljung-Box statistic', 'p-value']\n",
    "test=sms.acorr_ljungbox(dp1r, lags=10)\n",
    "lzip(name,test)"
   ]
  },
  {
   "cell_type": "code",
   "execution_count": 59,
   "metadata": {},
   "outputs": [
    {
     "data": {
      "text/html": [
       "<div>\n",
       "<style scoped>\n",
       "    .dataframe tbody tr th:only-of-type {\n",
       "        vertical-align: middle;\n",
       "    }\n",
       "\n",
       "    .dataframe tbody tr th {\n",
       "        vertical-align: top;\n",
       "    }\n",
       "\n",
       "    .dataframe thead th {\n",
       "        text-align: right;\n",
       "    }\n",
       "</style>\n",
       "<table border=\"1\" class=\"dataframe\">\n",
       "  <thead>\n",
       "    <tr style=\"text-align: right;\">\n",
       "      <th></th>\n",
       "      <th>lb_stat</th>\n",
       "      <th>lb_pvalue</th>\n",
       "    </tr>\n",
       "  </thead>\n",
       "  <tbody>\n",
       "    <tr>\n",
       "      <th>1</th>\n",
       "      <td>0.008613</td>\n",
       "      <td>0.926057</td>\n",
       "    </tr>\n",
       "    <tr>\n",
       "      <th>2</th>\n",
       "      <td>0.031183</td>\n",
       "      <td>0.984529</td>\n",
       "    </tr>\n",
       "    <tr>\n",
       "      <th>3</th>\n",
       "      <td>0.061195</td>\n",
       "      <td>0.996047</td>\n",
       "    </tr>\n",
       "    <tr>\n",
       "      <th>4</th>\n",
       "      <td>0.070620</td>\n",
       "      <td>0.999391</td>\n",
       "    </tr>\n",
       "    <tr>\n",
       "      <th>5</th>\n",
       "      <td>0.097241</td>\n",
       "      <td>0.999848</td>\n",
       "    </tr>\n",
       "    <tr>\n",
       "      <th>6</th>\n",
       "      <td>0.112507</td>\n",
       "      <td>0.999972</td>\n",
       "    </tr>\n",
       "    <tr>\n",
       "      <th>7</th>\n",
       "      <td>0.598794</td>\n",
       "      <td>0.998998</td>\n",
       "    </tr>\n",
       "    <tr>\n",
       "      <th>8</th>\n",
       "      <td>1.239050</td>\n",
       "      <td>0.996241</td>\n",
       "    </tr>\n",
       "    <tr>\n",
       "      <th>9</th>\n",
       "      <td>5.556711</td>\n",
       "      <td>0.783333</td>\n",
       "    </tr>\n",
       "    <tr>\n",
       "      <th>10</th>\n",
       "      <td>10.789283</td>\n",
       "      <td>0.374169</td>\n",
       "    </tr>\n",
       "  </tbody>\n",
       "</table>\n",
       "</div>"
      ],
      "text/plain": [
       "      lb_stat  lb_pvalue\n",
       "1    0.008613   0.926057\n",
       "2    0.031183   0.984529\n",
       "3    0.061195   0.996047\n",
       "4    0.070620   0.999391\n",
       "5    0.097241   0.999848\n",
       "6    0.112507   0.999972\n",
       "7    0.598794   0.998998\n",
       "8    1.239050   0.996241\n",
       "9    5.556711   0.783333\n",
       "10  10.789283   0.374169"
      ]
     },
     "execution_count": 59,
     "metadata": {},
     "output_type": "execute_result"
    }
   ],
   "source": [
    "test"
   ]
  },
  {
   "cell_type": "code",
   "execution_count": 60,
   "metadata": {},
   "outputs": [
    {
     "data": {
      "text/plain": [
       "[('Ljung-Box statistic', 'lb_stat'), ('p-value', 'lb_pvalue')]"
      ]
     },
     "execution_count": 60,
     "metadata": {},
     "output_type": "execute_result"
    }
   ],
   "source": [
    "# Ljung-Box autocorrelation test for residuals\n",
    "name=['Ljung-Box statistic', 'p-value']\n",
    "test=sms.acorr_ljungbox(dp2r, lags=10)\n",
    "lzip(name,test)"
   ]
  },
  {
   "cell_type": "code",
   "execution_count": 61,
   "metadata": {},
   "outputs": [
    {
     "data": {
      "text/html": [
       "<div>\n",
       "<style scoped>\n",
       "    .dataframe tbody tr th:only-of-type {\n",
       "        vertical-align: middle;\n",
       "    }\n",
       "\n",
       "    .dataframe tbody tr th {\n",
       "        vertical-align: top;\n",
       "    }\n",
       "\n",
       "    .dataframe thead th {\n",
       "        text-align: right;\n",
       "    }\n",
       "</style>\n",
       "<table border=\"1\" class=\"dataframe\">\n",
       "  <thead>\n",
       "    <tr style=\"text-align: right;\">\n",
       "      <th></th>\n",
       "      <th>lb_stat</th>\n",
       "      <th>lb_pvalue</th>\n",
       "    </tr>\n",
       "  </thead>\n",
       "  <tbody>\n",
       "    <tr>\n",
       "      <th>1</th>\n",
       "      <td>0.027407</td>\n",
       "      <td>0.868510</td>\n",
       "    </tr>\n",
       "    <tr>\n",
       "      <th>2</th>\n",
       "      <td>0.028079</td>\n",
       "      <td>0.986059</td>\n",
       "    </tr>\n",
       "    <tr>\n",
       "      <th>3</th>\n",
       "      <td>0.110905</td>\n",
       "      <td>0.990497</td>\n",
       "    </tr>\n",
       "    <tr>\n",
       "      <th>4</th>\n",
       "      <td>0.135988</td>\n",
       "      <td>0.997791</td>\n",
       "    </tr>\n",
       "    <tr>\n",
       "      <th>5</th>\n",
       "      <td>0.452841</td>\n",
       "      <td>0.993748</td>\n",
       "    </tr>\n",
       "    <tr>\n",
       "      <th>6</th>\n",
       "      <td>0.614912</td>\n",
       "      <td>0.996147</td>\n",
       "    </tr>\n",
       "    <tr>\n",
       "      <th>7</th>\n",
       "      <td>1.124163</td>\n",
       "      <td>0.992570</td>\n",
       "    </tr>\n",
       "    <tr>\n",
       "      <th>8</th>\n",
       "      <td>1.456637</td>\n",
       "      <td>0.993405</td>\n",
       "    </tr>\n",
       "    <tr>\n",
       "      <th>9</th>\n",
       "      <td>10.886474</td>\n",
       "      <td>0.283571</td>\n",
       "    </tr>\n",
       "    <tr>\n",
       "      <th>10</th>\n",
       "      <td>24.019077</td>\n",
       "      <td>0.007550</td>\n",
       "    </tr>\n",
       "  </tbody>\n",
       "</table>\n",
       "</div>"
      ],
      "text/plain": [
       "      lb_stat  lb_pvalue\n",
       "1    0.027407   0.868510\n",
       "2    0.028079   0.986059\n",
       "3    0.110905   0.990497\n",
       "4    0.135988   0.997791\n",
       "5    0.452841   0.993748\n",
       "6    0.614912   0.996147\n",
       "7    1.124163   0.992570\n",
       "8    1.456637   0.993405\n",
       "9   10.886474   0.283571\n",
       "10  24.019077   0.007550"
      ]
     },
     "execution_count": 61,
     "metadata": {},
     "output_type": "execute_result"
    }
   ],
   "source": [
    "test"
   ]
  },
  {
   "cell_type": "code",
   "execution_count": null,
   "metadata": {},
   "outputs": [],
   "source": []
  }
 ],
 "metadata": {
  "kernelspec": {
   "display_name": "Python 3",
   "language": "python",
   "name": "python3"
  },
  "language_info": {
   "codemirror_mode": {
    "name": "ipython",
    "version": 3
   },
   "file_extension": ".py",
   "mimetype": "text/x-python",
   "name": "python",
   "nbconvert_exporter": "python",
   "pygments_lexer": "ipython3",
   "version": "3.7.4"
  }
 },
 "nbformat": 4,
 "nbformat_minor": 5
}
